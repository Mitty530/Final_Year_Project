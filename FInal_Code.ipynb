{
  "cells": [
    {
      "cell_type": "markdown",
      "metadata": {
        "id": "view-in-github",
        "colab_type": "text"
      },
      "source": [
        "<a href=\"https://colab.research.google.com/github/Mitty530/Final_Year_Project/blob/main/FInal_Code.ipynb\" target=\"_parent\"><img src=\"https://colab.research.google.com/assets/colab-badge.svg\" alt=\"Open In Colab\"/></a>"
      ]
    },
    {
      "cell_type": "code",
      "execution_count": 1,
      "metadata": {
        "colab": {
          "base_uri": "https://localhost:8080/"
        },
        "collapsed": true,
        "id": "f3ff769f",
        "outputId": "4b1ccd23-c8b8-4682-9bf8-07725a5ffcbb"
      },
      "outputs": [
        {
          "output_type": "stream",
          "name": "stdout",
          "text": [
            "Collecting dataprep\n",
            "  Downloading dataprep-0.4.3-py3-none-any.whl (9.5 MB)\n",
            "\u001b[K     |████████████████████████████████| 9.5 MB 4.7 MB/s \n",
            "\u001b[?25hCollecting python-Levenshtein<0.13.0,>=0.12.2\n",
            "  Downloading python-Levenshtein-0.12.2.tar.gz (50 kB)\n",
            "\u001b[K     |████████████████████████████████| 50 kB 3.7 MB/s \n",
            "\u001b[?25hCollecting regex<2022.0.0,>=2021.8.3\n",
            "  Downloading regex-2021.11.10-cp37-cp37m-manylinux_2_17_x86_64.manylinux2014_x86_64.whl (749 kB)\n",
            "\u001b[K     |████████████████████████████████| 749 kB 37.8 MB/s \n",
            "\u001b[?25hCollecting pydantic<2.0,>=1.6\n",
            "  Downloading pydantic-1.9.0-cp37-cp37m-manylinux_2_17_x86_64.manylinux2014_x86_64.whl (10.9 MB)\n",
            "\u001b[K     |████████████████████████████████| 10.9 MB 30.4 MB/s \n",
            "\u001b[?25hRequirement already satisfied: ipywidgets<8.0,>=7.5 in /usr/local/lib/python3.7/dist-packages (from dataprep) (7.7.0)\n",
            "Requirement already satisfied: sqlalchemy<2.0.0,>=1.4.32 in /usr/local/lib/python3.7/dist-packages (from dataprep) (1.4.35)\n",
            "Requirement already satisfied: pandas<2.0,>=1.1 in /usr/local/lib/python3.7/dist-packages (from dataprep) (1.3.5)\n",
            "Requirement already satisfied: scipy<=1.7.1 in /usr/local/lib/python3.7/dist-packages (from dataprep) (1.4.1)\n",
            "Collecting jsonpath-ng<2.0,>=1.5\n",
            "  Downloading jsonpath_ng-1.5.3-py3-none-any.whl (29 kB)\n",
            "Collecting python-stdnum<2.0,>=1.16\n",
            "  Downloading python_stdnum-1.17-py2.py3-none-any.whl (943 kB)\n",
            "\u001b[K     |████████████████████████████████| 943 kB 37.3 MB/s \n",
            "\u001b[?25hCollecting wordcloud<2.0,>=1.8\n",
            "  Downloading wordcloud-1.8.1-cp37-cp37m-manylinux1_x86_64.whl (366 kB)\n",
            "\u001b[K     |████████████████████████████████| 366 kB 31.7 MB/s \n",
            "\u001b[?25hCollecting python-crfsuite<0.10.0,>=0.9.7\n",
            "  Downloading python_crfsuite-0.9.8-cp37-cp37m-manylinux_2_17_x86_64.manylinux2014_x86_64.whl (965 kB)\n",
            "\u001b[K     |████████████████████████████████| 965 kB 30.7 MB/s \n",
            "\u001b[?25hCollecting aiohttp<4.0,>=3.6\n",
            "  Downloading aiohttp-3.8.1-cp37-cp37m-manylinux_2_5_x86_64.manylinux1_x86_64.manylinux_2_12_x86_64.manylinux2010_x86_64.whl (1.1 MB)\n",
            "\u001b[K     |████████████████████████████████| 1.1 MB 28.9 MB/s \n",
            "\u001b[?25hCollecting dask[array,dataframe,delayed]<2022.0,>=2021.11\n",
            "  Downloading dask-2021.12.0-py3-none-any.whl (1.0 MB)\n",
            "\u001b[K     |████████████████████████████████| 1.0 MB 38.1 MB/s \n",
            "\u001b[?25hCollecting jinja2<4,>=3\n",
            "  Downloading Jinja2-3.1.1-py3-none-any.whl (132 kB)\n",
            "\u001b[K     |████████████████████████████████| 132 kB 32.6 MB/s \n",
            "\u001b[?25hCollecting pystache<0.7.0,>=0.6.0\n",
            "  Downloading pystache-0.6.0.tar.gz (78 kB)\n",
            "\u001b[K     |████████████████████████████████| 78 kB 4.9 MB/s \n",
            "\u001b[?25h  Installing build dependencies ... \u001b[?25l\u001b[?25hdone\n",
            "  Getting requirements to build wheel ... \u001b[?25l\u001b[?25hdone\n",
            "    Preparing wheel metadata ... \u001b[?25l\u001b[?25hdone\n",
            "Requirement already satisfied: bokeh<3,>=2 in /usr/local/lib/python3.7/dist-packages (from dataprep) (2.3.3)\n",
            "Requirement already satisfied: tqdm<5.0,>=4.48 in /usr/local/lib/python3.7/dist-packages (from dataprep) (4.64.0)\n",
            "Collecting flask<3,>=2\n",
            "  Downloading Flask-2.1.1-py3-none-any.whl (95 kB)\n",
            "\u001b[K     |████████████████████████████████| 95 kB 3.8 MB/s \n",
            "\u001b[?25hCollecting metaphone<0.7,>=0.6\n",
            "  Downloading Metaphone-0.6.tar.gz (14 kB)\n",
            "Requirement already satisfied: numpy<2.0,>=1.21 in /usr/local/lib/python3.7/dist-packages (from dataprep) (1.21.5)\n",
            "Collecting nltk<4.0.0,>=3.6.7\n",
            "  Downloading nltk-3.7-py3-none-any.whl (1.5 MB)\n",
            "\u001b[K     |████████████████████████████████| 1.5 MB 27.4 MB/s \n",
            "\u001b[?25hCollecting varname<0.9.0,>=0.8.1\n",
            "  Downloading varname-0.8.3-py3-none-any.whl (21 kB)\n",
            "Collecting flask_cors<4.0.0,>=3.0.10\n",
            "  Downloading Flask_Cors-3.0.10-py2.py3-none-any.whl (14 kB)\n",
            "Collecting aiosignal>=1.1.2\n",
            "  Downloading aiosignal-1.2.0-py3-none-any.whl (8.2 kB)\n",
            "Collecting frozenlist>=1.1.1\n",
            "  Downloading frozenlist-1.3.0-cp37-cp37m-manylinux_2_5_x86_64.manylinux1_x86_64.manylinux_2_17_x86_64.manylinux2014_x86_64.whl (144 kB)\n",
            "\u001b[K     |████████████████████████████████| 144 kB 32.7 MB/s \n",
            "\u001b[?25hCollecting multidict<7.0,>=4.5\n",
            "  Downloading multidict-6.0.2-cp37-cp37m-manylinux_2_17_x86_64.manylinux2014_x86_64.whl (94 kB)\n",
            "\u001b[K     |████████████████████████████████| 94 kB 3.4 MB/s \n",
            "\u001b[?25hRequirement already satisfied: typing-extensions>=3.7.4 in /usr/local/lib/python3.7/dist-packages (from aiohttp<4.0,>=3.6->dataprep) (4.1.1)\n",
            "Collecting yarl<2.0,>=1.0\n",
            "  Downloading yarl-1.7.2-cp37-cp37m-manylinux_2_5_x86_64.manylinux1_x86_64.manylinux_2_12_x86_64.manylinux2010_x86_64.whl (271 kB)\n",
            "\u001b[K     |████████████████████████████████| 271 kB 49.3 MB/s \n",
            "\u001b[?25hCollecting async-timeout<5.0,>=4.0.0a3\n",
            "  Downloading async_timeout-4.0.2-py3-none-any.whl (5.8 kB)\n",
            "Collecting asynctest==0.13.0\n",
            "  Downloading asynctest-0.13.0-py3-none-any.whl (26 kB)\n",
            "Requirement already satisfied: charset-normalizer<3.0,>=2.0 in /usr/local/lib/python3.7/dist-packages (from aiohttp<4.0,>=3.6->dataprep) (2.0.12)\n",
            "Requirement already satisfied: attrs>=17.3.0 in /usr/local/lib/python3.7/dist-packages (from aiohttp<4.0,>=3.6->dataprep) (21.4.0)\n",
            "Requirement already satisfied: python-dateutil>=2.1 in /usr/local/lib/python3.7/dist-packages (from bokeh<3,>=2->dataprep) (2.8.2)\n",
            "Requirement already satisfied: pillow>=7.1.0 in /usr/local/lib/python3.7/dist-packages (from bokeh<3,>=2->dataprep) (7.1.2)\n",
            "Requirement already satisfied: tornado>=5.1 in /usr/local/lib/python3.7/dist-packages (from bokeh<3,>=2->dataprep) (5.1.1)\n",
            "Requirement already satisfied: PyYAML>=3.10 in /usr/local/lib/python3.7/dist-packages (from bokeh<3,>=2->dataprep) (3.13)\n",
            "Requirement already satisfied: packaging>=16.8 in /usr/local/lib/python3.7/dist-packages (from bokeh<3,>=2->dataprep) (21.3)\n",
            "Collecting fsspec>=0.6.0\n",
            "  Downloading fsspec-2022.3.0-py3-none-any.whl (136 kB)\n",
            "\u001b[K     |████████████████████████████████| 136 kB 37.1 MB/s \n",
            "\u001b[?25hRequirement already satisfied: cloudpickle>=1.1.1 in /usr/local/lib/python3.7/dist-packages (from dask[array,dataframe,delayed]<2022.0,>=2021.11->dataprep) (1.3.0)\n",
            "Requirement already satisfied: toolz>=0.8.2 in /usr/local/lib/python3.7/dist-packages (from dask[array,dataframe,delayed]<2022.0,>=2021.11->dataprep) (0.11.2)\n",
            "Collecting partd>=0.3.10\n",
            "  Downloading partd-1.2.0-py3-none-any.whl (19 kB)\n",
            "Collecting Werkzeug>=2.0\n",
            "  Downloading Werkzeug-2.1.1-py3-none-any.whl (224 kB)\n",
            "\u001b[K     |████████████████████████████████| 224 kB 50.3 MB/s \n",
            "\u001b[?25hRequirement already satisfied: importlib-metadata>=3.6.0 in /usr/local/lib/python3.7/dist-packages (from flask<3,>=2->dataprep) (4.11.3)\n",
            "Collecting click>=8.0\n",
            "  Downloading click-8.1.2-py3-none-any.whl (96 kB)\n",
            "\u001b[K     |████████████████████████████████| 96 kB 5.9 MB/s \n",
            "\u001b[?25hCollecting itsdangerous>=2.0\n",
            "  Downloading itsdangerous-2.1.2-py3-none-any.whl (15 kB)\n",
            "Requirement already satisfied: Six in /usr/local/lib/python3.7/dist-packages (from flask_cors<4.0.0,>=3.0.10->dataprep) (1.15.0)\n",
            "Requirement already satisfied: zipp>=0.5 in /usr/local/lib/python3.7/dist-packages (from importlib-metadata>=3.6.0->flask<3,>=2->dataprep) (3.8.0)\n",
            "Requirement already satisfied: ipython-genutils~=0.2.0 in /usr/local/lib/python3.7/dist-packages (from ipywidgets<8.0,>=7.5->dataprep) (0.2.0)\n",
            "Requirement already satisfied: nbformat>=4.2.0 in /usr/local/lib/python3.7/dist-packages (from ipywidgets<8.0,>=7.5->dataprep) (5.3.0)\n",
            "Requirement already satisfied: ipykernel>=4.5.1 in /usr/local/lib/python3.7/dist-packages (from ipywidgets<8.0,>=7.5->dataprep) (4.10.1)\n",
            "Requirement already satisfied: widgetsnbextension~=3.6.0 in /usr/local/lib/python3.7/dist-packages (from ipywidgets<8.0,>=7.5->dataprep) (3.6.0)\n",
            "Requirement already satisfied: ipython>=4.0.0 in /usr/local/lib/python3.7/dist-packages (from ipywidgets<8.0,>=7.5->dataprep) (5.5.0)\n",
            "Requirement already satisfied: jupyterlab-widgets>=1.0.0 in /usr/local/lib/python3.7/dist-packages (from ipywidgets<8.0,>=7.5->dataprep) (1.1.0)\n",
            "Requirement already satisfied: traitlets>=4.3.1 in /usr/local/lib/python3.7/dist-packages (from ipywidgets<8.0,>=7.5->dataprep) (5.1.1)\n",
            "Requirement already satisfied: jupyter-client in /usr/local/lib/python3.7/dist-packages (from ipykernel>=4.5.1->ipywidgets<8.0,>=7.5->dataprep) (5.3.5)\n",
            "Requirement already satisfied: decorator in /usr/local/lib/python3.7/dist-packages (from ipython>=4.0.0->ipywidgets<8.0,>=7.5->dataprep) (4.4.2)\n",
            "Requirement already satisfied: prompt-toolkit<2.0.0,>=1.0.4 in /usr/local/lib/python3.7/dist-packages (from ipython>=4.0.0->ipywidgets<8.0,>=7.5->dataprep) (1.0.18)\n",
            "Requirement already satisfied: pygments in /usr/local/lib/python3.7/dist-packages (from ipython>=4.0.0->ipywidgets<8.0,>=7.5->dataprep) (2.6.1)\n",
            "Requirement already satisfied: simplegeneric>0.8 in /usr/local/lib/python3.7/dist-packages (from ipython>=4.0.0->ipywidgets<8.0,>=7.5->dataprep) (0.8.1)\n",
            "Requirement already satisfied: pickleshare in /usr/local/lib/python3.7/dist-packages (from ipython>=4.0.0->ipywidgets<8.0,>=7.5->dataprep) (0.7.5)\n",
            "Requirement already satisfied: setuptools>=18.5 in /usr/local/lib/python3.7/dist-packages (from ipython>=4.0.0->ipywidgets<8.0,>=7.5->dataprep) (57.4.0)\n",
            "Requirement already satisfied: pexpect in /usr/local/lib/python3.7/dist-packages (from ipython>=4.0.0->ipywidgets<8.0,>=7.5->dataprep) (4.8.0)\n",
            "Requirement already satisfied: MarkupSafe>=2.0 in /usr/local/lib/python3.7/dist-packages (from jinja2<4,>=3->dataprep) (2.0.1)\n",
            "Collecting ply\n",
            "  Downloading ply-3.11-py2.py3-none-any.whl (49 kB)\n",
            "\u001b[K     |████████████████████████████████| 49 kB 5.7 MB/s \n",
            "\u001b[?25hRequirement already satisfied: fastjsonschema in /usr/local/lib/python3.7/dist-packages (from nbformat>=4.2.0->ipywidgets<8.0,>=7.5->dataprep) (2.15.3)\n",
            "Requirement already satisfied: jupyter-core in /usr/local/lib/python3.7/dist-packages (from nbformat>=4.2.0->ipywidgets<8.0,>=7.5->dataprep) (4.9.2)\n",
            "Requirement already satisfied: jsonschema>=2.6 in /usr/local/lib/python3.7/dist-packages (from nbformat>=4.2.0->ipywidgets<8.0,>=7.5->dataprep) (4.3.3)\n",
            "Requirement already satisfied: importlib-resources>=1.4.0 in /usr/local/lib/python3.7/dist-packages (from jsonschema>=2.6->nbformat>=4.2.0->ipywidgets<8.0,>=7.5->dataprep) (5.6.0)\n",
            "Requirement already satisfied: pyrsistent!=0.17.0,!=0.17.1,!=0.17.2,>=0.14.0 in /usr/local/lib/python3.7/dist-packages (from jsonschema>=2.6->nbformat>=4.2.0->ipywidgets<8.0,>=7.5->dataprep) (0.18.1)\n",
            "Requirement already satisfied: joblib in /usr/local/lib/python3.7/dist-packages (from nltk<4.0.0,>=3.6.7->dataprep) (1.1.0)\n",
            "Requirement already satisfied: pyparsing!=3.0.5,>=2.0.2 in /usr/local/lib/python3.7/dist-packages (from packaging>=16.8->bokeh<3,>=2->dataprep) (3.0.8)\n",
            "Requirement already satisfied: pytz>=2017.3 in /usr/local/lib/python3.7/dist-packages (from pandas<2.0,>=1.1->dataprep) (2018.9)\n",
            "Collecting locket\n",
            "  Downloading locket-0.2.1-py2.py3-none-any.whl (4.1 kB)\n",
            "Requirement already satisfied: wcwidth in /usr/local/lib/python3.7/dist-packages (from prompt-toolkit<2.0.0,>=1.0.4->ipython>=4.0.0->ipywidgets<8.0,>=7.5->dataprep) (0.2.5)\n",
            "Requirement already satisfied: greenlet!=0.4.17 in /usr/local/lib/python3.7/dist-packages (from sqlalchemy<2.0.0,>=1.4.32->dataprep) (1.1.2)\n",
            "Collecting executing<0.9.0,>=0.8.3\n",
            "  Downloading executing-0.8.3-py2.py3-none-any.whl (16 kB)\n",
            "Collecting asttokens<3.0.0,>=2.0.0\n",
            "  Downloading asttokens-2.0.5-py2.py3-none-any.whl (20 kB)\n",
            "Collecting pure_eval<1.0.0\n",
            "  Downloading pure_eval-0.2.2-py3-none-any.whl (11 kB)\n",
            "Requirement already satisfied: notebook>=4.4.1 in /usr/local/lib/python3.7/dist-packages (from widgetsnbextension~=3.6.0->ipywidgets<8.0,>=7.5->dataprep) (5.3.1)\n",
            "Requirement already satisfied: Send2Trash in /usr/local/lib/python3.7/dist-packages (from notebook>=4.4.1->widgetsnbextension~=3.6.0->ipywidgets<8.0,>=7.5->dataprep) (1.8.0)\n",
            "Requirement already satisfied: terminado>=0.8.1 in /usr/local/lib/python3.7/dist-packages (from notebook>=4.4.1->widgetsnbextension~=3.6.0->ipywidgets<8.0,>=7.5->dataprep) (0.13.3)\n",
            "Requirement already satisfied: nbconvert in /usr/local/lib/python3.7/dist-packages (from notebook>=4.4.1->widgetsnbextension~=3.6.0->ipywidgets<8.0,>=7.5->dataprep) (5.6.1)\n",
            "Requirement already satisfied: pyzmq>=13 in /usr/local/lib/python3.7/dist-packages (from jupyter-client->ipykernel>=4.5.1->ipywidgets<8.0,>=7.5->dataprep) (22.3.0)\n",
            "Requirement already satisfied: ptyprocess in /usr/local/lib/python3.7/dist-packages (from terminado>=0.8.1->notebook>=4.4.1->widgetsnbextension~=3.6.0->ipywidgets<8.0,>=7.5->dataprep) (0.7.0)\n",
            "Requirement already satisfied: matplotlib in /usr/local/lib/python3.7/dist-packages (from wordcloud<2.0,>=1.8->dataprep) (3.2.2)\n",
            "Requirement already satisfied: idna>=2.0 in /usr/local/lib/python3.7/dist-packages (from yarl<2.0,>=1.0->aiohttp<4.0,>=3.6->dataprep) (2.10)\n",
            "Requirement already satisfied: cycler>=0.10 in /usr/local/lib/python3.7/dist-packages (from matplotlib->wordcloud<2.0,>=1.8->dataprep) (0.11.0)\n",
            "Requirement already satisfied: kiwisolver>=1.0.1 in /usr/local/lib/python3.7/dist-packages (from matplotlib->wordcloud<2.0,>=1.8->dataprep) (1.4.2)\n",
            "Requirement already satisfied: mistune<2,>=0.8.1 in /usr/local/lib/python3.7/dist-packages (from nbconvert->notebook>=4.4.1->widgetsnbextension~=3.6.0->ipywidgets<8.0,>=7.5->dataprep) (0.8.4)\n",
            "Requirement already satisfied: defusedxml in /usr/local/lib/python3.7/dist-packages (from nbconvert->notebook>=4.4.1->widgetsnbextension~=3.6.0->ipywidgets<8.0,>=7.5->dataprep) (0.7.1)\n",
            "Requirement already satisfied: entrypoints>=0.2.2 in /usr/local/lib/python3.7/dist-packages (from nbconvert->notebook>=4.4.1->widgetsnbextension~=3.6.0->ipywidgets<8.0,>=7.5->dataprep) (0.4)\n",
            "Requirement already satisfied: pandocfilters>=1.4.1 in /usr/local/lib/python3.7/dist-packages (from nbconvert->notebook>=4.4.1->widgetsnbextension~=3.6.0->ipywidgets<8.0,>=7.5->dataprep) (1.5.0)\n",
            "Requirement already satisfied: bleach in /usr/local/lib/python3.7/dist-packages (from nbconvert->notebook>=4.4.1->widgetsnbextension~=3.6.0->ipywidgets<8.0,>=7.5->dataprep) (5.0.0)\n",
            "Requirement already satisfied: testpath in /usr/local/lib/python3.7/dist-packages (from nbconvert->notebook>=4.4.1->widgetsnbextension~=3.6.0->ipywidgets<8.0,>=7.5->dataprep) (0.6.0)\n",
            "Requirement already satisfied: webencodings in /usr/local/lib/python3.7/dist-packages (from bleach->nbconvert->notebook>=4.4.1->widgetsnbextension~=3.6.0->ipywidgets<8.0,>=7.5->dataprep) (0.5.1)\n",
            "Building wheels for collected packages: metaphone, pystache, python-Levenshtein\n",
            "  Building wheel for metaphone (setup.py) ... \u001b[?25l\u001b[?25hdone\n",
            "  Created wheel for metaphone: filename=Metaphone-0.6-py3-none-any.whl size=13918 sha256=9def43f99a7633a3a29aabe13eeb37a21ecf366f2b334ac6ec5a7b174214bd72\n",
            "  Stored in directory: /root/.cache/pip/wheels/1d/a8/cb/6f8902aa5457bd71344e00665c230e9c45255b3f57f2194a0f\n",
            "  Building wheel for pystache (PEP 517) ... \u001b[?25l\u001b[?25hdone\n",
            "  Created wheel for pystache: filename=pystache-0.6.0-py3-none-any.whl size=83635 sha256=67230b2a668a81c0083953f9cee447688fe6db605fba371ee16df9690937b075\n",
            "  Stored in directory: /root/.cache/pip/wheels/78/87/45/383bd15701a08a94c735e9eaf3ff3299655684aaca63bbad96\n",
            "  Building wheel for python-Levenshtein (setup.py) ... \u001b[?25l\u001b[?25hdone\n",
            "  Created wheel for python-Levenshtein: filename=python_Levenshtein-0.12.2-cp37-cp37m-linux_x86_64.whl size=149861 sha256=51e3f33397d53d36f8c02b2fb49b01a7107883e619ccbb154d618b791683b33f\n",
            "  Stored in directory: /root/.cache/pip/wheels/05/5f/ca/7c4367734892581bb5ff896f15027a932c551080b2abd3e00d\n",
            "Successfully built metaphone pystache python-Levenshtein\n",
            "Installing collected packages: jinja2, locket, Werkzeug, partd, multidict, itsdangerous, fsspec, frozenlist, click, yarl, regex, pure-eval, ply, flask, executing, dask, asynctest, async-timeout, asttokens, aiosignal, wordcloud, varname, python-stdnum, python-Levenshtein, python-crfsuite, pystache, pydantic, nltk, metaphone, jsonpath-ng, flask-cors, aiohttp, dataprep\n",
            "  Attempting uninstall: jinja2\n",
            "    Found existing installation: Jinja2 2.11.3\n",
            "    Uninstalling Jinja2-2.11.3:\n",
            "      Successfully uninstalled Jinja2-2.11.3\n",
            "  Attempting uninstall: Werkzeug\n",
            "    Found existing installation: Werkzeug 1.0.1\n",
            "    Uninstalling Werkzeug-1.0.1:\n",
            "      Successfully uninstalled Werkzeug-1.0.1\n",
            "  Attempting uninstall: itsdangerous\n",
            "    Found existing installation: itsdangerous 1.1.0\n",
            "    Uninstalling itsdangerous-1.1.0:\n",
            "      Successfully uninstalled itsdangerous-1.1.0\n",
            "  Attempting uninstall: click\n",
            "    Found existing installation: click 7.1.2\n",
            "    Uninstalling click-7.1.2:\n",
            "      Successfully uninstalled click-7.1.2\n",
            "  Attempting uninstall: regex\n",
            "    Found existing installation: regex 2019.12.20\n",
            "    Uninstalling regex-2019.12.20:\n",
            "      Successfully uninstalled regex-2019.12.20\n",
            "  Attempting uninstall: flask\n",
            "    Found existing installation: Flask 1.1.4\n",
            "    Uninstalling Flask-1.1.4:\n",
            "      Successfully uninstalled Flask-1.1.4\n",
            "  Attempting uninstall: dask\n",
            "    Found existing installation: dask 2.12.0\n",
            "    Uninstalling dask-2.12.0:\n",
            "      Successfully uninstalled dask-2.12.0\n",
            "  Attempting uninstall: wordcloud\n",
            "    Found existing installation: wordcloud 1.5.0\n",
            "    Uninstalling wordcloud-1.5.0:\n",
            "      Successfully uninstalled wordcloud-1.5.0\n",
            "  Attempting uninstall: nltk\n",
            "    Found existing installation: nltk 3.2.5\n",
            "    Uninstalling nltk-3.2.5:\n",
            "      Successfully uninstalled nltk-3.2.5\n",
            "\u001b[31mERROR: pip's dependency resolver does not currently take into account all the packages that are installed. This behaviour is the source of the following dependency conflicts.\n",
            "datascience 0.10.6 requires folium==0.2.1, but you have folium 0.8.3 which is incompatible.\u001b[0m\n",
            "Successfully installed Werkzeug-2.1.1 aiohttp-3.8.1 aiosignal-1.2.0 asttokens-2.0.5 async-timeout-4.0.2 asynctest-0.13.0 click-8.1.2 dask-2021.12.0 dataprep-0.4.3 executing-0.8.3 flask-2.1.1 flask-cors-3.0.10 frozenlist-1.3.0 fsspec-2022.3.0 itsdangerous-2.1.2 jinja2-3.1.1 jsonpath-ng-1.5.3 locket-0.2.1 metaphone-0.6 multidict-6.0.2 nltk-3.7 partd-1.2.0 ply-3.11 pure-eval-0.2.2 pydantic-1.9.0 pystache-0.6.0 python-Levenshtein-0.12.2 python-crfsuite-0.9.8 python-stdnum-1.17 regex-2021.11.10 varname-0.8.3 wordcloud-1.8.1 yarl-1.7.2\n"
          ]
        }
      ],
      "source": [
        "pip install dataprep"
      ],
      "id": "f3ff769f"
    },
    {
      "cell_type": "code",
      "execution_count": 2,
      "metadata": {
        "colab": {
          "base_uri": "https://localhost:8080/"
        },
        "id": "udwLfsnynThH",
        "outputId": "578a4a93-76ca-4123-fa3a-c486c43181b2"
      },
      "outputs": [
        {
          "output_type": "stream",
          "name": "stdout",
          "text": [
            "Mounted at /content/drive\n"
          ]
        }
      ],
      "source": [
        "from google.colab import drive\n",
        "drive.mount('/content/drive')"
      ],
      "id": "udwLfsnynThH"
    },
    {
      "cell_type": "code",
      "execution_count": 3,
      "metadata": {
        "id": "98f77e4c"
      },
      "outputs": [],
      "source": [
        "import pandas as pd\n",
        "import numpy as np\n",
        "import matplotlib\n",
        "import matplotlib.pyplot as plt\n",
        "import plotly.graph_objects as go\n",
        "from pandas_profiling import ProfileReport\n",
        "import plotly\n",
        "import plotly.graph_objects as go \n",
        "import seaborn as sns\n",
        "%matplotlib inline\n",
        "import pickle\n",
        "import os\n",
        "\n",
        "# Imported Libraries"
      ],
      "id": "98f77e4c"
    },
    {
      "cell_type": "code",
      "execution_count": 4,
      "metadata": {
        "id": "7b555aba"
      },
      "outputs": [],
      "source": [
        "import numpy as np # linear algebra\n",
        "import pandas as pd # data processing, CSV file I/O (e.g. pd.read_csv)\n",
        "import matplotlib.pyplot as plt\n",
        "from sklearn.manifold import TSNE\n",
        "from sklearn.decomposition import PCA, TruncatedSVD\n",
        "import matplotlib.patches as mpatches\n",
        "import time\n",
        "\n",
        "# Classifier Libraries\n",
        "from sklearn.linear_model import LogisticRegression\n",
        "from sklearn.svm import SVC\n",
        "from sklearn.neighbors import KNeighborsClassifier\n",
        "from sklearn.tree import DecisionTreeClassifier\n",
        "from sklearn.ensemble import RandomForestClassifier\n",
        "import collections\n",
        "\n",
        "\n",
        "# Other Libraries\n",
        "from sklearn.model_selection import train_test_split\n",
        "from sklearn.pipeline import make_pipeline\n",
        "from imblearn.pipeline import make_pipeline as imbalanced_make_pipeline\n",
        "from imblearn.over_sampling import SMOTE\n",
        "from imblearn.under_sampling import NearMiss\n",
        "from imblearn.metrics import classification_report_imbalanced\n",
        "from sklearn.model_selection import train_test_split\n",
        "from sklearn.model_selection import StratifiedShuffleSplit\n",
        "from sklearn.metrics import precision_score, recall_score, f1_score, roc_auc_score, accuracy_score, classification_report\n",
        "from collections import Counter\n",
        "from sklearn.model_selection import KFold, StratifiedKFold\n",
        "import warnings\n",
        "warnings.filterwarnings(\"ignore\")"
      ],
      "id": "7b555aba"
    },
    {
      "cell_type": "code",
      "execution_count": 5,
      "metadata": {
        "colab": {
          "base_uri": "https://localhost:8080/",
          "height": 577
        },
        "id": "1Tuji-0enuRY",
        "outputId": "2eb912e6-7e9a-49b9-ee0a-c659f284cdf7"
      },
      "outputs": [
        {
          "output_type": "execute_result",
          "data": {
            "text/plain": [
              "             cc_num                            merchant       category  \\\n",
              "0  2703186189652095          fraud_Rippin, Kub and Mann       misc_net   \n",
              "1      630423337322     fraud_Heller, Gutmann and Zieme    grocery_pos   \n",
              "2    38859492057661                fraud_Lind-Buckridge  entertainment   \n",
              "3  3534093764340240  fraud_Kutch, Hermiston and Farrell  gas_transport   \n",
              "4   375534208663984                 fraud_Keeling-Crist       misc_pos   \n",
              "\n",
              "      amt      first     last gender                        street  \\\n",
              "0    4.97   Jennifer    Banks      F                561 Perry Cove   \n",
              "1  107.23  Stephanie     Gill      F  43039 Riley Greens Suite 393   \n",
              "2  220.11     Edward  Sanchez      M      594 White Dale Suite 530   \n",
              "3   45.00     Jeremy    White      M   9443 Cynthia Court Apt. 038   \n",
              "4   41.96      Tyler   Garcia      M              408 Bradley Rest   \n",
              "\n",
              "             city state  ...  week_Tuesday  week_Wednesday        dist  \\\n",
              "0  Moravian Falls    NC  ...             1               0   78.597568   \n",
              "1          Orient    WA  ...             1               0   30.212176   \n",
              "2      Malad City    ID  ...             1               0  108.206083   \n",
              "3         Boulder    MT  ...             1               0   95.673231   \n",
              "4        Doe Hill    VA  ...             1               0   77.556744   \n",
              "\n",
              "   val_for_agg  trans_date hist_trans_60d  hist_trans_24h  \\\n",
              "0            1  2019-01-01            1.0             5.0   \n",
              "1            1  2019-01-01            1.0             2.0   \n",
              "2            1  2019-01-01            8.0             5.0   \n",
              "3            1  2019-01-01            1.0             6.0   \n",
              "4            1  2019-01-01            1.0             4.0   \n",
              "\n",
              "   hist_fraud_trans_24h  hist_fraud_trans_2h  hist_trans_avg_amt_60d  \n",
              "0                   0.0                  0.0                4.970000  \n",
              "1                   0.0                  0.0               47.737903  \n",
              "2                   0.0                  0.0              377.925000  \n",
              "3                   0.0                  0.0               45.000000  \n",
              "4                   0.0                  0.0               41.960000  \n",
              "\n",
              "[5 rows x 52 columns]"
            ],
            "text/html": [
              "\n",
              "  <div id=\"df-7fd665fd-88ea-4982-ab80-e6fe032ba29b\">\n",
              "    <div class=\"colab-df-container\">\n",
              "      <div>\n",
              "<style scoped>\n",
              "    .dataframe tbody tr th:only-of-type {\n",
              "        vertical-align: middle;\n",
              "    }\n",
              "\n",
              "    .dataframe tbody tr th {\n",
              "        vertical-align: top;\n",
              "    }\n",
              "\n",
              "    .dataframe thead th {\n",
              "        text-align: right;\n",
              "    }\n",
              "</style>\n",
              "<table border=\"1\" class=\"dataframe\">\n",
              "  <thead>\n",
              "    <tr style=\"text-align: right;\">\n",
              "      <th></th>\n",
              "      <th>cc_num</th>\n",
              "      <th>merchant</th>\n",
              "      <th>category</th>\n",
              "      <th>amt</th>\n",
              "      <th>first</th>\n",
              "      <th>last</th>\n",
              "      <th>gender</th>\n",
              "      <th>street</th>\n",
              "      <th>city</th>\n",
              "      <th>state</th>\n",
              "      <th>...</th>\n",
              "      <th>week_Tuesday</th>\n",
              "      <th>week_Wednesday</th>\n",
              "      <th>dist</th>\n",
              "      <th>val_for_agg</th>\n",
              "      <th>trans_date</th>\n",
              "      <th>hist_trans_60d</th>\n",
              "      <th>hist_trans_24h</th>\n",
              "      <th>hist_fraud_trans_24h</th>\n",
              "      <th>hist_fraud_trans_2h</th>\n",
              "      <th>hist_trans_avg_amt_60d</th>\n",
              "    </tr>\n",
              "  </thead>\n",
              "  <tbody>\n",
              "    <tr>\n",
              "      <th>0</th>\n",
              "      <td>2703186189652095</td>\n",
              "      <td>fraud_Rippin, Kub and Mann</td>\n",
              "      <td>misc_net</td>\n",
              "      <td>4.97</td>\n",
              "      <td>Jennifer</td>\n",
              "      <td>Banks</td>\n",
              "      <td>F</td>\n",
              "      <td>561 Perry Cove</td>\n",
              "      <td>Moravian Falls</td>\n",
              "      <td>NC</td>\n",
              "      <td>...</td>\n",
              "      <td>1</td>\n",
              "      <td>0</td>\n",
              "      <td>78.597568</td>\n",
              "      <td>1</td>\n",
              "      <td>2019-01-01</td>\n",
              "      <td>1.0</td>\n",
              "      <td>5.0</td>\n",
              "      <td>0.0</td>\n",
              "      <td>0.0</td>\n",
              "      <td>4.970000</td>\n",
              "    </tr>\n",
              "    <tr>\n",
              "      <th>1</th>\n",
              "      <td>630423337322</td>\n",
              "      <td>fraud_Heller, Gutmann and Zieme</td>\n",
              "      <td>grocery_pos</td>\n",
              "      <td>107.23</td>\n",
              "      <td>Stephanie</td>\n",
              "      <td>Gill</td>\n",
              "      <td>F</td>\n",
              "      <td>43039 Riley Greens Suite 393</td>\n",
              "      <td>Orient</td>\n",
              "      <td>WA</td>\n",
              "      <td>...</td>\n",
              "      <td>1</td>\n",
              "      <td>0</td>\n",
              "      <td>30.212176</td>\n",
              "      <td>1</td>\n",
              "      <td>2019-01-01</td>\n",
              "      <td>1.0</td>\n",
              "      <td>2.0</td>\n",
              "      <td>0.0</td>\n",
              "      <td>0.0</td>\n",
              "      <td>47.737903</td>\n",
              "    </tr>\n",
              "    <tr>\n",
              "      <th>2</th>\n",
              "      <td>38859492057661</td>\n",
              "      <td>fraud_Lind-Buckridge</td>\n",
              "      <td>entertainment</td>\n",
              "      <td>220.11</td>\n",
              "      <td>Edward</td>\n",
              "      <td>Sanchez</td>\n",
              "      <td>M</td>\n",
              "      <td>594 White Dale Suite 530</td>\n",
              "      <td>Malad City</td>\n",
              "      <td>ID</td>\n",
              "      <td>...</td>\n",
              "      <td>1</td>\n",
              "      <td>0</td>\n",
              "      <td>108.206083</td>\n",
              "      <td>1</td>\n",
              "      <td>2019-01-01</td>\n",
              "      <td>8.0</td>\n",
              "      <td>5.0</td>\n",
              "      <td>0.0</td>\n",
              "      <td>0.0</td>\n",
              "      <td>377.925000</td>\n",
              "    </tr>\n",
              "    <tr>\n",
              "      <th>3</th>\n",
              "      <td>3534093764340240</td>\n",
              "      <td>fraud_Kutch, Hermiston and Farrell</td>\n",
              "      <td>gas_transport</td>\n",
              "      <td>45.00</td>\n",
              "      <td>Jeremy</td>\n",
              "      <td>White</td>\n",
              "      <td>M</td>\n",
              "      <td>9443 Cynthia Court Apt. 038</td>\n",
              "      <td>Boulder</td>\n",
              "      <td>MT</td>\n",
              "      <td>...</td>\n",
              "      <td>1</td>\n",
              "      <td>0</td>\n",
              "      <td>95.673231</td>\n",
              "      <td>1</td>\n",
              "      <td>2019-01-01</td>\n",
              "      <td>1.0</td>\n",
              "      <td>6.0</td>\n",
              "      <td>0.0</td>\n",
              "      <td>0.0</td>\n",
              "      <td>45.000000</td>\n",
              "    </tr>\n",
              "    <tr>\n",
              "      <th>4</th>\n",
              "      <td>375534208663984</td>\n",
              "      <td>fraud_Keeling-Crist</td>\n",
              "      <td>misc_pos</td>\n",
              "      <td>41.96</td>\n",
              "      <td>Tyler</td>\n",
              "      <td>Garcia</td>\n",
              "      <td>M</td>\n",
              "      <td>408 Bradley Rest</td>\n",
              "      <td>Doe Hill</td>\n",
              "      <td>VA</td>\n",
              "      <td>...</td>\n",
              "      <td>1</td>\n",
              "      <td>0</td>\n",
              "      <td>77.556744</td>\n",
              "      <td>1</td>\n",
              "      <td>2019-01-01</td>\n",
              "      <td>1.0</td>\n",
              "      <td>4.0</td>\n",
              "      <td>0.0</td>\n",
              "      <td>0.0</td>\n",
              "      <td>41.960000</td>\n",
              "    </tr>\n",
              "  </tbody>\n",
              "</table>\n",
              "<p>5 rows × 52 columns</p>\n",
              "</div>\n",
              "      <button class=\"colab-df-convert\" onclick=\"convertToInteractive('df-7fd665fd-88ea-4982-ab80-e6fe032ba29b')\"\n",
              "              title=\"Convert this dataframe to an interactive table.\"\n",
              "              style=\"display:none;\">\n",
              "        \n",
              "  <svg xmlns=\"http://www.w3.org/2000/svg\" height=\"24px\"viewBox=\"0 0 24 24\"\n",
              "       width=\"24px\">\n",
              "    <path d=\"M0 0h24v24H0V0z\" fill=\"none\"/>\n",
              "    <path d=\"M18.56 5.44l.94 2.06.94-2.06 2.06-.94-2.06-.94-.94-2.06-.94 2.06-2.06.94zm-11 1L8.5 8.5l.94-2.06 2.06-.94-2.06-.94L8.5 2.5l-.94 2.06-2.06.94zm10 10l.94 2.06.94-2.06 2.06-.94-2.06-.94-.94-2.06-.94 2.06-2.06.94z\"/><path d=\"M17.41 7.96l-1.37-1.37c-.4-.4-.92-.59-1.43-.59-.52 0-1.04.2-1.43.59L10.3 9.45l-7.72 7.72c-.78.78-.78 2.05 0 2.83L4 21.41c.39.39.9.59 1.41.59.51 0 1.02-.2 1.41-.59l7.78-7.78 2.81-2.81c.8-.78.8-2.07 0-2.86zM5.41 20L4 18.59l7.72-7.72 1.47 1.35L5.41 20z\"/>\n",
              "  </svg>\n",
              "      </button>\n",
              "      \n",
              "  <style>\n",
              "    .colab-df-container {\n",
              "      display:flex;\n",
              "      flex-wrap:wrap;\n",
              "      gap: 12px;\n",
              "    }\n",
              "\n",
              "    .colab-df-convert {\n",
              "      background-color: #E8F0FE;\n",
              "      border: none;\n",
              "      border-radius: 50%;\n",
              "      cursor: pointer;\n",
              "      display: none;\n",
              "      fill: #1967D2;\n",
              "      height: 32px;\n",
              "      padding: 0 0 0 0;\n",
              "      width: 32px;\n",
              "    }\n",
              "\n",
              "    .colab-df-convert:hover {\n",
              "      background-color: #E2EBFA;\n",
              "      box-shadow: 0px 1px 2px rgba(60, 64, 67, 0.3), 0px 1px 3px 1px rgba(60, 64, 67, 0.15);\n",
              "      fill: #174EA6;\n",
              "    }\n",
              "\n",
              "    [theme=dark] .colab-df-convert {\n",
              "      background-color: #3B4455;\n",
              "      fill: #D2E3FC;\n",
              "    }\n",
              "\n",
              "    [theme=dark] .colab-df-convert:hover {\n",
              "      background-color: #434B5C;\n",
              "      box-shadow: 0px 1px 3px 1px rgba(0, 0, 0, 0.15);\n",
              "      filter: drop-shadow(0px 1px 2px rgba(0, 0, 0, 0.3));\n",
              "      fill: #FFFFFF;\n",
              "    }\n",
              "  </style>\n",
              "\n",
              "      <script>\n",
              "        const buttonEl =\n",
              "          document.querySelector('#df-7fd665fd-88ea-4982-ab80-e6fe032ba29b button.colab-df-convert');\n",
              "        buttonEl.style.display =\n",
              "          google.colab.kernel.accessAllowed ? 'block' : 'none';\n",
              "\n",
              "        async function convertToInteractive(key) {\n",
              "          const element = document.querySelector('#df-7fd665fd-88ea-4982-ab80-e6fe032ba29b');\n",
              "          const dataTable =\n",
              "            await google.colab.kernel.invokeFunction('convertToInteractive',\n",
              "                                                     [key], {});\n",
              "          if (!dataTable) return;\n",
              "\n",
              "          const docLinkHtml = 'Like what you see? Visit the ' +\n",
              "            '<a target=\"_blank\" href=https://colab.research.google.com/notebooks/data_table.ipynb>data table notebook</a>'\n",
              "            + ' to learn more about interactive tables.';\n",
              "          element.innerHTML = '';\n",
              "          dataTable['output_type'] = 'display_data';\n",
              "          await google.colab.output.renderOutput(dataTable, element);\n",
              "          const docLink = document.createElement('div');\n",
              "          docLink.innerHTML = docLinkHtml;\n",
              "          element.appendChild(docLink);\n",
              "        }\n",
              "      </script>\n",
              "    </div>\n",
              "  </div>\n",
              "  "
            ]
          },
          "metadata": {},
          "execution_count": 5
        }
      ],
      "source": [
        "fyp_data = pd.read_csv(\"/content/drive/MyDrive/fyp_data.csv\")\n",
        "fyp_data.head()"
      ],
      "id": "1Tuji-0enuRY"
    },
    {
      "cell_type": "code",
      "execution_count": 6,
      "metadata": {
        "colab": {
          "base_uri": "https://localhost:8080/"
        },
        "id": "39174b22",
        "outputId": "12339958-f9d2-474c-805e-7a282f7d9455"
      },
      "outputs": [
        {
          "output_type": "stream",
          "name": "stdout",
          "text": [
            "<class 'pandas.core.frame.DataFrame'>\n",
            "RangeIndex: 1296715 entries, 0 to 1296714\n",
            "Data columns (total 52 columns):\n",
            " #   Column                   Non-Null Count    Dtype  \n",
            "---  ------                   --------------    -----  \n",
            " 0   cc_num                   1296715 non-null  int64  \n",
            " 1   merchant                 1296715 non-null  object \n",
            " 2   category                 1296715 non-null  object \n",
            " 3   amt                      1296715 non-null  float64\n",
            " 4   first                    1296715 non-null  object \n",
            " 5   last                     1296715 non-null  object \n",
            " 6   gender                   1296715 non-null  object \n",
            " 7   street                   1296715 non-null  object \n",
            " 8   city                     1296715 non-null  object \n",
            " 9   state                    1296715 non-null  object \n",
            " 10  zip                      1296715 non-null  int64  \n",
            " 11  lat                      1296715 non-null  float64\n",
            " 12  long                     1296715 non-null  float64\n",
            " 13  city_pop                 1296715 non-null  int64  \n",
            " 14  job                      1296715 non-null  object \n",
            " 15  trans_num                1296715 non-null  object \n",
            " 16  unix_time                1296715 non-null  int64  \n",
            " 17  merch_lat                1296715 non-null  float64\n",
            " 18  merch_long               1296715 non-null  float64\n",
            " 19  is_fraud                 1296715 non-null  int64  \n",
            " 20  trans_hour               1296715 non-null  int64  \n",
            " 21  day_of_week              1296715 non-null  object \n",
            " 22  trans_month              1296715 non-null  int64  \n",
            " 23  age                      1296715 non-null  float64\n",
            " 24  category_food_dining     1296715 non-null  int64  \n",
            " 25  category_gas_transport   1296715 non-null  int64  \n",
            " 26  category_grocery_net     1296715 non-null  int64  \n",
            " 27  category_grocery_pos     1296715 non-null  int64  \n",
            " 28  category_health_fitness  1296715 non-null  int64  \n",
            " 29  category_home            1296715 non-null  int64  \n",
            " 30  category_kids_pets       1296715 non-null  int64  \n",
            " 31  category_misc_net        1296715 non-null  int64  \n",
            " 32  category_misc_pos        1296715 non-null  int64  \n",
            " 33  category_personal_care   1296715 non-null  int64  \n",
            " 34  category_shopping_net    1296715 non-null  int64  \n",
            " 35  category_shopping_pos    1296715 non-null  int64  \n",
            " 36  category_travel          1296715 non-null  int64  \n",
            " 37  gender_M                 1296715 non-null  int64  \n",
            " 38  week_Monday              1296715 non-null  int64  \n",
            " 39  week_Saturday            1296715 non-null  int64  \n",
            " 40  week_Sunday              1296715 non-null  int64  \n",
            " 41  week_Thursday            1296715 non-null  int64  \n",
            " 42  week_Tuesday             1296715 non-null  int64  \n",
            " 43  week_Wednesday           1296715 non-null  int64  \n",
            " 44  dist                     1296715 non-null  float64\n",
            " 45  val_for_agg              1296715 non-null  int64  \n",
            " 46  trans_date               1296715 non-null  object \n",
            " 47  hist_trans_60d           1296715 non-null  float64\n",
            " 48  hist_trans_24h           1296715 non-null  float64\n",
            " 49  hist_fraud_trans_24h     1296715 non-null  float64\n",
            " 50  hist_fraud_trans_2h      1296715 non-null  float64\n",
            " 51  hist_trans_avg_amt_60d   1296715 non-null  float64\n",
            "dtypes: float64(12), int64(28), object(12)\n",
            "memory usage: 514.4+ MB\n"
          ]
        }
      ],
      "source": [
        "fyp_data.info()"
      ],
      "id": "39174b22"
    },
    {
      "cell_type": "code",
      "execution_count": 7,
      "metadata": {
        "colab": {
          "base_uri": "https://localhost:8080/"
        },
        "id": "11eea30f",
        "outputId": "8793b6fa-1dc6-47e6-f23b-558dca8fb361"
      },
      "outputs": [
        {
          "output_type": "stream",
          "name": "stdout",
          "text": [
            "0    1289209\n",
            "1       7506\n",
            "Name: is_fraud, dtype: int64\n",
            "\n",
            "\n",
            "0    0.994212\n",
            "1    0.005788\n",
            "Name: is_fraud, dtype: float64\n"
          ]
        }
      ],
      "source": [
        "print(fyp_data['is_fraud'].value_counts())\n",
        "print('\\n')\n",
        "print(fyp_data['is_fraud'].value_counts(normalize=True))"
      ],
      "id": "11eea30f"
    },
    {
      "cell_type": "code",
      "execution_count": 8,
      "metadata": {
        "colab": {
          "base_uri": "https://localhost:8080/",
          "height": 378
        },
        "id": "111c62fb",
        "outputId": "5441ba54-6fb1-487e-a10b-576c3dffe7ca"
      },
      "outputs": [
        {
          "output_type": "display_data",
          "data": {
            "text/plain": [
              "<Figure size 432x432 with 1 Axes>"
            ],
            "image/png": "[encoded data removed]"
          },
          "metadata": {}
        }
      ],
      "source": [
        "fyp_data[\"is_fraud\"].value_counts().plot(kind = 'pie',explode=[0, 0.1],figsize=(6, 6),autopct='%1.1f%%',shadow=True)\n",
        "plt.title(\"Fraudulent and Non-Fraudulent Distribution\",fontsize=20)\n",
        "plt.legend([\"Not Fraud\",\"Fraud\"])\n",
        "plt.show()"
      ],
      "id": "111c62fb"
    },
    {
      "cell_type": "code",
      "execution_count": 9,
      "metadata": {
        "colab": {
          "base_uri": "https://localhost:8080/"
        },
        "id": "e269b909",
        "outputId": "bc01a182-4ffb-4a9d-a64c-00d64112b381"
      },
      "outputs": [
        {
          "output_type": "execute_result",
          "data": {
            "text/plain": [
              "0"
            ]
          },
          "metadata": {},
          "execution_count": 9
        }
      ],
      "source": [
        "#Finding null values\n",
        "# Dealing with missing data\n",
        "fyp_data.isnull().sum().max()"
      ],
      "id": "e269b909"
    },
    {
      "cell_type": "code",
      "execution_count": 10,
      "metadata": {
        "colab": {
          "base_uri": "https://localhost:8080/",
          "height": 295
        },
        "id": "94e41d3c",
        "outputId": "46eed7f7-1f46-4e02-fcde-75cabce9ef31"
      },
      "outputs": [
        {
          "output_type": "display_data",
          "data": {
            "text/plain": [
              "<Figure size 1152x288 with 2 Axes>"
            ],
            "image/png": "[encoded data removed]"
          },
          "metadata": {
            "needs_background": "light"
          }
        }
      ],
      "source": [
        "fig, axs = plt.subplots(ncols=2,figsize=(16,4))\n",
        "sns.distplot(fyp_data[fyp_data['is_fraud'] == 1]['amt'], bins=100, ax=axs[0])\n",
        "axs[0].set_title(\"Distribution of Fraud Transactions\")\n",
        "\n",
        "sns.distplot(fyp_data[fyp_data['is_fraud'] == 0]['amt'], bins=100, ax=axs[1])\n",
        "axs[1].set_title(\"Distribution of not Fraud Transactions\")\n",
        "\n",
        "plt.show()\n"
      ],
      "id": "94e41d3c"
    },
    {
      "cell_type": "markdown",
      "metadata": {
        "id": "270e6650"
      },
      "source": [
        "Highlights:\n",
        "This graph shows that most of the fraud transaction amount is less than 500 dollars. This also shows that the fraud transaction is very high for an amount near to 0, let's find that amount. "
      ],
      "id": "270e6650"
    },
    {
      "cell_type": "code",
      "execution_count": 11,
      "metadata": {
        "colab": {
          "base_uri": "https://localhost:8080/"
        },
        "id": "21aabc0b",
        "outputId": "1f8f2336-f3ba-4a1e-b3db-ce3b1bbb38bf"
      },
      "outputs": [
        {
          "output_type": "stream",
          "name": "stdout",
          "text": [
            "Fraud Transaction distribution : \n",
            " 8.75     6\n",
            "18.55    6\n",
            "19.36    5\n",
            "8.78     5\n",
            "9.94     5\n",
            "Name: amt, dtype: int64\n",
            "\n",
            "\n",
            "Maximum amount of fraud transaction -  1376.04\n",
            "Minimum amount of fraud transaction -  1.06\n"
          ]
        }
      ],
      "source": [
        "print(\"Fraud Transaction distribution : \\n\",fyp_data[(fyp_data['is_fraud'] == 1)]['amt'].value_counts().head())\n",
        "print(\"\\n\")\n",
        "print(\"Maximum amount of fraud transaction - \",fyp_data[(fyp_data['is_fraud'] == 1)]['amt'].max())\n",
        "print(\"Minimum amount of fraud transaction - \",fyp_data[(fyp_data['is_fraud'] == 1)]['amt'].min())"
      ],
      "id": "21aabc0b"
    },
    {
      "cell_type": "markdown",
      "metadata": {
        "id": "2a6cc741"
      },
      "source": [
        "#### Highlights\n",
        "\n",
        "There are 6 fraud transactions for 8.75 dollor and 6 fraud transaction for $18.55. And higest fraud transaction amount was 1376.04 and lowest was just 1.06.\n",
        "There are 6 fraud transaction for 8.75 amount. 18.95 Authorization is an account verification method for credit cards that is used to verify a cardholders information without charging the consumer. Instead, an amount of 8.78 is charged on the card to store the credit card information in the form of a token and to determine whether the card is legitimate or not. After creating the token, is then possible to charge the consumer with a new transaction with either Tokenization or Recurring Payments"
      ],
      "id": "2a6cc741"
    },
    {
      "cell_type": "code",
      "execution_count": 12,
      "metadata": {
        "colab": {
          "base_uri": "https://localhost:8080/"
        },
        "id": "cbd5bad7",
        "outputId": "8159ad29-a4bc-4eb6-f3b2-ece28063fd69"
      },
      "outputs": [
        {
          "output_type": "stream",
          "name": "stdout",
          "text": [
            "Genuine Transaction distribution : \n",
            " 1.14    542\n",
            "1.04    538\n",
            "1.25    535\n",
            "1.02    533\n",
            "1.01    523\n",
            "Name: amt, dtype: int64\n",
            "\n",
            "\n",
            "Maximum amount of Genuine transaction -  28948.9\n",
            "Minimum amount of Genuine transaction -  1.0\n"
          ]
        }
      ],
      "source": [
        "print(\"Genuine Transaction distribution : \\n\",fyp_data[(fyp_data['is_fraud'] == 0)]['amt'].value_counts().head())\n",
        "print(\"\\n\")\n",
        "print(\"Maximum amount of Genuine transaction - \",fyp_data[(fyp_data['is_fraud'] == 0)]['amt'].max())\n",
        "print(\"Minimum amount of Genuine transaction - \",fyp_data[(fyp_data['is_fraud'] == 0)]['amt'].min())"
      ],
      "id": "cbd5bad7"
    },
    {
      "cell_type": "code",
      "execution_count": 13,
      "metadata": {
        "colab": {
          "base_uri": "https://localhost:8080/",
          "height": 406
        },
        "id": "28b90503",
        "outputId": "bc3c5d98-99be-49e2-a30e-28438b42bf8c"
      },
      "outputs": [
        {
          "output_type": "display_data",
          "data": {
            "text/plain": [
              "<Figure size 576x432 with 1 Axes>"
            ],
            "image/png": "[encoded data removed]"
          },
          "metadata": {
            "needs_background": "light"
          }
        }
      ],
      "source": [
        "# Time Distribution \n",
        "plt.figure(figsize=(8,6))\n",
        "plt.title('Distribution of Transaction hour', fontsize=14)\n",
        "sns.distplot(fyp_data['trans_hour'], bins=100)\n",
        "plt.show()"
      ],
      "id": "28b90503"
    },
    {
      "cell_type": "markdown",
      "metadata": {
        "id": "3292b27e"
      },
      "source": [
        "#### Highlights\n",
        "\n",
        "By seeing the graph, we can see there are two peaks in the graph and even there are some local peaks. We can think of these as the hour of the day like the peak is the day time when most people do the transactions and the depth is the night time when most people just sleeps. We already know that data contains a credit card transaction for only two days, so there are two peaks for day time and one depth for one night time."
      ],
      "id": "3292b27e"
    },
    {
      "cell_type": "code",
      "execution_count": 14,
      "metadata": {
        "colab": {
          "base_uri": "https://localhost:8080/",
          "height": 296
        },
        "id": "7f9729e3",
        "outputId": "fd17c96b-c271-423d-f3c0-1d245d8fec83"
      },
      "outputs": [
        {
          "output_type": "display_data",
          "data": {
            "text/plain": [
              "<Figure size 1152x288 with 2 Axes>"
            ],
            "image/png": "[encoded data removed]"
          },
          "metadata": {
            "needs_background": "light"
          }
        }
      ],
      "source": [
        "# Distribution of time w.r.t. transactions types\n",
        "fig, axs = plt.subplots(ncols=2, figsize=(16,4))\n",
        "\n",
        "sns.distplot(fyp_data[(fyp_data['is_fraud'] == 1)]['trans_hour'], bins=100, color='red', ax=axs[0])\n",
        "axs[0].set_title(\"Distribution of Fraud Transactions\")\n",
        "\n",
        "sns.distplot(fyp_data[(fyp_data['is_fraud'] == 0)]['trans_hour'], bins=100, color='green', ax=axs[1])\n",
        "axs[1].set_title(\"Distribution of Genuine Transactions\")\n",
        "\n",
        "plt.show()"
      ],
      "id": "7f9729e3"
    },
    {
      "cell_type": "markdown",
      "metadata": {
        "id": "cf96c747"
      },
      "source": [
        "#### Correlation Among Explanatory Variables\n",
        "Having too many features in a model is not always a good thing because it might cause overfitting and worse results when we want to predict values for a new dataset. Thus, if a feature does not improve your model a lot, not adding it may be a better choice.\n",
        "\n",
        "Another important thing is correlation. If there is a very high correlation between two features, keeping both of them is not a good idea most of the time not to cause overfitting. However, this does not mean that you must remove one of the highly correlated features.\n",
        "\n",
        "Let's find out top 10 features which are highly correlated with a price."
      ],
      "id": "cf96c747"
    },
    {
      "cell_type": "code",
      "execution_count": 15,
      "metadata": {
        "colab": {
          "base_uri": "https://localhost:8080/"
        },
        "id": "d9befa78",
        "outputId": "ed45f747-36fa-4c24-821b-798b11f37c9b"
      },
      "outputs": [
        {
          "output_type": "execute_result",
          "data": {
            "text/plain": [
              "is_fraud      1.000000\n",
              "amt           0.219404\n",
              "trans_hour    0.013799\n",
              "Name: is_fraud, dtype: float64"
            ]
          },
          "metadata": {},
          "execution_count": 15
        }
      ],
      "source": [
        "fyp_data[['trans_hour','amt','is_fraud']].corr()['is_fraud'].sort_values(ascending=False).head(10)"
      ],
      "id": "d9befa78"
    },
    {
      "cell_type": "code",
      "execution_count": 16,
      "metadata": {
        "colab": {
          "base_uri": "https://localhost:8080/",
          "height": 282
        },
        "id": "239f066e",
        "outputId": "9b82cfe7-aa67-4678-bb4b-0726243a551f"
      },
      "outputs": [
        {
          "output_type": "display_data",
          "data": {
            "text/plain": [
              "<Figure size 432x288 with 2 Axes>"
            ],
            "image/png": "[encoded data removed]"
          },
          "metadata": {
            "needs_background": "light"
          }
        }
      ],
      "source": [
        "plt.title('Pearson Correlation Matrix')\n",
        "sns.heatmap(fyp_data[['trans_hour', 'amt','is_fraud']].corr(),linewidths=0.25,vmax=0.7,square=True,cmap=\"winter\",\n",
        "            linecolor='w',annot=True);"
      ],
      "id": "239f066e"
    },
    {
      "cell_type": "markdown",
      "metadata": {
        "id": "7d279424"
      },
      "source": [
        "#### Highlights\n",
        "\n",
        "It looks like that no features are highly correlated with any other features."
      ],
      "id": "7d279424"
    },
    {
      "cell_type": "code",
      "execution_count": 17,
      "metadata": {
        "colab": {
          "base_uri": "https://localhost:8080/"
        },
        "id": "d83bf7ac",
        "outputId": "dbeca909-587a-4ed6-f490-3a748d816512"
      },
      "outputs": [
        {
          "output_type": "execute_result",
          "data": {
            "text/plain": [
              "(1296715, 52)"
            ]
          },
          "metadata": {},
          "execution_count": 17
        }
      ],
      "source": [
        "#Lets check the data again after cleaning\n",
        "fyp_data.shape"
      ],
      "id": "d83bf7ac"
    },
    {
      "cell_type": "code",
      "execution_count": 18,
      "metadata": {
        "colab": {
          "base_uri": "https://localhost:8080/"
        },
        "id": "3c5add01",
        "outputId": "3e9088d2-5ad3-4e3d-b45e-a65ac5ff8f87"
      },
      "outputs": [
        {
          "output_type": "execute_result",
          "data": {
            "text/plain": [
              "0    0.994212\n",
              "1    0.005788\n",
              "Name: is_fraud, dtype: float64"
            ]
          },
          "metadata": {},
          "execution_count": 18
        }
      ],
      "source": [
        "fyp_data['is_fraud'].value_counts(normalize=True)"
      ],
      "id": "3c5add01"
    },
    {
      "cell_type": "markdown",
      "metadata": {
        "id": "91f91519"
      },
      "source": [
        "# Feature Engineering"
      ],
      "id": "91f91519"
    },
    {
      "cell_type": "code",
      "execution_count": 19,
      "metadata": {
        "colab": {
          "base_uri": "https://localhost:8080/",
          "height": 993
        },
        "id": "a7e26bb1",
        "outputId": "13973d79-3c9b-4622-eb4f-4904d0e434c0"
      },
      "outputs": [
        {
          "output_type": "display_data",
          "data": {
            "text/plain": [
              "<Figure size 1800x1800 with 42 Axes>"
            ],
            "image/png": "[encoded data removed]"
          },
          "metadata": {
            "needs_background": "light"
          }
        }
      ],
      "source": [
        "fyp_data.hist(figsize = (25,25))\n",
        "plt.show()"
      ],
      "id": "a7e26bb1"
    },
    {
      "cell_type": "code",
      "execution_count": 20,
      "metadata": {
        "id": "bbc82756"
      },
      "outputs": [],
      "source": [
        "# Reset the index\n",
        "fyp_data.reset_index(inplace = True , drop = True)"
      ],
      "id": "bbc82756"
    },
    {
      "cell_type": "markdown",
      "metadata": {
        "id": "23f2df89"
      },
      "source": [
        "#### Scale Amount Feature\n",
        "It is a good idea to scale the data so that the column(feature) with lesser significance might not end up dominating the objective function due to its larger range. like a column like age has a range between 0 to 80, but a column like a salary has ranged from thousands to lakhs, hence, salary column will dominate to predict the outcome even if it may not be important.\n",
        "In addition, features having different unit should also be scaled thus providing each feature equal initial weightage. Like Age in years and Sales in Dollars must be brought down to a common scale before feeding it to the ML algorithm\n",
        "This will result in a better prediction model.\n",
        "PCA Transformation: The description of the data says that all the features went through a PCA transformation (Dimensionality Reduction technique) except for time and amount.\n",
        "\n",
        "Scaling: Keep in mind that in order to implement a PCA transformation features need to be previously scaled.\n",
        "\n",
        "#### 1. Scale amount by Log\n",
        "Scaling using the log: There are two main reasons to use logarithmic scales in charts and graphs.\n",
        "\n",
        "The first is to respond to skewness towards large values; i.e., cases in which one or a few points are much larger than the bulk of the data.\n",
        "The second is to show per cent change or multiplicative factors. \n"
      ],
      "id": "23f2df89"
    },
    {
      "cell_type": "code",
      "execution_count": 21,
      "metadata": {
        "id": "dbd7bc9d"
      },
      "outputs": [],
      "source": [
        "# Scale amount by log\n",
        "fyp_data['amount_log'] = np.log(fyp_data.amt + 0.01)"
      ],
      "id": "dbd7bc9d"
    },
    {
      "cell_type": "markdown",
      "metadata": {
        "id": "4053c05d"
      },
      "source": [
        "#### 2. Scale amount by Standardization\n",
        "Standardization is another scaling technique where the values are centered around the mean with a unit standard deviation. This means that the mean of the attribute becomes zero and the resultant distribution has a unit standard deviation.\n"
      ],
      "id": "4053c05d"
    },
    {
      "cell_type": "code",
      "execution_count": 22,
      "metadata": {
        "id": "efb55d1c"
      },
      "outputs": [],
      "source": [
        "from sklearn.preprocessing import StandardScaler # importing a class from a module of a library\n",
        "\n",
        "ss = StandardScaler() # object of the class StandardScaler ()\n",
        "fyp_data['amount_scaled'] = ss.fit_transform(fyp_data['amt'].values.reshape(-1,1))"
      ],
      "id": "efb55d1c"
    },
    {
      "cell_type": "markdown",
      "metadata": {
        "id": "e8826473"
      },
      "source": [
        "#### 3. Scale amount by Normalization\n",
        "Normalization is a scaling technique in which values are shifted and rescaled so that they end up ranging between 0 and 1. It is also known as Min-Max scaling.\n",
        "\n"
      ],
      "id": "e8826473"
    },
    {
      "cell_type": "code",
      "execution_count": 23,
      "metadata": {
        "id": "a12d088d"
      },
      "outputs": [],
      "source": [
        "from sklearn.preprocessing import MinMaxScaler\n",
        "\n",
        "mm = MinMaxScaler() # object of the class StandardScaler ()\n",
        "fyp_data['amount_minmax'] = mm.fit_transform(fyp_data['amt'].values.reshape(-1,1))"
      ],
      "id": "a12d088d"
    },
    {
      "cell_type": "code",
      "execution_count": 24,
      "metadata": {
        "colab": {
          "base_uri": "https://localhost:8080/",
          "height": 296
        },
        "id": "0f8a5cf2",
        "outputId": "2edaa1b1-993c-401c-bca0-dadf445672ed"
      },
      "outputs": [
        {
          "output_type": "display_data",
          "data": {
            "text/plain": [
              "<Figure size 1152x288 with 4 Axes>"
            ],
            "image/png": "[encoded data removed]"
          },
          "metadata": {
            "needs_background": "light"
          }
        }
      ],
      "source": [
        "#Feature engineering to a better visualization of the values\n",
        "\n",
        "# Let's explore the Amount by Class and see the distribuition of Amount transactions\n",
        "fig , axs = plt.subplots(nrows = 1 , ncols = 4 , figsize = (16,4))\n",
        "\n",
        "sns.boxplot(x =\"is_fraud\",y=\"amt\",data=fyp_data, ax = axs[0])\n",
        "axs[0].set_title(\"Is_fraud vs Amount\")\n",
        "\n",
        "sns.boxplot(x =\"is_fraud\",y=\"amount_log\",data=fyp_data, ax = axs[1])\n",
        "axs[1].set_title(\"Is_fraud vs Log Amount\")\n",
        "\n",
        "sns.boxplot(x =\"is_fraud\",y=\"amount_scaled\",data=fyp_data, ax = axs[2])\n",
        "axs[2].set_title(\"is_fraud vs Scaled Amount\")\n",
        "\n",
        "sns.boxplot(x =\"is_fraud\",y=\"amount_minmax\",data=fyp_data, ax = axs[3])\n",
        "axs[3].set_title(\"Is_fraud vs Min Max Amount\")\n",
        "\n",
        "# fig.suptitle('Amount by Class', fontsize=20)\n",
        "plt.show()\n"
      ],
      "id": "0f8a5cf2"
    },
    {
      "cell_type": "markdown",
      "metadata": {
        "id": "32585700"
      },
      "source": [
        "#### Hightlights\n",
        "\n",
        "We can see a slight difference in the log amount of our two Classes.\n",
        "The IQR of fraudulent transactions are higher than normal transactions, but normal transactions have the highest values.\n",
        "By seeing the above three graphs, I think scaling the amount by log will best suit for our model."
      ],
      "id": "32585700"
    },
    {
      "cell_type": "markdown",
      "metadata": {
        "id": "8ba2c2cd"
      },
      "source": [
        "### Saving preprossed data as serialized files\n",
        "To deploy the predictive models built we save them along with the required data files as serialized file objects\n",
        "We save cleaned and processed input data, tuned predictive models as files so that they can later be re-used/shared\n"
      ],
      "id": "8ba2c2cd"
    },
    {
      "cell_type": "code",
      "execution_count": 25,
      "metadata": {
        "colab": {
          "base_uri": "https://localhost:8080/"
        },
        "id": "a4c47971",
        "outputId": "dcb1500c-cff5-46aa-cdf9-0b7e521185c6"
      },
      "outputs": [
        {
          "output_type": "stream",
          "name": "stdout",
          "text": [
            "pickle file is saved at Location: /content\n"
          ]
        }
      ],
      "source": [
        "CreditCardFraudDataCleaned = fyp_data\n",
        "\n",
        "# Saving the Python objects as serialized files can be done using pickle library\n",
        "# Here let us save the Final Data set after all the transformations as a file\n",
        "with open('CreditCardFraudDataCleaned.pkl', 'wb') as fileWriteStream:\n",
        "    pickle.dump(CreditCardFraudDataCleaned, fileWriteStream)\n",
        "    # Don't forget to close the filestream!\n",
        "    fileWriteStream.close()\n",
        "    \n",
        "print('pickle file is saved at Location:',os.getcwd())"
      ],
      "id": "a4c47971"
    },
    {
      "cell_type": "code",
      "execution_count": 26,
      "metadata": {
        "colab": {
          "base_uri": "https://localhost:8080/",
          "height": 577
        },
        "id": "e48ed81b",
        "outputId": "cf78a424-caf8-464d-92f8-f0ea86e9f197"
      },
      "outputs": [
        {
          "output_type": "execute_result",
          "data": {
            "text/plain": [
              "             cc_num                            merchant       category  \\\n",
              "0  2703186189652095          fraud_Rippin, Kub and Mann       misc_net   \n",
              "1      630423337322     fraud_Heller, Gutmann and Zieme    grocery_pos   \n",
              "2    38859492057661                fraud_Lind-Buckridge  entertainment   \n",
              "3  3534093764340240  fraud_Kutch, Hermiston and Farrell  gas_transport   \n",
              "4   375534208663984                 fraud_Keeling-Crist       misc_pos   \n",
              "\n",
              "      amt      first     last gender                        street  \\\n",
              "0    4.97   Jennifer    Banks      F                561 Perry Cove   \n",
              "1  107.23  Stephanie     Gill      F  43039 Riley Greens Suite 393   \n",
              "2  220.11     Edward  Sanchez      M      594 White Dale Suite 530   \n",
              "3   45.00     Jeremy    White      M   9443 Cynthia Court Apt. 038   \n",
              "4   41.96      Tyler   Garcia      M              408 Bradley Rest   \n",
              "\n",
              "             city state  ...  val_for_agg  trans_date  hist_trans_60d  \\\n",
              "0  Moravian Falls    NC  ...            1  2019-01-01             1.0   \n",
              "1          Orient    WA  ...            1  2019-01-01             1.0   \n",
              "2      Malad City    ID  ...            1  2019-01-01             8.0   \n",
              "3         Boulder    MT  ...            1  2019-01-01             1.0   \n",
              "4        Doe Hill    VA  ...            1  2019-01-01             1.0   \n",
              "\n",
              "   hist_trans_24h hist_fraud_trans_24h hist_fraud_trans_2h  \\\n",
              "0             5.0                  0.0                 0.0   \n",
              "1             2.0                  0.0                 0.0   \n",
              "2             5.0                  0.0                 0.0   \n",
              "3             6.0                  0.0                 0.0   \n",
              "4             4.0                  0.0                 0.0   \n",
              "\n",
              "   hist_trans_avg_amt_60d  amount_log  amount_scaled  amount_minmax  \n",
              "0                4.970000    1.605430      -0.407827       0.000137  \n",
              "1               47.737903    4.675069       0.230048       0.003670  \n",
              "2              377.925000    5.394173       0.934167       0.007569  \n",
              "3               45.000000    3.806885      -0.158129       0.001520  \n",
              "4               41.960000    3.736955      -0.177091       0.001415  \n",
              "\n",
              "[5 rows x 55 columns]"
            ],
            "text/html": [
              "\n",
              "  <div id=\"df-598d99b7-1fef-434b-8fc7-2ccc62bfcc5f\">\n",
              "    <div class=\"colab-df-container\">\n",
              "      <div>\n",
              "<style scoped>\n",
              "    .dataframe tbody tr th:only-of-type {\n",
              "        vertical-align: middle;\n",
              "    }\n",
              "\n",
              "    .dataframe tbody tr th {\n",
              "        vertical-align: top;\n",
              "    }\n",
              "\n",
              "    .dataframe thead th {\n",
              "        text-align: right;\n",
              "    }\n",
              "</style>\n",
              "<table border=\"1\" class=\"dataframe\">\n",
              "  <thead>\n",
              "    <tr style=\"text-align: right;\">\n",
              "      <th></th>\n",
              "      <th>cc_num</th>\n",
              "      <th>merchant</th>\n",
              "      <th>category</th>\n",
              "      <th>amt</th>\n",
              "      <th>first</th>\n",
              "      <th>last</th>\n",
              "      <th>gender</th>\n",
              "      <th>street</th>\n",
              "      <th>city</th>\n",
              "      <th>state</th>\n",
              "      <th>...</th>\n",
              "      <th>val_for_agg</th>\n",
              "      <th>trans_date</th>\n",
              "      <th>hist_trans_60d</th>\n",
              "      <th>hist_trans_24h</th>\n",
              "      <th>hist_fraud_trans_24h</th>\n",
              "      <th>hist_fraud_trans_2h</th>\n",
              "      <th>hist_trans_avg_amt_60d</th>\n",
              "      <th>amount_log</th>\n",
              "      <th>amount_scaled</th>\n",
              "      <th>amount_minmax</th>\n",
              "    </tr>\n",
              "  </thead>\n",
              "  <tbody>\n",
              "    <tr>\n",
              "      <th>0</th>\n",
              "      <td>2703186189652095</td>\n",
              "      <td>fraud_Rippin, Kub and Mann</td>\n",
              "      <td>misc_net</td>\n",
              "      <td>4.97</td>\n",
              "      <td>Jennifer</td>\n",
              "      <td>Banks</td>\n",
              "      <td>F</td>\n",
              "      <td>561 Perry Cove</td>\n",
              "      <td>Moravian Falls</td>\n",
              "      <td>NC</td>\n",
              "      <td>...</td>\n",
              "      <td>1</td>\n",
              "      <td>2019-01-01</td>\n",
              "      <td>1.0</td>\n",
              "      <td>5.0</td>\n",
              "      <td>0.0</td>\n",
              "      <td>0.0</td>\n",
              "      <td>4.970000</td>\n",
              "      <td>1.605430</td>\n",
              "      <td>-0.407827</td>\n",
              "      <td>0.000137</td>\n",
              "    </tr>\n",
              "    <tr>\n",
              "      <th>1</th>\n",
              "      <td>630423337322</td>\n",
              "      <td>fraud_Heller, Gutmann and Zieme</td>\n",
              "      <td>grocery_pos</td>\n",
              "      <td>107.23</td>\n",
              "      <td>Stephanie</td>\n",
              "      <td>Gill</td>\n",
              "      <td>F</td>\n",
              "      <td>43039 Riley Greens Suite 393</td>\n",
              "      <td>Orient</td>\n",
              "      <td>WA</td>\n",
              "      <td>...</td>\n",
              "      <td>1</td>\n",
              "      <td>2019-01-01</td>\n",
              "      <td>1.0</td>\n",
              "      <td>2.0</td>\n",
              "      <td>0.0</td>\n",
              "      <td>0.0</td>\n",
              "      <td>47.737903</td>\n",
              "      <td>4.675069</td>\n",
              "      <td>0.230048</td>\n",
              "      <td>0.003670</td>\n",
              "    </tr>\n",
              "    <tr>\n",
              "      <th>2</th>\n",
              "      <td>38859492057661</td>\n",
              "      <td>fraud_Lind-Buckridge</td>\n",
              "      <td>entertainment</td>\n",
              "      <td>220.11</td>\n",
              "      <td>Edward</td>\n",
              "      <td>Sanchez</td>\n",
              "      <td>M</td>\n",
              "      <td>594 White Dale Suite 530</td>\n",
              "      <td>Malad City</td>\n",
              "      <td>ID</td>\n",
              "      <td>...</td>\n",
              "      <td>1</td>\n",
              "      <td>2019-01-01</td>\n",
              "      <td>8.0</td>\n",
              "      <td>5.0</td>\n",
              "      <td>0.0</td>\n",
              "      <td>0.0</td>\n",
              "      <td>377.925000</td>\n",
              "      <td>5.394173</td>\n",
              "      <td>0.934167</td>\n",
              "      <td>0.007569</td>\n",
              "    </tr>\n",
              "    <tr>\n",
              "      <th>3</th>\n",
              "      <td>3534093764340240</td>\n",
              "      <td>fraud_Kutch, Hermiston and Farrell</td>\n",
              "      <td>gas_transport</td>\n",
              "      <td>45.00</td>\n",
              "      <td>Jeremy</td>\n",
              "      <td>White</td>\n",
              "      <td>M</td>\n",
              "      <td>9443 Cynthia Court Apt. 038</td>\n",
              "      <td>Boulder</td>\n",
              "      <td>MT</td>\n",
              "      <td>...</td>\n",
              "      <td>1</td>\n",
              "      <td>2019-01-01</td>\n",
              "      <td>1.0</td>\n",
              "      <td>6.0</td>\n",
              "      <td>0.0</td>\n",
              "      <td>0.0</td>\n",
              "      <td>45.000000</td>\n",
              "      <td>3.806885</td>\n",
              "      <td>-0.158129</td>\n",
              "      <td>0.001520</td>\n",
              "    </tr>\n",
              "    <tr>\n",
              "      <th>4</th>\n",
              "      <td>375534208663984</td>\n",
              "      <td>fraud_Keeling-Crist</td>\n",
              "      <td>misc_pos</td>\n",
              "      <td>41.96</td>\n",
              "      <td>Tyler</td>\n",
              "      <td>Garcia</td>\n",
              "      <td>M</td>\n",
              "      <td>408 Bradley Rest</td>\n",
              "      <td>Doe Hill</td>\n",
              "      <td>VA</td>\n",
              "      <td>...</td>\n",
              "      <td>1</td>\n",
              "      <td>2019-01-01</td>\n",
              "      <td>1.0</td>\n",
              "      <td>4.0</td>\n",
              "      <td>0.0</td>\n",
              "      <td>0.0</td>\n",
              "      <td>41.960000</td>\n",
              "      <td>3.736955</td>\n",
              "      <td>-0.177091</td>\n",
              "      <td>0.001415</td>\n",
              "    </tr>\n",
              "  </tbody>\n",
              "</table>\n",
              "<p>5 rows × 55 columns</p>\n",
              "</div>\n",
              "      <button class=\"colab-df-convert\" onclick=\"convertToInteractive('df-598d99b7-1fef-434b-8fc7-2ccc62bfcc5f')\"\n",
              "              title=\"Convert this dataframe to an interactive table.\"\n",
              "              style=\"display:none;\">\n",
              "        \n",
              "  <svg xmlns=\"http://www.w3.org/2000/svg\" height=\"24px\"viewBox=\"0 0 24 24\"\n",
              "       width=\"24px\">\n",
              "    <path d=\"M0 0h24v24H0V0z\" fill=\"none\"/>\n",
              "    <path d=\"M18.56 5.44l.94 2.06.94-2.06 2.06-.94-2.06-.94-.94-2.06-.94 2.06-2.06.94zm-11 1L8.5 8.5l.94-2.06 2.06-.94-2.06-.94L8.5 2.5l-.94 2.06-2.06.94zm10 10l.94 2.06.94-2.06 2.06-.94-2.06-.94-.94-2.06-.94 2.06-2.06.94z\"/><path d=\"M17.41 7.96l-1.37-1.37c-.4-.4-.92-.59-1.43-.59-.52 0-1.04.2-1.43.59L10.3 9.45l-7.72 7.72c-.78.78-.78 2.05 0 2.83L4 21.41c.39.39.9.59 1.41.59.51 0 1.02-.2 1.41-.59l7.78-7.78 2.81-2.81c.8-.78.8-2.07 0-2.86zM5.41 20L4 18.59l7.72-7.72 1.47 1.35L5.41 20z\"/>\n",
              "  </svg>\n",
              "      </button>\n",
              "      \n",
              "  <style>\n",
              "    .colab-df-container {\n",
              "      display:flex;\n",
              "      flex-wrap:wrap;\n",
              "      gap: 12px;\n",
              "    }\n",
              "\n",
              "    .colab-df-convert {\n",
              "      background-color: #E8F0FE;\n",
              "      border: none;\n",
              "      border-radius: 50%;\n",
              "      cursor: pointer;\n",
              "      display: none;\n",
              "      fill: #1967D2;\n",
              "      height: 32px;\n",
              "      padding: 0 0 0 0;\n",
              "      width: 32px;\n",
              "    }\n",
              "\n",
              "    .colab-df-convert:hover {\n",
              "      background-color: #E2EBFA;\n",
              "      box-shadow: 0px 1px 2px rgba(60, 64, 67, 0.3), 0px 1px 3px 1px rgba(60, 64, 67, 0.15);\n",
              "      fill: #174EA6;\n",
              "    }\n",
              "\n",
              "    [theme=dark] .colab-df-convert {\n",
              "      background-color: #3B4455;\n",
              "      fill: #D2E3FC;\n",
              "    }\n",
              "\n",
              "    [theme=dark] .colab-df-convert:hover {\n",
              "      background-color: #434B5C;\n",
              "      box-shadow: 0px 1px 3px 1px rgba(0, 0, 0, 0.15);\n",
              "      filter: drop-shadow(0px 1px 2px rgba(0, 0, 0, 0.3));\n",
              "      fill: #FFFFFF;\n",
              "    }\n",
              "  </style>\n",
              "\n",
              "      <script>\n",
              "        const buttonEl =\n",
              "          document.querySelector('#df-598d99b7-1fef-434b-8fc7-2ccc62bfcc5f button.colab-df-convert');\n",
              "        buttonEl.style.display =\n",
              "          google.colab.kernel.accessAllowed ? 'block' : 'none';\n",
              "\n",
              "        async function convertToInteractive(key) {\n",
              "          const element = document.querySelector('#df-598d99b7-1fef-434b-8fc7-2ccc62bfcc5f');\n",
              "          const dataTable =\n",
              "            await google.colab.kernel.invokeFunction('convertToInteractive',\n",
              "                                                     [key], {});\n",
              "          if (!dataTable) return;\n",
              "\n",
              "          const docLinkHtml = 'Like what you see? Visit the ' +\n",
              "            '<a target=\"_blank\" href=https://colab.research.google.com/notebooks/data_table.ipynb>data table notebook</a>'\n",
              "            + ' to learn more about interactive tables.';\n",
              "          element.innerHTML = '';\n",
              "          dataTable['output_type'] = 'display_data';\n",
              "          await google.colab.output.renderOutput(dataTable, element);\n",
              "          const docLink = document.createElement('div');\n",
              "          docLink.innerHTML = docLinkHtml;\n",
              "          element.appendChild(docLink);\n",
              "        }\n",
              "      </script>\n",
              "    </div>\n",
              "  </div>\n",
              "  "
            ]
          },
          "metadata": {},
          "execution_count": 26
        }
      ],
      "source": [
        "# Reading a Pickle file\n",
        "with open('CreditCardFraudDataCleaned.pkl', 'rb') as fileReadStream:\n",
        "    CreditCardFraudDataFromPickle = pickle.load(fileReadStream)\n",
        "    # Don't forget to close the filestream!\n",
        "    fileReadStream.close()\n",
        "    \n",
        "# Checking the data read from pickle file. It is exactly same as the DiamondPricesData\n",
        "fyp = CreditCardFraudDataFromPickle\n",
        "fyp.head()"
      ],
      "id": "e48ed81b"
    },
    {
      "cell_type": "code",
      "execution_count": 27,
      "metadata": {
        "colab": {
          "base_uri": "https://localhost:8080/"
        },
        "id": "f7cf5b1b",
        "outputId": "83732ffa-5c72-47d3-b47d-dca09d657030"
      },
      "outputs": [
        {
          "output_type": "execute_result",
          "data": {
            "text/plain": [
              "(1296715, 55)"
            ]
          },
          "metadata": {},
          "execution_count": 27
        }
      ],
      "source": [
        "fyp.shape"
      ],
      "id": "f7cf5b1b"
    },
    {
      "cell_type": "markdown",
      "metadata": {
        "id": "40346232"
      },
      "source": [
        "## Splitting data into Training and Testing samples\n",
        "We don't use the full data for creating the model. Some data is randomly selected and kept aside for checking how good the model is. This is known as Testing Data and the remaining data is called Training data on which the model is built. Typically 70% of data is used as training data and the rest 30% is used as testing data."
      ],
      "id": "40346232"
    },
    {
      "cell_type": "code",
      "execution_count": 28,
      "metadata": {
        "colab": {
          "base_uri": "https://localhost:8080/"
        },
        "collapsed": true,
        "id": "e33c5b45",
        "outputId": "3662e35e-f83a-474f-b526-b72cf6e7826d"
      },
      "outputs": [
        {
          "output_type": "stream",
          "name": "stdout",
          "text": [
            "cc_num                     float64\n",
            "merchant                    object\n",
            "category                    object\n",
            "amt                        float64\n",
            "first                       object\n",
            "last                        object\n",
            "gender                      object\n",
            "street                      object\n",
            "city                        object\n",
            "state                       object\n",
            "zip                        float64\n",
            "lat                        float64\n",
            "long                       float64\n",
            "city_pop                   float64\n",
            "job                         object\n",
            "trans_num                   object\n",
            "unix_time                  float64\n",
            "merch_lat                  float64\n",
            "merch_long                 float64\n",
            "is_fraud                   float64\n",
            "trans_hour                 float64\n",
            "day_of_week                 object\n",
            "trans_month                float64\n",
            "age                        float64\n",
            "category_food_dining       float64\n",
            "category_gas_transport     float64\n",
            "category_grocery_net       float64\n",
            "category_grocery_pos       float64\n",
            "category_health_fitness    float64\n",
            "category_home              float64\n",
            "category_kids_pets         float64\n",
            "category_misc_net          float64\n",
            "category_misc_pos          float64\n",
            "category_personal_care     float64\n",
            "category_shopping_net      float64\n",
            "category_shopping_pos      float64\n",
            "category_travel            float64\n",
            "gender_M                   float64\n",
            "week_Monday                float64\n",
            "week_Saturday              float64\n",
            "week_Sunday                float64\n",
            "week_Thursday              float64\n",
            "week_Tuesday               float64\n",
            "week_Wednesday             float64\n",
            "dist                       float64\n",
            "val_for_agg                float64\n",
            "trans_date                  object\n",
            "hist_trans_60d             float64\n",
            "hist_trans_24h             float64\n",
            "hist_fraud_trans_24h       float64\n",
            "hist_fraud_trans_2h        float64\n",
            "hist_trans_avg_amt_60d     float64\n",
            "amount_log                 float64\n",
            "amount_scaled              float64\n",
            "amount_minmax              float64\n",
            "dtype: object\n"
          ]
        }
      ],
      "source": [
        "for i in fyp.columns:\n",
        "    try:\n",
        "        fyp[[i]] = fyp[[i]].astype(int).astype(float)\n",
        "    except:\n",
        "        pass\n",
        "\n",
        "print(fyp.dtypes)\n",
        "\n"
      ],
      "id": "e33c5b45"
    },
    {
      "cell_type": "code",
      "execution_count": 29,
      "metadata": {
        "id": "dd1d7241"
      },
      "outputs": [],
      "source": [
        "X_cols = ['city_pop', 'trans_hour',\n",
        "       'age', 'category_food_dining', 'category_gas_transport',\n",
        "       'category_grocery_net', 'category_grocery_pos',\n",
        "       'category_health_fitness', 'category_home', 'category_kids_pets',\n",
        "       'category_misc_net', 'category_misc_pos', 'category_personal_care',\n",
        "       'category_shopping_net', 'category_shopping_pos', 'category_travel',\n",
        "       'gender_M','week_Monday','week_Tuesday', 'week_Wednesday','week_Thursday',\n",
        "        'week_Saturday', 'week_Sunday','dist','hist_trans_60d','hist_trans_24h',\n",
        "       'hist_fraud_trans_24h','hist_trans_avg_amt_60d', 'amount_log','amount_scaled','amount_minmax']\n",
        "\n",
        "Y_cols = ['is_fraud']\n",
        "\n"
      ],
      "id": "dd1d7241"
    },
    {
      "cell_type": "code",
      "execution_count": 30,
      "metadata": {
        "id": "2b0560dd"
      },
      "outputs": [],
      "source": [
        "# Separate Target Variable and Predictor Variables\n",
        "# Here I am keeping the log amount and dropping the amount and scaled amount columns.\n",
        "X = fyp[X_cols]  #Feature Matrix\n",
        "y = fyp[Y_cols] "
      ],
      "id": "2b0560dd"
    },
    {
      "cell_type": "code",
      "execution_count": 31,
      "metadata": {
        "id": "a7d704a2"
      },
      "outputs": [],
      "source": [
        "# Split the data into training and testing set\n",
        "X_train, X_test, y_train, y_test = train_test_split(X, y, test_size=0.30, shuffle=True, random_state=101)"
      ],
      "id": "a7d704a2"
    },
    {
      "cell_type": "code",
      "execution_count": 32,
      "metadata": {
        "colab": {
          "base_uri": "https://localhost:8080/"
        },
        "id": "334cbf32",
        "outputId": "2d68d472-af7c-40ba-b6ad-99b49afee39f"
      },
      "outputs": [
        {
          "output_type": "stream",
          "name": "stdout",
          "text": [
            "X_train -  (907700, 31)\n",
            "y_train -  (907700, 1)\n",
            "X_test -  (389015, 31)\n",
            "y_test -  (389015, 1)\n"
          ]
        }
      ],
      "source": [
        "# Quick sanity check with the shapes of Training and testing datasets\n",
        "print(\"X_train - \",X_train.shape)\n",
        "print(\"y_train - \",y_train.shape)\n",
        "print(\"X_test - \",X_test.shape)\n",
        "print(\"y_test - \",y_test.shape)"
      ],
      "id": "334cbf32"
    },
    {
      "cell_type": "code",
      "execution_count": 32,
      "metadata": {
        "id": "4a5f0951"
      },
      "outputs": [],
      "source": [
        ""
      ],
      "id": "4a5f0951"
    },
    {
      "cell_type": "code",
      "execution_count": 32,
      "metadata": {
        "id": "94ba124e"
      },
      "outputs": [],
      "source": [
        ""
      ],
      "id": "94ba124e"
    },
    {
      "cell_type": "markdown",
      "metadata": {
        "id": "bc759561"
      },
      "source": [
        "# Baseline for models\n",
        "We will train four types of classifiers and decide which classifier will be more effective in detecting fraud transactions.\n",
        "\n",
        "Let's Discuss Next Steps -\n",
        "\n",
        "## 1 Classification Models\n",
        "\n",
        "Logistic Regression\n",
        "\n",
        "Decision Trees\n",
        "\n",
        "Random Forest\n",
        "\n",
        "Naive Bayes Classifier\n",
        "\n",
        "## 2 Class Imbalance Solutions\n",
        "\n",
        "Under Sampling\n",
        "\n",
        "Over Sampling\n",
        "\n",
        "SMOTE\n",
        "\n",
        "ADASYN\n",
        "\n",
        "## 3 Metrics\n",
        "\n",
        "Accuracy Score\n",
        "\n",
        "Confusion Matrix\n",
        "\n",
        "Precision Score\n",
        "\n",
        "Recall Score\n",
        "\n",
        "ROC_AUC\n",
        "\n",
        "F1 Score\n",
        "\n",
        "Model Building\n",
        "\n",
        "We are aware that our dataset is highly imbalanced, however, we check the performance of imbalance dataset first and later we implement some techniques to balance the dataset and again check the performance of balanced dataset. Finally, we will compare each regression models performance.\n",
        "\n",
        "### 1. Logistic Regression\n",
        "\n",
        "#### 1.1 Logistic Regression with imbalanced data"
      ],
      "id": "bc759561"
    },
    {
      "cell_type": "code",
      "execution_count": 33,
      "metadata": {
        "colab": {
          "base_uri": "https://localhost:8080/"
        },
        "id": "0f0a878d",
        "outputId": "4e013604-d940-40fc-bc12-749cb7e71c68"
      },
      "outputs": [
        {
          "output_type": "execute_result",
          "data": {
            "text/plain": [
              "LogisticRegression()"
            ]
          },
          "metadata": {},
          "execution_count": 33
        }
      ],
      "source": [
        "from sklearn.linear_model import LogisticRegression # Importing Classifier Step\n",
        "#X_train, X_test, y_train, y_test = train_test_split(X, y, test_size=0.3, shuffle=True, random_state=0) \n",
        "\n",
        "logreg = LogisticRegression()\n",
        "logreg.fit(X_train, y_train) "
      ],
      "id": "0f0a878d"
    },
    {
      "cell_type": "code",
      "execution_count": 34,
      "metadata": {
        "id": "30316838"
      },
      "outputs": [],
      "source": [
        "# Predict from Test set\n",
        "y_pred = logreg.predict(X_test)"
      ],
      "id": "30316838"
    },
    {
      "cell_type": "code",
      "execution_count": 35,
      "metadata": {
        "colab": {
          "base_uri": "https://localhost:8080/"
        },
        "id": "ab7cad2a",
        "outputId": "779b11fd-bcc6-4b21-d2c3-3099d6b6b50b"
      },
      "outputs": [
        {
          "output_type": "stream",
          "name": "stdout",
          "text": [
            "              precision    recall  f1-score   support\n",
            "\n",
            "         0.0       0.99      1.00      1.00    386757\n",
            "         1.0       1.00      0.00      0.01      2258\n",
            "\n",
            "    accuracy                           0.99    389015\n",
            "   macro avg       1.00      0.50      0.50    389015\n",
            "weighted avg       0.99      0.99      0.99    389015\n",
            "\n"
          ]
        }
      ],
      "source": [
        "# Model Evolution\n",
        "from sklearn import metrics\n",
        "# https://en.wikipedia.org/wiki/Precision_and_recall\n",
        "print(metrics.classification_report(y_test, y_pred))"
      ],
      "id": "ab7cad2a"
    },
    {
      "cell_type": "code",
      "execution_count": 36,
      "metadata": {
        "colab": {
          "base_uri": "https://localhost:8080/"
        },
        "id": "4b7ebf0e",
        "outputId": "f35abd3a-bff8-4f23-b18b-d66b61ec577a"
      },
      "outputs": [
        {
          "output_type": "stream",
          "name": "stdout",
          "text": [
            "Accuracy :0.99421\n",
            "AUC : 0.50133\n",
            "Precision : 1.00000\n",
            "Recall : 0.00266\n",
            "F1 : 0.00530\n",
            "\n",
            "\n"
          ]
        }
      ],
      "source": [
        "print('Accuracy :{0:0.5f}'.format(metrics.accuracy_score(y_pred , y_test))) \n",
        "print('AUC : {0:0.5f}'.format(metrics.roc_auc_score(y_test , y_pred)))\n",
        "print('Precision : {0:0.5f}'.format(metrics.precision_score(y_test , y_pred)))\n",
        "print('Recall : {0:0.5f}'.format(metrics.recall_score(y_test , y_pred)))\n",
        "print('F1 : {0:0.5f}'.format(metrics.f1_score(y_test , y_pred)))\n",
        "# print('Confusion Matrix : \\n', cnf_matrix)\n",
        "print(\"\\n\")"
      ],
      "id": "4b7ebf0e"
    },
    {
      "cell_type": "markdown",
      "metadata": {
        "id": "07480d43"
      },
      "source": [
        "#### Confusion Matrix\n",
        "Every problem is different and derives a different set of values for a particular business use case , thus every model must be evaluated differently.\n",
        "\n",
        "Let's get to know the terminology and Structure first\n",
        "\n",
        "A confusion matrix is defined into four parts : { TRUE , FALSE } (Actual) ,{POSITIVE , NEGATIVE} (Predicted) Positive and Negative is what you predict , True and False is what you are told\n",
        "\n",
        "Which brings us to 4 relations : True Positive , True Negative , False Positive , False Negative\n",
        "P redicted - R ows and A ctual as C olumns\n",
        "\n",
        "\n",
        "\n",
        "#### Accuracy , Precision and Recall\n",
        "##### Accuracy : The most used and classic classification metric : Suited for binary classification problems.\n",
        " \n",
        "Basically Rightly predicted results amongst all the results , used when the classes are balanced\n",
        "\n",
        "##### Precision : What proportion of predicted positives are truly positive ? Used when we need to predict the positive thoroughly, sure about it !\n",
        " \n",
        "##### Sensitivity or Recall : What proportion of actual positives is correctly classified ? choice when we want to capture as many positives as possible\n",
        " \n",
        "##### F1 Score : Harmonic mean of Precision and Recall. It basically maintains a balance between the precision and recall for your classifier\n",
        " \n",
        "\n",
        "\n",
        "Precision as the name says, says how precise (how sure) is our model in detecting fraud transactions while recall is the amount of fraud cases our model is able to detect.\n",
        "\n",
        "In reference of our case:\n",
        "\n",
        "Recall (True Positive Rate): % of all fraudulent transactions cases captured.\n",
        "\n",
        "Precision: Out of all items labeled as fraud, what percentage of them is actually fraud?\n",
        "\n",
        "Accuracy: How correct the model is (misleading for fraud/imbalanced data)\n",
        "\n",
        "F1 score: combination of recall and precision into one metric. F1 score is the weighted average of precision and recall, taking BOTH false positives and false negatives into account. Usually much more useful than accuracy, especially with uneven classes."
      ],
      "id": "07480d43"
    },
    {
      "cell_type": "code",
      "execution_count": 37,
      "metadata": {
        "colab": {
          "base_uri": "https://localhost:8080/"
        },
        "id": "9704c913",
        "outputId": "1794529d-aeee-49ff-b5ee-29efaf91eec0"
      },
      "outputs": [
        {
          "output_type": "execute_result",
          "data": {
            "text/plain": [
              "array([[386757,      0],\n",
              "       [  2252,      6]])"
            ]
          },
          "metadata": {},
          "execution_count": 37
        }
      ],
      "source": [
        "cnf_matrix = metrics.confusion_matrix(y_test,y_pred)\n",
        "cnf_matrix"
      ],
      "id": "9704c913"
    },
    {
      "cell_type": "code",
      "execution_count": 38,
      "metadata": {
        "colab": {
          "base_uri": "https://localhost:8080/"
        },
        "id": "5b9e9988",
        "outputId": "a6072296-7e6f-48bf-d376-a00b548739fd"
      },
      "outputs": [
        {
          "output_type": "stream",
          "name": "stdout",
          "text": [
            "TN:  386757\n",
            "FP:  0\n",
            "FN:  2252\n",
            "TP:  6\n",
            "recall =  0.003 precision =  1.0\n",
            "F1 =  0.005\n"
          ]
        }
      ],
      "source": [
        "conf_mx = metrics.confusion_matrix(y_test,y_pred)\n",
        "\n",
        "TN = conf_mx[0,0]\n",
        "FP = conf_mx[0,1]\n",
        "FN = conf_mx[1,0]\n",
        "TP = conf_mx[1,1]\n",
        "\n",
        "print ('TN: ', TN)\n",
        "print ('FP: ', FP)\n",
        "print ('FN: ', FN)\n",
        "print ('TP: ', TP)\n",
        "\n",
        "recall = TP/(TP+FN)\n",
        "precision = TP/(TP+FP)\n",
        "\n",
        "print ('recall = ', round(recall,3), 'precision = ', round(precision,3))\n",
        "\n",
        "F1 = 2 * recall * precision / (recall + precision)\n",
        "print('F1 = ', round(F1,3))"
      ],
      "id": "5b9e9988"
    },
    {
      "cell_type": "code",
      "execution_count": 39,
      "metadata": {
        "id": "0aa3ba8a"
      },
      "outputs": [],
      "source": [
        "def plot_confusion_matrix(cm,target_names,title='Confusion matrix',cmap=None,\n",
        "                          normalize=False):\n",
        "    import itertools\n",
        "    accuracy = np.trace(cm) / float(np.sum(cm))\n",
        "    misclass = 1 - accuracy\n",
        "\n",
        "    if cmap is None:\n",
        "        cmap = plt.get_cmap('Blues')\n",
        "\n",
        "    plt.figure(figsize=(8, 6))\n",
        "    plt.imshow(cm, interpolation='nearest', cmap=cmap)\n",
        "    plt.title(title)\n",
        "    plt.colorbar()\n",
        "\n",
        "    if target_names is not None:\n",
        "        tick_marks = np.arange(len(target_names))\n",
        "        plt.xticks(tick_marks, target_names, rotation=45)\n",
        "        plt.yticks(tick_marks, target_names)\n",
        "        \n",
        "    if normalize:\n",
        "        cm = cm.astype('float') / cm.sum(axis=1)[:, np.newaxis]\n",
        "        \n",
        "    thresh = cm.max() / 1.5 if normalize else cm.max() / 2\n",
        "    for i, j in itertools.product(range(cm.shape[0]), range(cm.shape[1])):\n",
        "        if normalize:\n",
        "            plt.text(j, i, \"{:0.4f}\".format(cm[i, j]),\n",
        "                     horizontalalignment=\"center\",\n",
        "                     color=\"white\" if cm[i, j] > thresh else \"black\")\n",
        "        else:\n",
        "            plt.text(j, i, \"{:,}\".format(cm[i, j]),\n",
        "                     horizontalalignment=\"center\",\n",
        "                     color=\"white\" if cm[i, j] > thresh else \"black\")\n",
        "\n",
        "\n",
        "    plt.tight_layout()\n",
        "    plt.ylabel('True label')\n",
        "    plt.xlabel('Predicted label\\naccuracy={:0.4f}; misclass={:0.4f}'.format(accuracy, misclass))\n",
        "    plt.show()"
      ],
      "id": "0aa3ba8a"
    },
    {
      "cell_type": "code",
      "execution_count": 40,
      "metadata": {
        "colab": {
          "base_uri": "https://localhost:8080/",
          "height": 467
        },
        "id": "1618f35b",
        "outputId": "0252143f-25c0-4679-eebe-d523d8ed47c5"
      },
      "outputs": [
        {
          "output_type": "display_data",
          "data": {
            "text/plain": [
              "<Figure size 576x432 with 2 Axes>"
            ],
            "image/png": "[encoded data removed]"
          },
          "metadata": {
            "needs_background": "light"
          }
        }
      ],
      "source": [
        "plot_confusion_matrix(conf_mx, \n",
        "                      normalize    = False,\n",
        "                      target_names = ['Genuine', 'Fraud'],\n",
        "                      title        = \"Confusion Matrix on test\")"
      ],
      "id": "1618f35b"
    },
    {
      "cell_type": "code",
      "execution_count": 41,
      "metadata": {
        "colab": {
          "base_uri": "https://localhost:8080/",
          "height": 283
        },
        "id": "ccf31453",
        "outputId": "d8aef7d1-9a1c-4ac4-a2bd-b20573212e12"
      },
      "outputs": [
        {
          "output_type": "stream",
          "name": "stdout",
          "text": [
            "f1=0.005\n"
          ]
        },
        {
          "output_type": "display_data",
          "data": {
            "text/plain": [
              "<Figure size 432x288 with 1 Axes>"
            ],
            "image/png": "[encoded data removed]"
          },
          "metadata": {
            "needs_background": "light"
          }
        }
      ],
      "source": [
        "from sklearn.metrics import precision_recall_curve, average_precision_score, auc\n",
        "from sklearn.metrics import roc_curve\n",
        "from sklearn.metrics import roc_auc_score\n",
        "\n",
        "# calculate precision-recall curve\n",
        "precision, recall, thresholds = precision_recall_curve(y_test, y_pred)\n",
        "# calculate F1 score\n",
        "f1 = metrics.f1_score(y_test, y_pred)\n",
        "print('f1=%.3f' % (f1))\n",
        "# plot no skill\n",
        "plt.plot([0, 1], [0.5, 0.5], linestyle='--')\n",
        "# plot the roc curve for the model\n",
        "plt.plot(recall, precision, marker='.')\n",
        "# show the plot\n",
        "plt.show()"
      ],
      "id": "ccf31453"
    },
    {
      "cell_type": "markdown",
      "metadata": {
        "id": "b89b1f0b"
      },
      "source": [
        "## Receiver Operating Characteristics (ROC)\n",
        "The ROC is a performance measurement for classification problems at various thresholds. It is essentially a probability curve, and the higher the Area Under the Curve (AUC) score the better the model is at predicting fraudulent/non-fraudulent transactions.\n",
        "\n",
        "It is an evaluation metric that helps identify the strength of the model to distinguish between two outcomes. It defines if a model can create a clear boundary between the postive and the negative class."
      ],
      "id": "b89b1f0b"
    },
    {
      "cell_type": "markdown",
      "metadata": {
        "id": "900b3a81"
      },
      "source": [
        "## ROC CURVE\n",
        "It is a plot between Sesitivity and ( 1 - Specificity ) , which intuitively is a plot between True Positive Rate and False Positive Rate. It depicts if a model can clearly identify each class or not\n",
        "\n",
        "Higher the area under the curve , better the model and it's ability to seperate the positive and negative class."
      ],
      "id": "900b3a81"
    },
    {
      "cell_type": "markdown",
      "metadata": {
        "id": "32c3f0c7"
      },
      "source": [
        "Note : AUC is not a good metric for imbalanced datasets"
      ],
      "id": "32c3f0c7"
    },
    {
      "cell_type": "code",
      "execution_count": 42,
      "metadata": {
        "colab": {
          "base_uri": "https://localhost:8080/"
        },
        "id": "4b15b0e8",
        "outputId": "a3ee0920-3929-40a4-fb2d-f03a643da1dd"
      },
      "outputs": [
        {
          "output_type": "execute_result",
          "data": {
            "text/plain": [
              "0.5013286093888397"
            ]
          },
          "metadata": {},
          "execution_count": 42
        }
      ],
      "source": [
        "metrics.roc_auc_score(y_test , y_pred) "
      ],
      "id": "4b15b0e8"
    },
    {
      "cell_type": "code",
      "execution_count": 43,
      "metadata": {
        "colab": {
          "base_uri": "https://localhost:8080/"
        },
        "id": "701afb75",
        "outputId": "4ab3a72f-1f7e-4dc8-bc18-326568284f5b"
      },
      "outputs": [
        {
          "output_type": "execute_result",
          "data": {
            "text/plain": [
              "array([[9.83685030e-01, 1.63149697e-02],\n",
              "       [9.97985500e-01, 2.01450017e-03],\n",
              "       [9.93820680e-01, 6.17932012e-03],\n",
              "       ...,\n",
              "       [9.96365105e-01, 3.63489515e-03],\n",
              "       [9.61857470e-01, 3.81425304e-02],\n",
              "       [9.99329040e-01, 6.70959509e-04]])"
            ]
          },
          "metadata": {},
          "execution_count": 43
        }
      ],
      "source": [
        "y_pred_proba = logreg.predict_proba(X_test)\n",
        "y_pred_proba"
      ],
      "id": "701afb75"
    },
    {
      "cell_type": "code",
      "execution_count": 44,
      "metadata": {
        "colab": {
          "base_uri": "https://localhost:8080/",
          "height": 440
        },
        "id": "2480e867",
        "outputId": "957c8bf8-d31d-40af-a493-5f9ea78853c2"
      },
      "outputs": [
        {
          "output_type": "stream",
          "name": "stdout",
          "text": [
            "AUC -  0.5013286093888397 \n",
            "\n"
          ]
        },
        {
          "output_type": "display_data",
          "data": {
            "text/plain": [
              "<Figure size 576x432 with 1 Axes>"
            ],
            "image/png": "[encoded data removed]"
          },
          "metadata": {
            "needs_background": "light"
          }
        }
      ],
      "source": [
        "# plot ROC Curve\n",
        "\n",
        "plt.figure(figsize=(8,6))\n",
        "\n",
        "fpr, tpr, thresholds = metrics.roc_curve(y_test, y_pred)\n",
        "\n",
        "auc = metrics.roc_auc_score(y_test, y_pred)\n",
        "print(\"AUC - \",auc,\"\\n\")\n",
        "\n",
        "plt.plot(fpr,tpr,linewidth=2, label=\"data 1, auc=\"+str(auc))\n",
        "plt.legend(loc=4)\n",
        "\n",
        "plt.plot([0,1], [0,1], 'k--' )\n",
        "\n",
        "plt.rcParams['font.size'] = 12\n",
        "plt.title('ROC curve for Predicting a credit card fraud detection')\n",
        "plt.xlabel('False Positive Rate (1 - Specificity)')\n",
        "plt.ylabel('True Positive Rate (Sensitivity)')\n",
        "\n",
        "plt.show()"
      ],
      "id": "2480e867"
    },
    {
      "cell_type": "markdown",
      "metadata": {
        "id": "f1f96e6b"
      },
      "source": [
        "# Class Imbalance\n",
        "Imbalanced data typically refers to a problem with classification problems where the classes are not represented equally. If one applies classifiers on the dataset, they are likely to predict everything as the majority class. This was often regarded as a problem in learning from highly imbalanced datasets"
      ],
      "id": "f1f96e6b"
    },
    {
      "cell_type": "markdown",
      "metadata": {
        "id": "da595e9c"
      },
      "source": [
        "##### Let's Fix the class Imbalance and apply some sampling techniques.\n",
        "\n",
        "Ref : https://machinelearningmastery.com/tactics-to-combat-imbalanced-classes-in-your-machine-learning-dataset/\n",
        "\n",
        "## Under Sampling and Over Sampling\n",
        "Oversampling and undersampling in data analysis are techniques used to adjust the class distribution of a data set.\n",
        "\n",
        "## Random oversampling duplicates examples from the minority class in the training dataset and can result in overfitting for some models.\n",
        "\n",
        "## Random undersampling deletes examples from the majority class and can result in losing information invaluable to a model.\n",
        "\n",
        "\n",
        "\n",
        "## Synthetic Minority OverSampling Technique (SMOTE)\n",
        "In this technique, instead of simply duplicating data from the minority class, we synthesize new data from the minority class. This is a type of data augmentation for tabular data can be very effective. This approach to synthesizing new data is called the Synthetic Minority Oversampling TEchnique, or SMOTE for short.\n",
        "\n",
        "\n",
        "\n",
        "## Adaptive Synthetic Sampling Method for Imbalanced Data (ADASYN)\n",
        "ADASYN (Adaptive Synthetic) is an algorithm that generates synthetic data, and its greatest advantages are not copying the same minority data, and generating more data for “harder to learn” examples.\n",
        "\n",
        "Ref : https://medium.com/@ruinian/an-introduction-to-adasyn-with-code-1383a5ece7aa\n",
        "\n",
        "### Import imbalace technique algorithms"
      ],
      "id": "da595e9c"
    },
    {
      "cell_type": "code",
      "execution_count": 45,
      "metadata": {
        "id": "6efb9917"
      },
      "outputs": [],
      "source": [
        "# Import imbalace technique algorithims\n",
        "from sklearn.metrics import precision_score, recall_score, f1_score, roc_auc_score, accuracy_score, classification_report\n",
        "from imblearn.over_sampling import SMOTE, ADASYN\n",
        "from imblearn.under_sampling import RandomUnderSampler"
      ],
      "id": "6efb9917"
    },
    {
      "cell_type": "markdown",
      "metadata": {
        "id": "e1174ee3"
      },
      "source": [
        "### 1.2.Logistic Regression with Random Undersampling technique"
      ],
      "id": "e1174ee3"
    },
    {
      "cell_type": "code",
      "execution_count": 46,
      "metadata": {
        "id": "4b506380"
      },
      "outputs": [],
      "source": [
        "from collections import Counter # counter takes values returns value_counts dictionary\n",
        "from sklearn.datasets import make_classification"
      ],
      "id": "4b506380"
    },
    {
      "cell_type": "code",
      "execution_count": 47,
      "metadata": {
        "colab": {
          "base_uri": "https://localhost:8080/"
        },
        "id": "72e91c6a",
        "outputId": "06672125-cf0e-4281-aa28-fc41a8d94870"
      },
      "outputs": [
        {
          "output_type": "stream",
          "name": "stdout",
          "text": [
            "X_train -  (907700, 31)\n",
            "y_train -  (907700, 1)\n",
            "X_test -  (389015, 31)\n",
            "y_test -  (389015, 1)\n"
          ]
        }
      ],
      "source": [
        "# Split BEFORE any oversampling - prevent data leakage\n",
        "\n",
        "X_train, X_test, y_train, y_test = train_test_split(X, y, test_size=0.3, shuffle=True, random_state=0)\n",
        "print(\"X_train - \",X_train.shape)\n",
        "print(\"y_train - \",y_train.shape)\n",
        "print(\"X_test - \",X_test.shape)\n",
        "print(\"y_test - \",y_test.shape)"
      ],
      "id": "72e91c6a"
    },
    {
      "cell_type": "code",
      "execution_count": 48,
      "metadata": {
        "colab": {
          "base_uri": "https://localhost:8080/"
        },
        "id": "6fe602a7",
        "outputId": "5c12fd1f-a7f0-4a2f-e141-61605f8a05ff"
      },
      "outputs": [
        {
          "output_type": "stream",
          "name": "stdout",
          "text": [
            "Original dataset shape Counter({'is_fraud': 1})\n",
            "Resampled dataset shape Counter({'is_fraud': 1})\n",
            "X_train -  (10476, 31)\n",
            "y_train -  (10476, 1)\n",
            "X_test -  (389015, 31)\n",
            "y_test -  (389015, 1)\n"
          ]
        }
      ],
      "source": [
        "# Undersampling only on train\n",
        "\n",
        "print('Original dataset shape %s' % Counter(y_train))\n",
        "random_state = 42\n",
        "\n",
        "rus = RandomUnderSampler(random_state=random_state)\n",
        "X_res, y_res = rus.fit_resample(X_train, y_train)\n",
        "\n",
        "print('Resampled dataset shape %s' % Counter(y_res))\n",
        "\n",
        "X_train = X_res\n",
        "y_train = y_res\n",
        "\n",
        "print(\"X_train - \",X_train.shape)\n",
        "print(\"y_train - \",y_train.shape)\n",
        "print(\"X_test - \",X_test.shape)\n",
        "print(\"y_test - \",y_test.shape)"
      ],
      "id": "6fe602a7"
    },
    {
      "cell_type": "code",
      "execution_count": 49,
      "metadata": {
        "id": "0a0505f2"
      },
      "outputs": [],
      "source": [
        "# Undersampling with Logistic Regression\n",
        "logreg = LogisticRegression()\n",
        "logreg.fit(X_train, y_train)\n",
        "\n",
        "y_pred = logreg.predict(X_test)"
      ],
      "id": "0a0505f2"
    },
    {
      "cell_type": "code",
      "execution_count": 50,
      "metadata": {
        "colab": {
          "base_uri": "https://localhost:8080/"
        },
        "id": "ac4377d3",
        "outputId": "7afabd8d-fdb3-4475-e2c8-9007231dc378"
      },
      "outputs": [
        {
          "output_type": "stream",
          "name": "stdout",
          "text": [
            "TN:  305211\n",
            "FP:  81536\n",
            "FN:  545\n",
            "TP:  1723\n",
            "recall =  0.76 precision =  0.021\n",
            "F1 =  0.04\n"
          ]
        }
      ],
      "source": [
        "conf_mx = metrics.confusion_matrix(y_test,y_pred)\n",
        "\n",
        "TN = conf_mx[0,0]\n",
        "FP = conf_mx[0,1]\n",
        "FN = conf_mx[1,0]\n",
        "TP = conf_mx[1,1]\n",
        "\n",
        "print ('TN: ', TN)\n",
        "print ('FP: ', FP)\n",
        "print ('FN: ', FN)\n",
        "print ('TP: ', TP)\n",
        "\n",
        "recall = TP/(TP+FN)\n",
        "precision = TP/(TP+FP)\n",
        "\n",
        "print ('recall = ', round(recall,3), 'precision = ', round(precision,3))\n",
        "\n",
        "F1 = 2 * recall * precision / (recall + precision)\n",
        "print('F1 = ', round(F1,3))"
      ],
      "id": "ac4377d3"
    },
    {
      "cell_type": "code",
      "execution_count": 51,
      "metadata": {
        "colab": {
          "base_uri": "https://localhost:8080/",
          "height": 469
        },
        "id": "ca8491fa",
        "outputId": "4ced9a42-2e17-4b76-8378-618c72ca7cb9"
      },
      "outputs": [
        {
          "output_type": "display_data",
          "data": {
            "text/plain": [
              "<Figure size 576x432 with 2 Axes>"
            ],
            "image/png": "[encoded data removed]"
          },
          "metadata": {
            "needs_background": "light"
          }
        }
      ],
      "source": [
        "plot_confusion_matrix(conf_mx, \n",
        "                      normalize    = False,\n",
        "                      target_names = ['Genuine', 'Fraud'],\n",
        "                      title        = \"Confusion Matrix on test\")"
      ],
      "id": "ca8491fa"
    },
    {
      "cell_type": "code",
      "execution_count": 52,
      "metadata": {
        "colab": {
          "base_uri": "https://localhost:8080/"
        },
        "id": "75b3fed3",
        "outputId": "a023b4a6-a1df-4d9a-9cf2-14da65fe9440"
      },
      "outputs": [
        {
          "output_type": "stream",
          "name": "stdout",
          "text": [
            "Accuracy :0.78900\n",
            "AUC : 0.77444\n",
            "Precision : 0.02069\n",
            "Recall : 0.75970\n",
            "F1 : 0.04029\n"
          ]
        }
      ],
      "source": [
        "print('Accuracy :{0:0.5f}'.format(metrics.accuracy_score(y_pred , y_test))) \n",
        "print('AUC : {0:0.5f}'.format(metrics.roc_auc_score(y_test , y_pred)))\n",
        "print('Precision : {0:0.5f}'.format(metrics.precision_score(y_test , y_pred)))\n",
        "print('Recall : {0:0.5f}'.format(metrics.recall_score(y_test , y_pred)))\n",
        "print('F1 : {0:0.5f}'.format(metrics.f1_score(y_test , y_pred)))"
      ],
      "id": "75b3fed3"
    },
    {
      "cell_type": "code",
      "execution_count": 53,
      "metadata": {
        "colab": {
          "base_uri": "https://localhost:8080/",
          "height": 286
        },
        "id": "c186af63",
        "outputId": "5e173365-9819-42d8-ee46-1f24ad14f582"
      },
      "outputs": [
        {
          "output_type": "stream",
          "name": "stdout",
          "text": [
            "f1=0.040\n"
          ]
        },
        {
          "output_type": "display_data",
          "data": {
            "text/plain": [
              "<Figure size 432x288 with 1 Axes>"
            ],
            "image/png": "[encoded data removed]"
          },
          "metadata": {
            "needs_background": "light"
          }
        }
      ],
      "source": [
        "# calculate precision-recall curve\n",
        "precision, recall, thresholds = precision_recall_curve(y_test, y_pred)\n",
        "# calculate F1 score\n",
        "f1 = metrics.f1_score(y_test, y_pred)\n",
        "print('f1=%.3f' % (f1))\n",
        "# plot no skill\n",
        "plt.plot([0, 1], [0.5, 0.5], linestyle='--')\n",
        "# plot the roc curve for the model\n",
        "plt.plot(recall, precision, marker='.')\n",
        "# show the plot\n",
        "plt.show()"
      ],
      "id": "c186af63"
    },
    {
      "cell_type": "markdown",
      "metadata": {
        "id": "256b79fa"
      },
      "source": [
        "### 1.3.Logistic Regression with Random Oversampling technique"
      ],
      "id": "256b79fa"
    },
    {
      "cell_type": "code",
      "execution_count": 54,
      "metadata": {
        "id": "b279340f"
      },
      "outputs": [],
      "source": [
        "from imblearn.over_sampling import RandomOverSampler"
      ],
      "id": "b279340f"
    },
    {
      "cell_type": "markdown",
      "metadata": {
        "id": "9ba7453e"
      },
      "source": [
        "Modified the original nb so the test is separated BEFORE any oversampling - to prevent data leakage\n",
        "Identical samples in the train AND test = data leakage....\n",
        "\n",
        "Oversampling is performed ONLY on train\n"
      ],
      "id": "9ba7453e"
    },
    {
      "cell_type": "code",
      "execution_count": 55,
      "metadata": {
        "colab": {
          "base_uri": "https://localhost:8080/"
        },
        "id": "f62a9c25",
        "outputId": "c5861b71-691d-43e2-a941-ce4c6aae6bd5"
      },
      "outputs": [
        {
          "output_type": "stream",
          "name": "stdout",
          "text": [
            "X_train -  (907700, 31)\n",
            "y_train -  (907700, 1)\n",
            "X_test -  (389015, 31)\n",
            "y_test -  (389015, 1)\n"
          ]
        }
      ],
      "source": [
        "# Split BEFORE any oversampling - prevent data leakage\n",
        "\n",
        "X_train, X_test, y_train, y_test = train_test_split(X, y, test_size=0.3, shuffle=True, random_state=0)\n",
        "print(\"X_train - \",X_train.shape)\n",
        "print(\"y_train - \",y_train.shape)\n",
        "print(\"X_test - \",X_test.shape)\n",
        "print(\"y_test - \",y_test.shape)"
      ],
      "id": "f62a9c25"
    },
    {
      "cell_type": "code",
      "execution_count": 56,
      "metadata": {
        "colab": {
          "base_uri": "https://localhost:8080/"
        },
        "id": "d24e521c",
        "outputId": "98a31800-e3f1-4d93-a913-b48b69c74ec4"
      },
      "outputs": [
        {
          "output_type": "stream",
          "name": "stdout",
          "text": [
            "Original dataset shape Counter({'is_fraud': 1})\n",
            "Resampled dataset shape Counter({'is_fraud': 1})\n",
            "X_train -  (1804924, 31)\n",
            "y_train -  (1804924, 1)\n",
            "X_test -  (389015, 31)\n",
            "y_test -  (389015, 1)\n"
          ]
        }
      ],
      "source": [
        "# Oversampling only on train\n",
        "\n",
        "print('Original dataset shape %s' % Counter(y_train))\n",
        "random_state = 42\n",
        "\n",
        "ros = RandomOverSampler(random_state=random_state)\n",
        "X_res, y_res = ros.fit_resample(X_train, y_train)\n",
        "\n",
        "print('Resampled dataset shape %s' % Counter(y_res))\n",
        "\n",
        "X_train = X_res\n",
        "y_train = y_res\n",
        "\n",
        "print(\"X_train - \",X_train.shape)\n",
        "print(\"y_train - \",y_train.shape)\n",
        "print(\"X_test - \",X_test.shape)\n",
        "print(\"y_test - \",y_test.shape)"
      ],
      "id": "d24e521c"
    },
    {
      "cell_type": "code",
      "execution_count": 57,
      "metadata": {
        "id": "c77d8cb2"
      },
      "outputs": [],
      "source": [
        "# Oversampling with Logistic Regression\n",
        "\n",
        "logreg = LogisticRegression()\n",
        "logreg.fit(X_train, y_train)\n",
        "\n",
        "y_pred = logreg.predict(X_test)"
      ],
      "id": "c77d8cb2"
    },
    {
      "cell_type": "code",
      "execution_count": 58,
      "metadata": {
        "colab": {
          "base_uri": "https://localhost:8080/"
        },
        "id": "9d195a28",
        "outputId": "0472f8fc-5c9f-430a-8e72-65b12394fcb4"
      },
      "outputs": [
        {
          "output_type": "stream",
          "name": "stdout",
          "text": [
            "Accuracy :0.84293\n",
            "AUC : 0.81383\n",
            "Precision : 0.02851\n",
            "Recall : 0.78439\n",
            "F1 : 0.05503\n"
          ]
        }
      ],
      "source": [
        "print('Accuracy :{0:0.5f}'.format(metrics.accuracy_score(y_test , y_pred))) \n",
        "print('AUC : {0:0.5f}'.format(metrics.roc_auc_score(y_test , y_pred)))\n",
        "print('Precision : {0:0.5f}'.format(metrics.precision_score(y_test , y_pred)))\n",
        "print('Recall : {0:0.5f}'.format(metrics.recall_score(y_test , y_pred)))\n",
        "print('F1 : {0:0.5f}'.format(metrics.f1_score(y_test , y_pred)))"
      ],
      "id": "9d195a28"
    },
    {
      "cell_type": "code",
      "execution_count": 59,
      "metadata": {
        "colab": {
          "base_uri": "https://localhost:8080/"
        },
        "id": "15a74ecd",
        "outputId": "8c6fb3de-c0ff-4fe7-cdfd-8fa2ef86f19f"
      },
      "outputs": [
        {
          "output_type": "stream",
          "name": "stdout",
          "text": [
            "TN:  326133\n",
            "FP:  60614\n",
            "FN:  489\n",
            "TP:  1779\n",
            "recall =  0.784 precision =  0.029\n",
            "F1 =  0.055\n"
          ]
        }
      ],
      "source": [
        "conf_mx = metrics.confusion_matrix(y_test,y_pred)\n",
        "\n",
        "TN = conf_mx[0,0]\n",
        "FP = conf_mx[0,1]\n",
        "FN = conf_mx[1,0]\n",
        "TP = conf_mx[1,1]\n",
        "\n",
        "print ('TN: ', TN)\n",
        "print ('FP: ', FP)\n",
        "print ('FN: ', FN)\n",
        "print ('TP: ', TP)\n",
        "\n",
        "recall = TP/(TP+FN)\n",
        "precision = TP/(TP+FP)\n",
        "\n",
        "print ('recall = ', round(recall,3), 'precision = ', round(precision,3))\n",
        "\n",
        "F1 = 2 * recall * precision / (recall + precision)\n",
        "print('F1 = ', round(F1,3))"
      ],
      "id": "15a74ecd"
    },
    {
      "cell_type": "code",
      "execution_count": 60,
      "metadata": {
        "colab": {
          "base_uri": "https://localhost:8080/",
          "height": 469
        },
        "id": "d87d5f64",
        "outputId": "781fd534-ba50-4ebf-8fb6-1d400f78e58e"
      },
      "outputs": [
        {
          "output_type": "display_data",
          "data": {
            "text/plain": [
              "<Figure size 576x432 with 2 Axes>"
            ],
            "image/png": "[encoded data removed]"
          },
          "metadata": {
            "needs_background": "light"
          }
        }
      ],
      "source": [
        "plot_confusion_matrix(conf_mx, \n",
        "                      normalize    = False,\n",
        "                      target_names = ['Genuine', 'Fraud'],\n",
        "                      title        = \"Confusion Matrix on test\")"
      ],
      "id": "d87d5f64"
    },
    {
      "cell_type": "markdown",
      "metadata": {
        "id": "6ce8e086"
      },
      "source": [
        "### 1.4 Logistic Regression with SMOTE data"
      ],
      "id": "6ce8e086"
    },
    {
      "cell_type": "code",
      "execution_count": 61,
      "metadata": {
        "id": "9b75e098"
      },
      "outputs": [],
      "source": [
        "from imblearn.over_sampling import SMOTE, ADASYN"
      ],
      "id": "9b75e098"
    },
    {
      "cell_type": "code",
      "execution_count": 62,
      "metadata": {
        "colab": {
          "base_uri": "https://localhost:8080/"
        },
        "id": "e854d21d",
        "outputId": "7fe8374c-038b-4b24-910f-49bd6b31bfe5"
      },
      "outputs": [
        {
          "output_type": "stream",
          "name": "stdout",
          "text": [
            "X_train -  (907700, 31)\n",
            "y_train -  (907700, 1)\n",
            "X_test -  (389015, 31)\n",
            "y_test -  (389015, 1)\n"
          ]
        }
      ],
      "source": [
        "# Split BEFORE any oversampling - prevent data leakage\n",
        "\n",
        "X_train, X_test, y_train, y_test = train_test_split(X, y, test_size=0.3, shuffle=True, random_state=0)\n",
        "print(\"X_train - \",X_train.shape)\n",
        "print(\"y_train - \",y_train.shape)\n",
        "print(\"X_test - \",X_test.shape)\n",
        "print(\"y_test - \",y_test.shape)\n"
      ],
      "id": "e854d21d"
    },
    {
      "cell_type": "code",
      "execution_count": 63,
      "metadata": {
        "colab": {
          "base_uri": "https://localhost:8080/"
        },
        "id": "a5f7d4a0",
        "outputId": "6cab39e7-4f73-4f85-ccec-46bb4fcbab91"
      },
      "outputs": [
        {
          "output_type": "stream",
          "name": "stdout",
          "text": [
            "Original dataset shape Counter({'is_fraud': 1})\n",
            "Resampled dataset shape Counter({'is_fraud': 1})\n",
            "X_train -  (1804924, 31)\n",
            "y_train -  (1804924, 1)\n",
            "X_test -  (389015, 31)\n",
            "y_test -  (389015, 1)\n"
          ]
        }
      ],
      "source": [
        "# Oversampling only on train\n",
        "\n",
        "print('Original dataset shape %s' % Counter(y_train))\n",
        "random_state = 42\n",
        "\n",
        "smote = SMOTE(random_state=42)\n",
        "X_res, y_res = smote.fit_resample(X_train, y_train)\n",
        "\n",
        "print('Resampled dataset shape %s' % Counter(y_res))\n",
        "\n",
        "X_train = X_res\n",
        "y_train = y_res\n",
        "\n",
        "print(\"X_train - \",X_train.shape)\n",
        "print(\"y_train - \",y_train.shape)\n",
        "print(\"X_test - \",X_test.shape)\n",
        "print(\"y_test - \",y_test.shape)"
      ],
      "id": "a5f7d4a0"
    },
    {
      "cell_type": "code",
      "execution_count": 64,
      "metadata": {
        "id": "de52e376"
      },
      "outputs": [],
      "source": [
        "# SMOTE Sampling with Logistic Regression\n",
        "logreg = LogisticRegression(max_iter=1000)\n",
        "logreg.fit(X_train, y_train)\n",
        "\n",
        "y_pred = logreg.predict(X_test)"
      ],
      "id": "de52e376"
    },
    {
      "cell_type": "code",
      "execution_count": 65,
      "metadata": {
        "colab": {
          "base_uri": "https://localhost:8080/"
        },
        "id": "6164d267",
        "outputId": "a75049b7-6e6c-4d25-e50f-808e642fb87a"
      },
      "outputs": [
        {
          "output_type": "stream",
          "name": "stdout",
          "text": [
            "Accuracy :0.79404\n",
            "AUC : 0.76711\n",
            "Precision : 0.02066\n",
            "Recall : 0.73986\n",
            "F1 : 0.04020\n"
          ]
        }
      ],
      "source": [
        "print('Accuracy :{0:0.5f}'.format(metrics.accuracy_score(y_test , y_pred))) \n",
        "print('AUC : {0:0.5f}'.format(metrics.roc_auc_score(y_test , y_pred)))\n",
        "print('Precision : {0:0.5f}'.format(metrics.precision_score(y_test , y_pred)))\n",
        "print('Recall : {0:0.5f}'.format(metrics.recall_score(y_test , y_pred)))\n",
        "print('F1 : {0:0.5f}'.format(metrics.f1_score(y_test , y_pred)))"
      ],
      "id": "6164d267"
    },
    {
      "cell_type": "code",
      "execution_count": 66,
      "metadata": {
        "colab": {
          "base_uri": "https://localhost:8080/"
        },
        "id": "8c466450",
        "outputId": "151b5ceb-91c7-41b6-c59c-b16247bddff3"
      },
      "outputs": [
        {
          "output_type": "stream",
          "name": "stdout",
          "text": [
            "TN:  307217\n",
            "FP:  79530\n",
            "FN:  590\n",
            "TP:  1678\n",
            "recall =  0.74 precision =  0.021\n",
            "F1 =  0.04\n"
          ]
        }
      ],
      "source": [
        "conf_mx = metrics.confusion_matrix(y_test,y_pred)\n",
        "\n",
        "TN = conf_mx[0,0]\n",
        "FP = conf_mx[0,1]\n",
        "FN = conf_mx[1,0]\n",
        "TP = conf_mx[1,1]\n",
        "\n",
        "print ('TN: ', TN)\n",
        "print ('FP: ', FP)\n",
        "print ('FN: ', FN)\n",
        "print ('TP: ', TP)\n",
        "\n",
        "recall = TP/(TP+FN)\n",
        "precision = TP/(TP+FP)\n",
        "\n",
        "print ('recall = ', round(recall,3), 'precision = ', round(precision,3))\n",
        "\n",
        "F1 = 2 * recall * precision / (recall + precision)\n",
        "print('F1 = ', round(F1,3))"
      ],
      "id": "8c466450"
    },
    {
      "cell_type": "code",
      "execution_count": 67,
      "metadata": {
        "colab": {
          "base_uri": "https://localhost:8080/",
          "height": 469
        },
        "id": "c871612c",
        "outputId": "7b0b30f2-79a8-47ed-91eb-65cd5cdd63d7"
      },
      "outputs": [
        {
          "output_type": "display_data",
          "data": {
            "text/plain": [
              "<Figure size 576x432 with 2 Axes>"
            ],
            "image/png": "[encoded data removed]"
          },
          "metadata": {
            "needs_background": "light"
          }
        }
      ],
      "source": [
        "plot_confusion_matrix(conf_mx, \n",
        "                      normalize    = False,\n",
        "                      target_names = ['Genuine', 'Fraud'],\n",
        "                      title        = \"Confusion Matrix on test\")"
      ],
      "id": "c871612c"
    },
    {
      "cell_type": "markdown",
      "metadata": {
        "id": "51a97acb"
      },
      "source": [
        "### 1.5 Logistic Regression with ADASYN data"
      ],
      "id": "51a97acb"
    },
    {
      "cell_type": "code",
      "execution_count": 68,
      "metadata": {
        "colab": {
          "base_uri": "https://localhost:8080/"
        },
        "id": "e5262366",
        "outputId": "8234b199-5db3-4266-832f-2f74c167a2e4"
      },
      "outputs": [
        {
          "output_type": "stream",
          "name": "stdout",
          "text": [
            "X_train -  (907700, 31)\n",
            "y_train -  (907700, 1)\n",
            "X_test -  (389015, 31)\n",
            "y_test -  (389015, 1)\n"
          ]
        }
      ],
      "source": [
        "# Split BEFORE any oversampling - prevent data leakage\n",
        "\n",
        "X_train, X_test, y_train, y_test = train_test_split(X, y, test_size=0.3, shuffle=True, random_state=0)\n",
        "print(\"X_train - \",X_train.shape)\n",
        "print(\"y_train - \",y_train.shape)\n",
        "print(\"X_test - \",X_test.shape)\n",
        "print(\"y_test - \",y_test.shape)"
      ],
      "id": "e5262366"
    },
    {
      "cell_type": "code",
      "execution_count": 69,
      "metadata": {
        "colab": {
          "base_uri": "https://localhost:8080/"
        },
        "id": "e1816a98",
        "outputId": "2ea8089a-601d-482d-8ad9-92e914f11e1c"
      },
      "outputs": [
        {
          "output_type": "stream",
          "name": "stdout",
          "text": [
            "Original dataset shape Counter({'is_fraud': 1})\n",
            "Resampled dataset shape Counter({'is_fraud': 1})\n",
            "X_train -  (1806357, 31)\n",
            "y_train -  (1806357, 1)\n",
            "X_test -  (389015, 31)\n",
            "y_test -  (389015, 1)\n"
          ]
        }
      ],
      "source": [
        "# Oversampling only on train\n",
        "\n",
        "print('Original dataset shape %s' % Counter(y_train))\n",
        "random_state = 42\n",
        "\n",
        "adasyn = ADASYN(random_state=42)\n",
        "X_res, y_res = adasyn.fit_resample(X_train, y_train)\n",
        "\n",
        "print('Resampled dataset shape %s' % Counter(y_res))\n",
        "\n",
        "X_train = X_res\n",
        "y_train = y_res\n",
        "\n",
        "print(\"X_train - \",X_train.shape)\n",
        "print(\"y_train - \",y_train.shape)\n",
        "print(\"X_test - \",X_test.shape)\n",
        "print(\"y_test - \",y_test.shape)"
      ],
      "id": "e1816a98"
    },
    {
      "cell_type": "code",
      "execution_count": 70,
      "metadata": {
        "id": "d6e2bc97"
      },
      "outputs": [],
      "source": [
        "#  ADASYN Sampling with Logistic Regression\n",
        "logreg = LogisticRegression()\n",
        "logreg.fit(X_train, y_train)\n",
        "\n",
        "y_pred = logreg.predict(X_test)"
      ],
      "id": "d6e2bc97"
    },
    {
      "cell_type": "code",
      "execution_count": 71,
      "metadata": {
        "colab": {
          "base_uri": "https://localhost:8080/"
        },
        "id": "4b4f6af3",
        "outputId": "24184854-2502-4716-aafe-6a2bd35d5cd7"
      },
      "outputs": [
        {
          "output_type": "stream",
          "name": "stdout",
          "text": [
            "Accuracy :0.59320\n",
            "AUC : 0.64396\n",
            "Precision : 0.00991\n",
            "Recall : 0.69533\n",
            "F1 : 0.01954\n"
          ]
        }
      ],
      "source": [
        "print('Accuracy :{0:0.5f}'.format(metrics.accuracy_score(y_pred , y_test))) \n",
        "print('AUC : {0:0.5f}'.format(metrics.roc_auc_score(y_test , y_pred)))\n",
        "print('Precision : {0:0.5f}'.format(metrics.precision_score(y_test , y_pred)))\n",
        "print('Recall : {0:0.5f}'.format(metrics.recall_score(y_test , y_pred)))\n",
        "print('F1 : {0:0.5f}'.format(metrics.f1_score(y_test , y_pred)))"
      ],
      "id": "4b4f6af3"
    },
    {
      "cell_type": "code",
      "execution_count": 72,
      "metadata": {
        "colab": {
          "base_uri": "https://localhost:8080/"
        },
        "id": "2e6a0210",
        "outputId": "2db2d6b4-2d09-435f-e4b1-697535e61653"
      },
      "outputs": [
        {
          "output_type": "stream",
          "name": "stdout",
          "text": [
            "TN:  229186\n",
            "FP:  157561\n",
            "FN:  691\n",
            "TP:  1577\n",
            "recall =  0.695 precision =  0.01\n",
            "F1 =  0.02\n"
          ]
        }
      ],
      "source": [
        "conf_mx = metrics.confusion_matrix(y_test,y_pred)\n",
        "\n",
        "TN = conf_mx[0,0]\n",
        "FP = conf_mx[0,1]\n",
        "FN = conf_mx[1,0]\n",
        "TP = conf_mx[1,1]\n",
        "\n",
        "print ('TN: ', TN)\n",
        "print ('FP: ', FP)\n",
        "print ('FN: ', FN)\n",
        "print ('TP: ', TP)\n",
        "\n",
        "recall = TP/(TP+FN)\n",
        "precision = TP/(TP+FP)\n",
        "\n",
        "print ('recall = ', round(recall,3), 'precision = ', round(precision,3))\n",
        "\n",
        "F1 = 2 * recall * precision / (recall + precision)\n",
        "print('F1 = ', round(F1,3))"
      ],
      "id": "2e6a0210"
    },
    {
      "cell_type": "code",
      "execution_count": 73,
      "metadata": {
        "colab": {
          "base_uri": "https://localhost:8080/",
          "height": 469
        },
        "id": "32c68933",
        "outputId": "8d9b5dce-c830-4d18-e28c-4d9800489371"
      },
      "outputs": [
        {
          "output_type": "display_data",
          "data": {
            "text/plain": [
              "<Figure size 576x432 with 2 Axes>"
            ],
            "image/png": "[encoded data removed]"
          },
          "metadata": {
            "needs_background": "light"
          }
        }
      ],
      "source": [
        "plot_confusion_matrix(conf_mx, \n",
        "                      normalize    = False,\n",
        "                      target_names = ['Genuine', 'Fraud'],\n",
        "                      title        = \"Confusion Matrix on test\")"
      ],
      "id": "32c68933"
    },
    {
      "cell_type": "markdown",
      "metadata": {
        "id": "b859265c"
      },
      "source": [
        "Spatial nature of class imbalance\n",
        "we will reduce 31 columns to 2 columns with the help of Principal Component Analysis so that I can look at them in a plot! (because to plot graph we need two dimensions)"
      ],
      "id": "b859265c"
    },
    {
      "cell_type": "code",
      "execution_count": 74,
      "metadata": {
        "id": "e4058799"
      },
      "outputs": [],
      "source": [
        "from sklearn.decomposition import PCA"
      ],
      "id": "e4058799"
    },
    {
      "cell_type": "markdown",
      "metadata": {
        "id": "bd75f68c"
      },
      "source": [
        "### Distribution of balaced dataset\n",
        "Finally, we can create a scatter plot of the dataset and colour the examples for each class a different colour to clearly see the spatial nature of the class imbalance.\n",
        "\n",
        "A scatter plot of the dataset is created showing the large mass of points that belong to the minority class (red) and a small number of points spread out for the minority class (blue). We can see some measure of overlap between the two classes.\n",
        "\n"
      ],
      "id": "bd75f68c"
    },
    {
      "cell_type": "code",
      "execution_count": 75,
      "metadata": {
        "id": "72f55964"
      },
      "outputs": [],
      "source": [
        "X_reduced_pca_im = PCA(n_components=2, random_state=42).fit_transform(X)"
      ],
      "id": "72f55964"
    },
    {
      "cell_type": "markdown",
      "metadata": {
        "id": "00d5a631"
      },
      "source": [
        "# Building different models with different balanced datasets\n",
        "Let's now try different models , first by creating multiple datasets for undersampled , oversampled and SMOTE sampled\n",
        "\n",
        "## 1. Undersampled Data"
      ],
      "id": "00d5a631"
    },
    {
      "cell_type": "code",
      "execution_count": 76,
      "metadata": {
        "colab": {
          "base_uri": "https://localhost:8080/"
        },
        "id": "2920df12",
        "outputId": "fd3c9e6b-f6a7-4360-d9f9-fc1d4588d2e8"
      },
      "outputs": [
        {
          "output_type": "stream",
          "name": "stdout",
          "text": [
            "X_train -  (907700, 31)\n",
            "y_train -  (907700, 1)\n",
            "X_test -  (389015, 31)\n",
            "y_test -  (389015, 1)\n",
            "--------------------------------------------------\n",
            "X_train_under -  (10476, 31)\n",
            "y_train_under -  (10476, 1)\n",
            "X_test_under -  (389015, 31)\n",
            "y_test_under -  (389015, 1)\n"
          ]
        }
      ],
      "source": [
        "# Split BEFORE any under / oversampling - prevent data leakage\n",
        "\n",
        "X_train, X_test, y_train, y_test = train_test_split(X, y, test_size=0.3, shuffle=True, random_state=0)\n",
        "print(\"X_train - \",X_train.shape)\n",
        "print(\"y_train - \",y_train.shape)\n",
        "print(\"X_test - \",X_test.shape)\n",
        "print(\"y_test - \",y_test.shape)\n",
        "print('-'*50)\n",
        "# Oversampling only on train\n",
        "#print('Original dataset shape %s' % Counter(y_train))\n",
        "random_state = 42\n",
        "\n",
        "rus = RandomUnderSampler(random_state=42)\n",
        "X_res, y_res = rus.fit_resample(X_train, y_train)\n",
        "\n",
        "X_train = X_res\n",
        "y_train = y_res\n",
        "\n",
        "# Slit into train and test datasets\n",
        "X_train_under, X_test_under, y_train_under, y_test_under = X_train, X_test, y_train, y_test\n",
        "\n",
        "print(\"X_train_under - \",X_train_under.shape)\n",
        "print(\"y_train_under - \",y_train_under.shape)\n",
        "print(\"X_test_under - \",X_test_under.shape)\n",
        "print(\"y_test_under - \",y_test_under.shape)"
      ],
      "id": "2920df12"
    },
    {
      "cell_type": "markdown",
      "metadata": {
        "id": "a67a1608"
      },
      "source": [
        "## 2. Oversampled Data"
      ],
      "id": "a67a1608"
    },
    {
      "cell_type": "code",
      "execution_count": 77,
      "metadata": {
        "colab": {
          "base_uri": "https://localhost:8080/"
        },
        "id": "cba27ffb",
        "outputId": "1ecc9ab2-55bd-4b5d-e4ec-7533d6d72016"
      },
      "outputs": [
        {
          "output_type": "stream",
          "name": "stdout",
          "text": [
            "X_train -  (907700, 31)\n",
            "y_train -  (907700, 1)\n",
            "X_test -  (389015, 31)\n",
            "y_test -  (389015, 1)\n",
            "--------------------------------------------------\n",
            "Original dataset shape Counter({'is_fraud': 1})\n",
            "Resampled dataset shape Counter({'is_fraud': 1})\n",
            "X_train_over -  (1804924, 31)\n",
            "y_train_over -  (1804924, 1)\n",
            "X_test_over -  (389015, 31)\n",
            "y_test_over -  (389015, 1)\n"
          ]
        }
      ],
      "source": [
        "# Split BEFORE any oversampling - prevent data leakage\n",
        "\n",
        "X_train, X_test, y_train, y_test = train_test_split(X, y, test_size=0.3, shuffle=True, random_state=0)\n",
        "print(\"X_train - \",X_train.shape)\n",
        "print(\"y_train - \",y_train.shape)\n",
        "print(\"X_test - \",X_test.shape)\n",
        "print(\"y_test - \",y_test.shape)\n",
        "print('-'*50)\n",
        "# Oversampling only on train\n",
        "print('Original dataset shape %s' % Counter(y_train))\n",
        "random_state = 42\n",
        "\n",
        "ros = RandomOverSampler(random_state=random_state)\n",
        "X_res, y_res = ros.fit_resample(X_train, y_train)\n",
        "\n",
        "print('Resampled dataset shape %s' % Counter(y_res))\n",
        "\n",
        "X_train = X_res\n",
        "y_train = y_res\n",
        "X_train_over, X_test_over, y_train_over, y_test_over = X_train, X_test, y_train, y_test\n",
        "\n",
        "print(\"X_train_over - \",X_train_over.shape)\n",
        "print(\"y_train_over - \",y_train_over.shape)\n",
        "print(\"X_test_over - \",X_test_over.shape)\n",
        "print(\"y_test_over - \",y_test_over.shape)"
      ],
      "id": "cba27ffb"
    },
    {
      "cell_type": "markdown",
      "metadata": {
        "id": "c2ca7cc2"
      },
      "source": [
        "## 3. SMOTE Data"
      ],
      "id": "c2ca7cc2"
    },
    {
      "cell_type": "code",
      "execution_count": 78,
      "metadata": {
        "colab": {
          "base_uri": "https://localhost:8080/"
        },
        "id": "b388a16e",
        "outputId": "53aeb2ea-9330-4c26-9b43-2be5394a5dc3"
      },
      "outputs": [
        {
          "output_type": "stream",
          "name": "stdout",
          "text": [
            "X_train -  (907700, 31)\n",
            "y_train -  (907700, 1)\n",
            "X_test -  (389015, 31)\n",
            "y_test -  (389015, 1)\n",
            "--------------------------------------------------\n",
            "Original dataset shape Counter({'is_fraud': 1})\n",
            "Resampled dataset shape Counter({'is_fraud': 1})\n",
            "X_train_smote -  (1804924, 31)\n",
            "y_train_smote -  (1804924, 1)\n",
            "X_test_smote -  (389015, 31)\n",
            "y_test_smote -  (389015, 1)\n"
          ]
        }
      ],
      "source": [
        "# Split BEFORE any oversampling - prevent data leakage\n",
        "\n",
        "X_train, X_test, y_train, y_test = train_test_split(X, y, test_size=0.3, shuffle=True, random_state=0)\n",
        "print(\"X_train - \",X_train.shape)\n",
        "print(\"y_train - \",y_train.shape)\n",
        "print(\"X_test - \",X_test.shape)\n",
        "print(\"y_test - \",y_test.shape)\n",
        "print('-'*50)\n",
        "# Oversampling only on train\n",
        "print('Original dataset shape %s' % Counter(y_train))\n",
        "random_state = 42\n",
        "\n",
        "smote = SMOTE(random_state=42)\n",
        "X_res, y_res  = smote.fit_resample(X_train, y_train)\n",
        "print('Resampled dataset shape %s' % Counter(y_res))\n",
        "\n",
        "X_train = X_res\n",
        "y_train = y_res\n",
        "X_train_smote, X_test_smote, y_train_smote, y_test_smote = X_train, X_test, y_train, y_test\n",
        "\n",
        "print(\"X_train_smote - \",X_train_smote.shape)\n",
        "print(\"y_train_smote - \",y_train_smote.shape)\n",
        "print(\"X_test_smote - \",X_test_smote.shape)\n",
        "print(\"y_test_smote - \",y_test_smote.shape)"
      ],
      "id": "b388a16e"
    },
    {
      "cell_type": "markdown",
      "metadata": {
        "id": "bce36bf4"
      },
      "source": [
        "## 4. ADASYN Data"
      ],
      "id": "bce36bf4"
    },
    {
      "cell_type": "code",
      "execution_count": 79,
      "metadata": {
        "colab": {
          "base_uri": "https://localhost:8080/"
        },
        "id": "402772a6",
        "outputId": "e38effb8-6335-4d5a-e5fb-5d9cf7105306"
      },
      "outputs": [
        {
          "output_type": "stream",
          "name": "stdout",
          "text": [
            "X_train -  (907700, 31)\n",
            "y_train -  (907700, 1)\n",
            "X_test -  (389015, 31)\n",
            "y_test -  (389015, 1)\n",
            "--------------------------------------------------\n",
            "Original dataset shape Counter({'is_fraud': 1})\n",
            "Resampled dataset shape Counter({'is_fraud': 1})\n",
            "X_train_adasyn -  (1806357, 31)\n",
            "y_train_adasyn -  (1806357, 1)\n",
            "X_test_adasyn -  (389015, 31)\n",
            "y_test_adasyn -  (389015, 1)\n"
          ]
        }
      ],
      "source": [
        "# Split BEFORE any oversampling - prevent data leakage\n",
        "\n",
        "X_train, X_test, y_train, y_test = train_test_split(X, y, test_size=0.3, shuffle=True, random_state=0)\n",
        "print(\"X_train - \",X_train.shape)\n",
        "print(\"y_train - \",y_train.shape)\n",
        "print(\"X_test - \",X_test.shape)\n",
        "print(\"y_test - \",y_test.shape)\n",
        "print('-'*50)\n",
        "# Oversampling only on train\n",
        "print('Original dataset shape %s' % Counter(y_train))\n",
        "random_state = 42\n",
        "\n",
        "adasyn = ADASYN(random_state=42)\n",
        "X_res, y_res = adasyn.fit_resample(X_train, y_train)\n",
        "print('Resampled dataset shape %s' % Counter(y_res))\n",
        "\n",
        "X_train = X_res\n",
        "y_train = y_res\n",
        "X_train_adasyn, X_test_adasyn, y_train_adasyn, y_test_adasyn = X_train, X_test, y_train, y_test\n",
        "\n",
        "print(\"X_train_adasyn - \",X_train_adasyn.shape)\n",
        "print(\"y_train_adasyn - \",y_train_adasyn.shape)\n",
        "print(\"X_test_adasyn - \",X_test_adasyn.shape)\n",
        "print(\"y_test_adasyn - \",y_test_adasyn.shape)"
      ],
      "id": "402772a6"
    },
    {
      "cell_type": "code",
      "execution_count": 80,
      "metadata": {
        "id": "7b849ded"
      },
      "outputs": [],
      "source": [
        "from sklearn.model_selection import cross_val_score\n",
        "from sklearn.model_selection import StratifiedKFold\n",
        "\n",
        "from sklearn.linear_model import LogisticRegression\n",
        "from sklearn.tree import DecisionTreeClassifier\n",
        "from sklearn.ensemble import RandomForestClassifier\n",
        "from sklearn.svm import SVC\n",
        "from sklearn.neighbors import KNeighborsClassifier\n",
        "from sklearn.naive_bayes import GaussianNB"
      ],
      "id": "7b849ded"
    },
    {
      "cell_type": "markdown",
      "metadata": {
        "id": "bb612bd0"
      },
      "source": [
        "##### Function to create the datasets for under, oversampling and capture their performance"
      ],
      "id": "bb612bd0"
    },
    {
      "cell_type": "code",
      "execution_count": 81,
      "metadata": {
        "id": "18686ce9"
      },
      "outputs": [],
      "source": [
        "names_lst = []\n",
        "\n",
        "# Empty list to capture performance matrix for train set\n",
        "aucs_train_lst = []\n",
        "accuracy_train_lst = []\n",
        "precision_train_lst = []\n",
        "recall_train_lst = []\n",
        "f1_train_lst = []\n",
        "\n",
        "# Empty list to capture performance matrix for test set\n",
        "aucs_test_lst = []\n",
        "accuracy_test_lst = []\n",
        "precision_test_lst = []\n",
        "recall_test_lst = []\n",
        "f1_test_lst = []\n",
        "\n",
        "# Function for model building and performance measure\n",
        "\n",
        "def build_measure_model(models):\n",
        "    #plt.figure(figsize=(12,6))\n",
        "\n",
        "    for name, model, X_train, X_test, y_train, y_test in models:\n",
        "        \n",
        "        names_lst.append(name)\n",
        "\n",
        "        # split data in train test set\n",
        "        X_train, X_test, y_train, y_test = X_train, X_test, y_train, y_test\n",
        "        \n",
        "        # Build model\n",
        "        model.fit(X_train, y_train)\n",
        "        \n",
        "        # Predict\n",
        "        y_train_pred = model.predict(X_train)\n",
        "        y_test_pred = model.predict(X_test)\n",
        "\n",
        "        # calculate accuracy\n",
        "        Accuracy_train = metrics.accuracy_score(y_train, y_train_pred)\n",
        "        accuracy_train_lst.append(Accuracy_train)\n",
        "        \n",
        "        Accuracy_test = metrics.accuracy_score(y_test, y_test_pred)\n",
        "        accuracy_test_lst.append(Accuracy_test)\n",
        "\n",
        "        # calculate auc\n",
        "        Aucs_train = metrics.roc_auc_score(y_train, y_train_pred)\n",
        "        aucs_train_lst.append(Aucs_train)\n",
        "        \n",
        "        Aucs_test = metrics.roc_auc_score(y_test , y_test_pred)\n",
        "        aucs_test_lst.append(Aucs_test)\n",
        "\n",
        "        # calculate precision\n",
        "        PrecisionScore_train = metrics.precision_score(y_train , y_train_pred)\n",
        "        precision_train_lst.append(PrecisionScore_train)\n",
        "        \n",
        "        PrecisionScore_test = metrics.precision_score(y_test , y_test_pred)\n",
        "        precision_test_lst.append(PrecisionScore_test)\n",
        "\n",
        "        # calculate recall\n",
        "        RecallScore_train = metrics.recall_score(y_train , y_train_pred)\n",
        "        recall_train_lst.append(RecallScore_train)\n",
        "        \n",
        "        RecallScore_test = metrics.recall_score(y_test , y_test_pred)\n",
        "        recall_test_lst.append(RecallScore_test)\n",
        "\n",
        "        # calculate f1 score\n",
        "        F1Score_train = metrics.f1_score(y_train , y_train_pred)\n",
        "        f1_train_lst.append(F1Score_train)\n",
        "        \n",
        "        F1Score_test = metrics.f1_score(y_test , y_test_pred)\n",
        "        f1_test_lst.append(F1Score_test)\n",
        "\n",
        "        #print('F1 Score of '+ name +' model : {0:0.5f}'.format(F1Score_test))\n",
        "\n",
        "        # draw confusion matrix\n",
        "        cnf_matrix = metrics.confusion_matrix(y_test , y_test_pred)\n",
        "\n",
        "        print(\"Model Name :\", name)\n",
        "        \n",
        "        #print('Train Accuracy :{0:0.5f}'.format(Accuracy_train)) \n",
        "        print('Test Accuracy :{0:0.5f}'.format(Accuracy_test))\n",
        "        \n",
        "        #print('Train AUC : {0:0.5f}'.format(Aucs_train))\n",
        "        print('Test AUC : {0:0.5f}'.format(Aucs_test))\n",
        "        \n",
        "        #print('Train Precision : {0:0.5f}'.format(PrecisionScore_train))\n",
        "        print('Test Precision : {0:0.5f}'.format(PrecisionScore_test))\n",
        "        \n",
        "        #print('Train Recall : {0:0.5f}'.format(RecallScore_train))\n",
        "        print('Test Recall : {0:0.5f}'.format(RecallScore_test))\n",
        "        \n",
        "        #print('Train F1 : {0:0.5f}'.format(F1Score_train))\n",
        "        print('Test F1 : {0:0.5f}'.format(F1Score_test))\n",
        "        \n",
        "        print('Confusion Matrix : \\n', cnf_matrix)\n",
        "        print(\"\\n\")"
      ],
      "id": "18686ce9"
    },
    {
      "cell_type": "markdown",
      "metadata": {
        "id": "3c034a90"
      },
      "source": [
        "# Logistic Regression (LR)"
      ],
      "id": "3c034a90"
    },
    {
      "cell_type": "code",
      "execution_count": 82,
      "metadata": {
        "colab": {
          "base_uri": "https://localhost:8080/"
        },
        "id": "9134dc8a",
        "outputId": "d2c439b9-7c48-477b-c8fa-807dd7c326b8"
      },
      "outputs": [
        {
          "output_type": "stream",
          "name": "stdout",
          "text": [
            "Model Name : LR Undersampling\n",
            "Test Accuracy :0.99161\n",
            "Test AUC : 0.96290\n",
            "Test Precision : 0.40474\n",
            "Test Recall : 0.93386\n",
            "Test F1 : 0.56472\n",
            "Confusion Matrix : \n",
            " [[383632   3115]\n",
            " [   150   2118]]\n",
            "\n",
            "\n",
            "Model Name : LR Oversampling\n",
            "Test Accuracy :0.98763\n",
            "Test AUC : 0.93745\n",
            "Test Precision : 0.30623\n",
            "Test Recall : 0.88668\n",
            "Test F1 : 0.45523\n",
            "Confusion Matrix : \n",
            " [[382191   4556]\n",
            " [   257   2011]]\n",
            "\n",
            "\n",
            "Model Name : LR SMOTE\n",
            "Test Accuracy :0.99115\n",
            "Test AUC : 0.94755\n",
            "Test Precision : 0.38866\n",
            "Test Recall : 0.90344\n",
            "Test F1 : 0.54350\n",
            "Confusion Matrix : \n",
            " [[383524   3223]\n",
            " [   219   2049]]\n",
            "\n",
            "\n",
            "Model Name : LR ADASYN\n",
            "Test Accuracy :0.98958\n",
            "Test AUC : 0.93624\n",
            "Test Precision : 0.34583\n",
            "Test Recall : 0.88228\n",
            "Test F1 : 0.49690\n",
            "Confusion Matrix : \n",
            " [[382962   3785]\n",
            " [   267   2001]]\n",
            "\n",
            "\n"
          ]
        }
      ],
      "source": [
        "#------------------ Logistic Regression (LR) ------------------#\n",
        "LRmodels = []\n",
        "\n",
        "#LRmodels.append(('LR imbalance', LogisticRegression(solver='liblinear', multi_class='ovr'),X,y))\n",
        "LRmodels.append(('LR Undersampling', LogisticRegression(solver='liblinear', multi_class='ovr'),X_train_under, X_test_under, y_train_under, y_test_under))\n",
        "LRmodels.append(('LR Oversampling', LogisticRegression(solver='liblinear', multi_class='ovr'),X_train_over, X_test_over, y_train_over, y_test_over))\n",
        "LRmodels.append(('LR SMOTE', LogisticRegression(solver='liblinear', multi_class='ovr'),X_train_smote, X_test_smote, y_train_smote, y_test_smote))\n",
        "LRmodels.append(('LR ADASYN', LogisticRegression(solver='liblinear', multi_class='ovr'),X_train_adasyn, X_test_adasyn, y_train_adasyn, y_test_adasyn))\n",
        "\n",
        "# Call function to create model and measure its performance\n",
        "build_measure_model(LRmodels)"
      ],
      "id": "9134dc8a"
    },
    {
      "cell_type": "markdown",
      "metadata": {
        "id": "fc7a5667"
      },
      "source": [
        "# Decision Tree (DT)"
      ],
      "id": "fc7a5667"
    },
    {
      "cell_type": "code",
      "execution_count": 83,
      "metadata": {
        "colab": {
          "base_uri": "https://localhost:8080/"
        },
        "id": "237e1a60",
        "outputId": "0b5174f1-91e7-46ec-e8a5-82134a44b608"
      },
      "outputs": [
        {
          "output_type": "stream",
          "name": "stdout",
          "text": [
            "Model Name : DT Undersampling\n",
            "Test Accuracy :0.97235\n",
            "Test AUC : 0.97601\n",
            "Test Precision : 0.17180\n",
            "Test Recall : 0.97972\n",
            "Test F1 : 0.29233\n",
            "Confusion Matrix : \n",
            " [[376035  10712]\n",
            " [    46   2222]]\n",
            "\n",
            "\n",
            "Model Name : DT Oversampling\n",
            "Test Accuracy :0.99930\n",
            "Test AUC : 0.96875\n",
            "Test Precision : 0.94198\n",
            "Test Recall : 0.93783\n",
            "Test F1 : 0.93990\n",
            "Confusion Matrix : \n",
            " [[386616    131]\n",
            " [   141   2127]]\n",
            "\n",
            "\n",
            "Model Name : DT SMOTE\n",
            "Test Accuracy :0.99920\n",
            "Test AUC : 0.97023\n",
            "Test Precision : 0.92341\n",
            "Test Recall : 0.94092\n",
            "Test F1 : 0.93208\n",
            "Confusion Matrix : \n",
            " [[386570    177]\n",
            " [   134   2134]]\n",
            "\n",
            "\n",
            "Model Name : DT ADASYN\n",
            "Test Accuracy :0.99920\n",
            "Test AUC : 0.96848\n",
            "Test Precision : 0.92636\n",
            "Test Recall : 0.93739\n",
            "Test F1 : 0.93184\n",
            "Confusion Matrix : \n",
            " [[386578    169]\n",
            " [   142   2126]]\n",
            "\n",
            "\n"
          ]
        }
      ],
      "source": [
        "#-----------------Decision Tree (DT)------------------#\n",
        "DTmodels = []\n",
        "\n",
        "dt = DecisionTreeClassifier()\n",
        "\n",
        "#DTmodels.append(('DT imbalance', dt,X,y))\n",
        "DTmodels.append(('DT Undersampling', dt, X_train_under, X_test_under, y_train_under, y_test_under))\n",
        "DTmodels.append(('DT Oversampling', dt,X_train_over, X_test_over, y_train_over, y_test_over))\n",
        "DTmodels.append(('DT SMOTE', dt,X_train_smote, X_test_smote, y_train_smote, y_test_smote))\n",
        "DTmodels.append(('DT ADASYN', dt ,X_train_adasyn, X_test_adasyn, y_train_adasyn, y_test_adasyn))\n",
        "\n",
        "# Call function to create model and measure its performance\n",
        "build_measure_model(DTmodels)"
      ],
      "id": "237e1a60"
    },
    {
      "cell_type": "markdown",
      "metadata": {
        "id": "8db4b981"
      },
      "source": [
        "# Random Forest (RF)"
      ],
      "id": "8db4b981"
    },
    {
      "cell_type": "code",
      "execution_count": 84,
      "metadata": {
        "colab": {
          "base_uri": "https://localhost:8080/"
        },
        "id": "d6bddfba",
        "outputId": "66a10bee-4fa3-4dec-cbd5-16e32ecc69ec"
      },
      "outputs": [
        {
          "output_type": "stream",
          "name": "stdout",
          "text": [
            "Model Name : RF Undersampling\n",
            "Test Accuracy :0.99211\n",
            "Test AUC : 0.98463\n",
            "Test Precision : 0.42330\n",
            "Test Recall : 0.97707\n",
            "Test F1 : 0.59070\n",
            "Confusion Matrix : \n",
            " [[383728   3019]\n",
            " [    52   2216]]\n",
            "\n",
            "\n",
            "Model Name : RF Oversampling\n",
            "Test Accuracy :0.99957\n",
            "Test AUC : 0.96494\n",
            "Test Precision : 0.99575\n",
            "Test Recall : 0.92989\n",
            "Test F1 : 0.96170\n",
            "Confusion Matrix : \n",
            " [[386738      9]\n",
            " [   159   2109]]\n",
            "\n",
            "\n",
            "Model Name : RF SMOTE\n",
            "Test Accuracy :0.99948\n",
            "Test AUC : 0.95766\n",
            "Test Precision : 0.99568\n",
            "Test Recall : 0.91534\n",
            "Test F1 : 0.95382\n",
            "Confusion Matrix : \n",
            " [[386738      9]\n",
            " [   192   2076]]\n",
            "\n",
            "\n",
            "Model Name : RF ADASYN\n",
            "Test Accuracy :0.99949\n",
            "Test AUC : 0.95766\n",
            "Test Precision : 0.99664\n",
            "Test Recall : 0.91534\n",
            "Test F1 : 0.95426\n",
            "Confusion Matrix : \n",
            " [[386740      7]\n",
            " [   192   2076]]\n",
            "\n",
            "\n"
          ]
        }
      ],
      "source": [
        "#-----------------Random Forest (RF) ------------------#\n",
        "RFmodels = []\n",
        "\n",
        "#RFmodels.append(('RF imbalance', RandomForestClassifier(),X,y))\n",
        "RFmodels.append(('RF Undersampling', RandomForestClassifier(),X_train_under, X_test_under, y_train_under, y_test_under))\n",
        "RFmodels.append(('RF Oversampling', RandomForestClassifier(),X_train_over, X_test_over, y_train_over, y_test_over))\n",
        "RFmodels.append(('RF SMOTE', RandomForestClassifier(),X_train_smote, X_test_smote, y_train_smote, y_test_smote))\n",
        "RFmodels.append(('RF ADASYN', RandomForestClassifier(),X_train_adasyn, X_test_adasyn, y_train_adasyn, y_test_adasyn))\n",
        "\n",
        "# Call function to create model and measure its performance\n",
        "build_measure_model(RFmodels)"
      ],
      "id": "d6bddfba"
    },
    {
      "cell_type": "code",
      "execution_count": 85,
      "metadata": {
        "colab": {
          "base_uri": "https://localhost:8080/",
          "height": 250
        },
        "id": "b70825b1",
        "outputId": "c8ec4dc1-b405-4cf1-e882-ee652e805ff2"
      },
      "outputs": [
        {
          "output_type": "stream",
          "name": "stdout",
          "text": [
            "Performance measures of various classifiers: \n",
            "\n"
          ]
        },
        {
          "output_type": "execute_result",
          "data": {
            "text/plain": [
              "                                               Model  \\\n",
              "0  [LR Undersampling, LR Oversampling, LR SMOTE, ...   \n",
              "\n",
              "                                      Accuracy_Train  \\\n",
              "0  [0.9595265368461244, 0.9369945770569841, 0.972...   \n",
              "\n",
              "                                       Accuracy_Test  \\\n",
              "0  [0.9916070074418725, 0.9876277264372839, 0.991...   \n",
              "\n",
              "                                           AUC_Train  \\\n",
              "0  [0.9595265368461245, 0.936994577056984, 0.9729...   \n",
              "\n",
              "                                            AUC_Test  \\\n",
              "0  [0.962904036371316, 0.937451996095739, 0.94755...   \n",
              "\n",
              "                                PrecisionScore_Train  \\\n",
              "0  [0.992430441898527, 0.9869174525331693, 0.9913...   \n",
              "\n",
              "                                 PrecisionScore_Test  \\\n",
              "0  [0.40473915536021404, 0.3062281102482107, 0.38...   \n",
              "\n",
              "                                   RecallScore_Train  \\\n",
              "0  [0.9261168384879725, 0.8857303687025049, 0.954...   \n",
              "\n",
              "                                    RecallScore_Test  \\\n",
              "0  [0.9338624338624338, 0.88668430335097, 0.90343...   \n",
              "\n",
              "                                       F1Score_Train  \\\n",
              "0  [0.9581275923365594, 0.933590127517233, 0.9724...   \n",
              "\n",
              "                                        F1Score_Test  \n",
              "0  [0.5647247033728836, 0.45523486134691565, 0.54...  "
            ],
            "text/html": [
              "\n",
              "  <div id=\"df-2a03992b-d196-4851-b145-cf7377e2931d\">\n",
              "    <div class=\"colab-df-container\">\n",
              "      <div>\n",
              "<style scoped>\n",
              "    .dataframe tbody tr th:only-of-type {\n",
              "        vertical-align: middle;\n",
              "    }\n",
              "\n",
              "    .dataframe tbody tr th {\n",
              "        vertical-align: top;\n",
              "    }\n",
              "\n",
              "    .dataframe thead th {\n",
              "        text-align: right;\n",
              "    }\n",
              "</style>\n",
              "<table border=\"1\" class=\"dataframe\">\n",
              "  <thead>\n",
              "    <tr style=\"text-align: right;\">\n",
              "      <th></th>\n",
              "      <th>Model</th>\n",
              "      <th>Accuracy_Train</th>\n",
              "      <th>Accuracy_Test</th>\n",
              "      <th>AUC_Train</th>\n",
              "      <th>AUC_Test</th>\n",
              "      <th>PrecisionScore_Train</th>\n",
              "      <th>PrecisionScore_Test</th>\n",
              "      <th>RecallScore_Train</th>\n",
              "      <th>RecallScore_Test</th>\n",
              "      <th>F1Score_Train</th>\n",
              "      <th>F1Score_Test</th>\n",
              "    </tr>\n",
              "  </thead>\n",
              "  <tbody>\n",
              "    <tr>\n",
              "      <th>0</th>\n",
              "      <td>[LR Undersampling, LR Oversampling, LR SMOTE, ...</td>\n",
              "      <td>[0.9595265368461244, 0.9369945770569841, 0.972...</td>\n",
              "      <td>[0.9916070074418725, 0.9876277264372839, 0.991...</td>\n",
              "      <td>[0.9595265368461245, 0.936994577056984, 0.9729...</td>\n",
              "      <td>[0.962904036371316, 0.937451996095739, 0.94755...</td>\n",
              "      <td>[0.992430441898527, 0.9869174525331693, 0.9913...</td>\n",
              "      <td>[0.40473915536021404, 0.3062281102482107, 0.38...</td>\n",
              "      <td>[0.9261168384879725, 0.8857303687025049, 0.954...</td>\n",
              "      <td>[0.9338624338624338, 0.88668430335097, 0.90343...</td>\n",
              "      <td>[0.9581275923365594, 0.933590127517233, 0.9724...</td>\n",
              "      <td>[0.5647247033728836, 0.45523486134691565, 0.54...</td>\n",
              "    </tr>\n",
              "  </tbody>\n",
              "</table>\n",
              "</div>\n",
              "      <button class=\"colab-df-convert\" onclick=\"convertToInteractive('df-2a03992b-d196-4851-b145-cf7377e2931d')\"\n",
              "              title=\"Convert this dataframe to an interactive table.\"\n",
              "              style=\"display:none;\">\n",
              "        \n",
              "  <svg xmlns=\"http://www.w3.org/2000/svg\" height=\"24px\"viewBox=\"0 0 24 24\"\n",
              "       width=\"24px\">\n",
              "    <path d=\"M0 0h24v24H0V0z\" fill=\"none\"/>\n",
              "    <path d=\"M18.56 5.44l.94 2.06.94-2.06 2.06-.94-2.06-.94-.94-2.06-.94 2.06-2.06.94zm-11 1L8.5 8.5l.94-2.06 2.06-.94-2.06-.94L8.5 2.5l-.94 2.06-2.06.94zm10 10l.94 2.06.94-2.06 2.06-.94-2.06-.94-.94-2.06-.94 2.06-2.06.94z\"/><path d=\"M17.41 7.96l-1.37-1.37c-.4-.4-.92-.59-1.43-.59-.52 0-1.04.2-1.43.59L10.3 9.45l-7.72 7.72c-.78.78-.78 2.05 0 2.83L4 21.41c.39.39.9.59 1.41.59.51 0 1.02-.2 1.41-.59l7.78-7.78 2.81-2.81c.8-.78.8-2.07 0-2.86zM5.41 20L4 18.59l7.72-7.72 1.47 1.35L5.41 20z\"/>\n",
              "  </svg>\n",
              "      </button>\n",
              "      \n",
              "  <style>\n",
              "    .colab-df-container {\n",
              "      display:flex;\n",
              "      flex-wrap:wrap;\n",
              "      gap: 12px;\n",
              "    }\n",
              "\n",
              "    .colab-df-convert {\n",
              "      background-color: #E8F0FE;\n",
              "      border: none;\n",
              "      border-radius: 50%;\n",
              "      cursor: pointer;\n",
              "      display: none;\n",
              "      fill: #1967D2;\n",
              "      height: 32px;\n",
              "      padding: 0 0 0 0;\n",
              "      width: 32px;\n",
              "    }\n",
              "\n",
              "    .colab-df-convert:hover {\n",
              "      background-color: #E2EBFA;\n",
              "      box-shadow: 0px 1px 2px rgba(60, 64, 67, 0.3), 0px 1px 3px 1px rgba(60, 64, 67, 0.15);\n",
              "      fill: #174EA6;\n",
              "    }\n",
              "\n",
              "    [theme=dark] .colab-df-convert {\n",
              "      background-color: #3B4455;\n",
              "      fill: #D2E3FC;\n",
              "    }\n",
              "\n",
              "    [theme=dark] .colab-df-convert:hover {\n",
              "      background-color: #434B5C;\n",
              "      box-shadow: 0px 1px 3px 1px rgba(0, 0, 0, 0.15);\n",
              "      filter: drop-shadow(0px 1px 2px rgba(0, 0, 0, 0.3));\n",
              "      fill: #FFFFFF;\n",
              "    }\n",
              "  </style>\n",
              "\n",
              "      <script>\n",
              "        const buttonEl =\n",
              "          document.querySelector('#df-2a03992b-d196-4851-b145-cf7377e2931d button.colab-df-convert');\n",
              "        buttonEl.style.display =\n",
              "          google.colab.kernel.accessAllowed ? 'block' : 'none';\n",
              "\n",
              "        async function convertToInteractive(key) {\n",
              "          const element = document.querySelector('#df-2a03992b-d196-4851-b145-cf7377e2931d');\n",
              "          const dataTable =\n",
              "            await google.colab.kernel.invokeFunction('convertToInteractive',\n",
              "                                                     [key], {});\n",
              "          if (!dataTable) return;\n",
              "\n",
              "          const docLinkHtml = 'Like what you see? Visit the ' +\n",
              "            '<a target=\"_blank\" href=https://colab.research.google.com/notebooks/data_table.ipynb>data table notebook</a>'\n",
              "            + ' to learn more about interactive tables.';\n",
              "          element.innerHTML = '';\n",
              "          dataTable['output_type'] = 'display_data';\n",
              "          await google.colab.output.renderOutput(dataTable, element);\n",
              "          const docLink = document.createElement('div');\n",
              "          docLink.innerHTML = docLinkHtml;\n",
              "          element.appendChild(docLink);\n",
              "        }\n",
              "      </script>\n",
              "    </div>\n",
              "  </div>\n",
              "  "
            ]
          },
          "metadata": {},
          "execution_count": 85
        }
      ],
      "source": [
        "# Display comparison of the models performance\n",
        "\n",
        "# Display comparison of the models performance\n",
        "\n",
        "data = {\n",
        "    'Model':[names_lst],\n",
        "    'Accuracy_Train':[accuracy_train_lst],\n",
        "    'Accuracy_Test':[accuracy_test_lst],\n",
        "    'AUC_Train':[aucs_train_lst],\n",
        "    'AUC_Test':[aucs_test_lst],\n",
        "    'PrecisionScore_Train':[precision_train_lst],\n",
        "    'PrecisionScore_Test':[precision_test_lst],\n",
        "    'RecallScore_Train':[recall_train_lst],\n",
        "    'RecallScore_Test':[recall_test_lst],\n",
        "    'F1Score_Train':[f1_train_lst],\n",
        "    'F1Score_Test':[f1_test_lst]\n",
        "}\n",
        "\n",
        "print(\"Performance measures of various classifiers: \\n\")\n",
        "\n",
        "performance_df = pd.DataFrame.from_dict(data) \n",
        "performance_df.sort_values(['F1Score_Test'],ascending=False)"
      ],
      "id": "b70825b1"
    },
    {
      "cell_type": "code",
      "execution_count": 86,
      "metadata": {
        "id": "728eccda"
      },
      "outputs": [],
      "source": [
        "# Neural Network"
      ],
      "id": "728eccda"
    },
    {
      "cell_type": "code",
      "execution_count": 87,
      "metadata": {
        "id": "ONOPEJ0-r5H6"
      },
      "outputs": [],
      "source": [
        "import tensorflow as tf\n",
        "\n",
        "from keras import models, regularizers, layers, optimizers, losses, metrics\n",
        "from keras.models import Sequential\n",
        "from keras.layers import Dense\n",
        "from keras.utils import np_utils"
      ],
      "id": "ONOPEJ0-r5H6"
    },
    {
      "cell_type": "code",
      "execution_count": 88,
      "metadata": {
        "id": "3vRjnrSkr5Kx"
      },
      "outputs": [],
      "source": [
        "# F1 function as there is none in Keras metrics\n",
        "# https://medium.com/@aakashgoel12/how-to-add-user-defined-function-get-f1-score-in-keras-metrics-3013f979ce0d\n",
        "\n",
        "import keras.backend as K\n",
        "\n",
        "def get_f1(y_true, y_pred): #taken from old keras source code\n",
        "    true_positives = K.sum(K.round(K.clip(y_true * y_pred, 0, 1)))\n",
        "    possible_positives = K.sum(K.round(K.clip(y_true, 0, 1)))\n",
        "    predicted_positives = K.sum(K.round(K.clip(y_pred, 0, 1)))\n",
        "    precision = true_positives / (predicted_positives + K.epsilon())\n",
        "    recall = true_positives / (possible_positives + K.epsilon())\n",
        "    f1_val = 2*(precision*recall)/(precision+recall+K.epsilon())\n",
        "    return f1_val"
      ],
      "id": "3vRjnrSkr5Kx"
    },
    {
      "cell_type": "code",
      "execution_count": 89,
      "metadata": {
        "colab": {
          "base_uri": "https://localhost:8080/"
        },
        "id": "XlS4uvh2r5PS",
        "outputId": "288f02bd-a4ce-4488-d466-93f90be24ac6"
      },
      "outputs": [
        {
          "output_type": "stream",
          "name": "stdout",
          "text": [
            "Model: \"sequential\"\n",
            "_________________________________________________________________\n",
            " Layer (type)                Output Shape              Param #   \n",
            "=================================================================\n",
            " dense (Dense)               (None, 2048)              65536     \n",
            "                                                                 \n",
            " dense_1 (Dense)             (None, 1)                 2049      \n",
            "                                                                 \n",
            "=================================================================\n",
            "Total params: 67,585\n",
            "Trainable params: 67,585\n",
            "Non-trainable params: 0\n",
            "_________________________________________________________________\n",
            "None\n"
          ]
        }
      ],
      "source": [
        "# NN model\n",
        "\n",
        "model = models.Sequential()\n",
        "model.add(layers.Dense(2048, activation='relu', input_shape=(31,)))\n",
        "#model.add(layers.Dense(2048, activation='relu', kernel_regularizer=regularizers.l2(0.001), input_shape=(30,)))\n",
        "#model.add(layers.BatchNormalization())\n",
        "#model.add(layers.Dense(2048, activation='relu', kernel_regularizer=regularizers.l2(0.001)))\n",
        "#model.add(layers.Dropout(0.5))\n",
        "#model.add(layers.Dense(2048, activation='relu', kernel_regularizer=regularizers.l2(0.001)))\n",
        "#model.add(layers.Dropout(0.5))\n",
        "model.add(layers.Dense(1, activation='sigmoid'))\n",
        "\n",
        "\n",
        "\n",
        "model.compile(tf.keras.optimizers.Adam(lr=1e-4), \n",
        "              loss='binary_crossentropy', \n",
        "              metrics=[get_f1])\n",
        "              #metrics=['binary_accuracy'])\n",
        "\n",
        "print(model.summary())"
      ],
      "id": "XlS4uvh2r5PS"
    },
    {
      "cell_type": "code",
      "execution_count": 90,
      "metadata": {
        "colab": {
          "base_uri": "https://localhost:8080/"
        },
        "id": "8cEnJ8Qyr5Uz",
        "outputId": "bf6000e1-3808-4841-fada-0ecd6835e061"
      },
      "outputs": [
        {
          "output_type": "stream",
          "name": "stdout",
          "text": [
            "X_train -  (1804924, 31)\n",
            "y_train -  (1804924, 1)\n",
            "X_test -  (389015, 31)\n",
            "y_test -  (389015, 1)\n"
          ]
        }
      ],
      "source": [
        "# Pick one of the four: under, over, smote or adasyn\n",
        "\n",
        "X_train, y_train, X_test, y_test = X_train_over, y_train_over, X_test_over, y_test_over\n",
        "\n",
        "print(\"X_train - \",X_train.shape)\n",
        "print(\"y_train - \",y_train.shape)\n",
        "print(\"X_test - \",X_test.shape)\n",
        "print(\"y_test - \",y_test.shape)"
      ],
      "id": "8cEnJ8Qyr5Uz"
    },
    {
      "cell_type": "code",
      "execution_count": 91,
      "metadata": {
        "colab": {
          "base_uri": "https://localhost:8080/"
        },
        "id": "S1e8x7CNxP14",
        "outputId": "1f4bb009-db70-4e77-a686-b2ec41dd71a7"
      },
      "outputs": [
        {
          "output_type": "stream",
          "name": "stdout",
          "text": [
            "Epoch 1/10\n",
            "90247/90247 [==============================] - 451s 5ms/step - loss: 95.2902 - get_f1: 0.8091 - val_loss: 0.9446 - val_get_f1: 0.9710\n",
            "Epoch 2/10\n",
            "90247/90247 [==============================] - 440s 5ms/step - loss: 56.9302 - get_f1: 0.8542 - val_loss: 82.3419 - val_get_f1: 0.8829\n",
            "Epoch 3/10\n",
            "90247/90247 [==============================] - 427s 5ms/step - loss: 31.1192 - get_f1: 0.8632 - val_loss: 17.6114 - val_get_f1: 0.9145\n",
            "Epoch 4/10\n",
            "90247/90247 [==============================] - 422s 5ms/step - loss: 17.3888 - get_f1: 0.8711 - val_loss: 4.6662 - val_get_f1: 0.9371\n",
            "Epoch 5/10\n",
            "90247/90247 [==============================] - 455s 5ms/step - loss: 12.9454 - get_f1: 0.8710 - val_loss: 7.7745 - val_get_f1: 0.9302\n",
            "Epoch 6/10\n",
            "90247/90247 [==============================] - 427s 5ms/step - loss: 8.4747 - get_f1: 0.8771 - val_loss: 0.2184 - val_get_f1: 0.9693\n",
            "Epoch 7/10\n",
            "90247/90247 [==============================] - 416s 5ms/step - loss: 4.7896 - get_f1: 0.8856 - val_loss: 4.1509 - val_get_f1: 0.9267\n",
            "Epoch 8/10\n",
            "90247/90247 [==============================] - 405s 4ms/step - loss: 4.0300 - get_f1: 0.8934 - val_loss: 6.9746 - val_get_f1: 0.9298\n",
            "Epoch 9/10\n",
            "90247/90247 [==============================] - 404s 4ms/step - loss: 3.2149 - get_f1: 0.9015 - val_loss: 0.2442 - val_get_f1: 0.9765\n",
            "Epoch 10/10\n",
            "90247/90247 [==============================] - 407s 5ms/step - loss: 3.2882 - get_f1: 0.9046 - val_loss: 6.2694 - val_get_f1: 0.9248\n"
          ]
        }
      ],
      "source": [
        "# FIT / TRAIN model\n",
        "\n",
        "NumEpochs = 10\n",
        "BatchSize = 16\n",
        "\n",
        "history = model.fit(X_train, y_train, epochs=NumEpochs, batch_size=BatchSize, validation_split = 0.2)"
      ],
      "id": "S1e8x7CNxP14"
    },
    {
      "cell_type": "code",
      "execution_count": 92,
      "metadata": {
        "colab": {
          "base_uri": "https://localhost:8080/"
        },
        "id": "yCyu9lyQxP4K",
        "outputId": "8780bbc2-d8ae-4102-df11-e08570a89f5b"
      },
      "outputs": [
        {
          "output_type": "stream",
          "name": "stdout",
          "text": [
            "12157/12157 [==============================] - 36s 3ms/step - loss: 0.0677 - get_f1: 0.1387\n",
            "____________________________________________________________________________________________________\n",
            "Test Loss and Metric (acc or f1)\n",
            "results  [0.06767495721578598, 0.13868260383605957]\n"
          ]
        },
        {
          "output_type": "execute_result",
          "data": {
            "text/plain": [
              "dict_keys(['loss', 'get_f1', 'val_loss', 'val_get_f1'])"
            ]
          },
          "metadata": {},
          "execution_count": 92
        }
      ],
      "source": [
        "results = model.evaluate(X_test, y_test)\n",
        "print(\"_\"*100)\n",
        "print(\"Test Loss and Metric (acc or f1)\")\n",
        "print(\"results \", results)\n",
        "history_dict = history.history\n",
        "history_dict.keys()"
      ],
      "id": "yCyu9lyQxP4K"
    },
    {
      "cell_type": "code",
      "execution_count": 93,
      "metadata": {
        "colab": {
          "base_uri": "https://localhost:8080/",
          "height": 553
        },
        "id": "xi4XNDOLxP7h",
        "outputId": "97c46401-54c2-429c-ee1a-b1464775481d"
      },
      "outputs": [
        {
          "output_type": "display_data",
          "data": {
            "text/plain": [
              "<Figure size 432x288 with 1 Axes>"
            ],
            "image/png": "[encoded data removed]"
          },
          "metadata": {
            "needs_background": "light"
          }
        },
        {
          "output_type": "display_data",
          "data": {
            "text/plain": [
              "<Figure size 432x288 with 1 Axes>"
            ],
            "image/png": "[encoded data removed]"
          },
          "metadata": {
            "needs_background": "light"
          }
        }
      ],
      "source": [
        "# Learning curves for F1\n",
        "\n",
        "f1 = history.history['get_f1'] \n",
        "val_f1 = history.history['val_get_f1'] \n",
        "loss = history.history['loss'] \n",
        "val_loss = history.history['val_loss'] \n",
        "epochs = range(1, len(f1) + 1) \n",
        "plt.plot(epochs, f1, 'bo', label='Training f1') \n",
        "plt.plot(epochs, val_f1, 'b', label='Validation f1') \n",
        "plt.title('Training and validation F1') \n",
        "plt.legend() \n",
        "plt.figure() \n",
        "plt.plot(epochs, loss, 'bo', label='Training loss') \n",
        "plt.plot(epochs, val_loss, 'b', label='Validation loss') \n",
        "plt.title('Training and validation loss') \n",
        "plt.legend() \n",
        "plt.show()"
      ],
      "id": "xi4XNDOLxP7h"
    },
    {
      "cell_type": "code",
      "execution_count": 94,
      "metadata": {
        "id": "0HZN7_tgxP-W"
      },
      "outputs": [],
      "source": [
        "# VALIDATION ACCURACY curves"
      ],
      "id": "0HZN7_tgxP-W"
    },
    {
      "cell_type": "code",
      "execution_count": 95,
      "metadata": {
        "colab": {
          "base_uri": "https://localhost:8080/"
        },
        "id": "TZ7O2eoyxQBN",
        "outputId": "ecddbc59-49ea-4aa1-ed2c-e5caffb5d613"
      },
      "outputs": [
        {
          "output_type": "execute_result",
          "data": {
            "text/plain": [
              "(389015, 1)"
            ]
          },
          "metadata": {},
          "execution_count": 95
        }
      ],
      "source": [
        "# Final Fit / Predict\n",
        "# NOTE final_predictions is a list of probabilities\n",
        "\n",
        "final_predictions = model.predict(X_test)\n",
        "final_predictions.shape"
      ],
      "id": "TZ7O2eoyxQBN"
    },
    {
      "cell_type": "code",
      "execution_count": 96,
      "metadata": {
        "id": "GMDNAsNrB2rQ"
      },
      "outputs": [],
      "source": [
        "# Modify the raw final_predictions - prediction probs into 0 and 1\n",
        "\n",
        "Preds = final_predictions.copy()\n",
        "#print(len(Preds))\n",
        "#print(Preds)\n",
        "Preds[ np.where( Preds >= 0.5 ) ] = 1\n",
        "Preds[ np.where( Preds < 0.5 ) ] = 0"
      ],
      "id": "GMDNAsNrB2rQ"
    },
    {
      "cell_type": "code",
      "execution_count": 97,
      "metadata": {
        "colab": {
          "base_uri": "https://localhost:8080/"
        },
        "id": "YOu8bv_LB2uG",
        "outputId": "5c2a13a9-9613-4152-876f-373964c76931"
      },
      "outputs": [
        {
          "output_type": "stream",
          "name": "stdout",
          "text": [
            "TN:  384844\n",
            "FP:  1903\n",
            "FN:  356\n",
            "TP:  1912\n",
            "0.8430335097001763 0.5011795543905636\n"
          ]
        }
      ],
      "source": [
        "# Confusion matrix\n",
        "\n",
        "from sklearn import metrics\n",
        "conf_mx = metrics.confusion_matrix(y_test, Preds)\n",
        "\n",
        "TN = conf_mx[0,0]\n",
        "FP = conf_mx[0,1]\n",
        "FN = conf_mx[1,0]\n",
        "TP = conf_mx[1,1]\n",
        "\n",
        "print ('TN: ', TN)\n",
        "print ('FP: ', FP)\n",
        "print ('FN: ', FN)\n",
        "print ('TP: ', TP)\n",
        "\n",
        "recall = TP/(TP+FN)\n",
        "precision = TP/(TP+FP)\n",
        "\n",
        "print (recall, precision)"
      ],
      "id": "YOu8bv_LB2uG"
    },
    {
      "cell_type": "code",
      "execution_count": 98,
      "metadata": {
        "colab": {
          "base_uri": "https://localhost:8080/"
        },
        "id": "gwp5dP_FB2wu",
        "outputId": "b4b7e2e4-38e5-4d8c-fc31-adb573403872"
      },
      "outputs": [
        {
          "output_type": "stream",
          "name": "stdout",
          "text": [
            "precision  0.5011795543905636\n",
            "recall  0.8430335097001763\n",
            "accuracy  0.9941930259758621\n",
            "F1 score  0.6286371855992109\n"
          ]
        }
      ],
      "source": [
        "print ('precision ',precision_score(y_test, Preds))\n",
        "print ('recall ',recall_score(y_test, Preds) )\n",
        "print ('accuracy ',accuracy_score(y_test, Preds))\n",
        "print ('F1 score ',f1_score(y_test, Preds))"
      ],
      "id": "gwp5dP_FB2wu"
    },
    {
      "cell_type": "markdown",
      "metadata": {
        "id": "nJtuB5hNCtRM"
      },
      "source": [
        "Artificial Neural Network"
      ],
      "id": "nJtuB5hNCtRM"
    },
    {
      "cell_type": "code",
      "execution_count": 99,
      "metadata": {
        "id": "-sXcUU-aCrth"
      },
      "outputs": [],
      "source": [
        "from tensorflow.keras.wrappers.scikit_learn import KerasClassifier\n",
        "from tensorflow.keras.layers import *\n",
        "from tensorflow.keras.models import *\n",
        "from tensorflow.keras.optimizers import *\n",
        "from tensorflow.keras.callbacks import LearningRateScheduler\n",
        "from tensorflow.keras.callbacks import EarlyStopping,ReduceLROnPlateau"
      ],
      "id": "-sXcUU-aCrth"
    },
    {
      "cell_type": "code",
      "execution_count": 100,
      "metadata": {
        "id": "DOZg5MObCrwL"
      },
      "outputs": [],
      "source": [
        "xtr, xte, ytr, yte = train_test_split(X, y, test_size = 0.30 , shuffle = True)"
      ],
      "id": "DOZg5MObCrwL"
    },
    {
      "cell_type": "code",
      "execution_count": 101,
      "metadata": {
        "id": "K-g-jP0qCryv"
      },
      "outputs": [],
      "source": [
        "def build_classifier(opt):\n",
        "    model = Sequential()\n",
        "    model.add(Dense(units = 32,kernel_initializer=\"uniform\",activation=\"relu\"))\n",
        "    model.add(Dense(units = 64,kernel_initializer=\"uniform\",activation=\"relu\"))\n",
        "    model.add(Dropout(0.5))\n",
        "    model.add(Dense(units = 32,kernel_initializer=\"uniform\",activation=\"relu\"))\n",
        "    model.add(Dense(units = 1,kernel_initializer=\"uniform\",activation=\"sigmoid\"))\n",
        "    model.compile(optimizer = opt,loss=\"binary_crossentropy\",metrics=['Recall','acc'])\n",
        "    return model"
      ],
      "id": "K-g-jP0qCryv"
    },
    {
      "cell_type": "code",
      "execution_count": 102,
      "metadata": {
        "id": "0Ox68uQCCr1X",
        "colab": {
          "base_uri": "https://localhost:8080/"
        },
        "outputId": "8b7bb8b8-b07b-48fe-d19c-3f5613e3d664"
      },
      "outputs": [
        {
          "output_type": "stream",
          "name": "stdout",
          "text": [
            "Epoch 1/10\n",
            "2482/2482 [==============================] - 19s 7ms/step - loss: 0.0653 - recall: 0.0000e+00 - acc: 0.9941 - val_loss: 0.0445 - val_recall: 0.0000e+00 - val_acc: 0.9941 - lr: 0.0010\n",
            "Epoch 2/10\n",
            "2482/2482 [==============================] - 18s 7ms/step - loss: 0.0341 - recall: 0.0980 - acc: 0.9945 - val_loss: 0.0296 - val_recall: 0.2667 - val_acc: 0.9949 - lr: 0.0010\n",
            "Epoch 3/10\n",
            "2482/2482 [==============================] - 19s 8ms/step - loss: 0.0264 - recall: 0.2457 - acc: 0.9949 - val_loss: 0.0288 - val_recall: 0.0105 - val_acc: 0.9941 - lr: 0.0010\n",
            "Epoch 4/10\n",
            "2482/2482 [==============================] - 19s 8ms/step - loss: 0.0234 - recall: 0.3355 - acc: 0.9955 - val_loss: 0.0225 - val_recall: 0.2053 - val_acc: 0.9953 - lr: 0.0010\n",
            "Epoch 5/10\n",
            "2482/2482 [==============================] - 19s 8ms/step - loss: 0.0206 - recall: 0.4112 - acc: 0.9962 - val_loss: 0.0225 - val_recall: 0.2872 - val_acc: 0.9958 - lr: 0.0010\n",
            "Epoch 6/10\n",
            "2482/2482 [==============================] - 19s 8ms/step - loss: 0.0196 - recall: 0.4492 - acc: 0.9966 - val_loss: 0.0201 - val_recall: 0.3586 - val_acc: 0.9962 - lr: 0.0010\n",
            "Epoch 7/10\n",
            "2482/2482 [==============================] - 19s 8ms/step - loss: 0.0180 - recall: 0.4810 - acc: 0.9968 - val_loss: 0.0177 - val_recall: 0.4448 - val_acc: 0.9967 - lr: 0.0010\n",
            "Epoch 8/10\n",
            "2482/2482 [==============================] - 19s 8ms/step - loss: 0.0202 - recall: 0.4169 - acc: 0.9963 - val_loss: 0.0181 - val_recall: 0.4150 - val_acc: 0.9965 - lr: 0.0010\n",
            "Epoch 9/10\n",
            "2482/2482 [==============================] - 19s 8ms/step - loss: 0.0211 - recall: 0.4031 - acc: 0.9962 - val_loss: 0.0212 - val_recall: 0.2519 - val_acc: 0.9956 - lr: 0.0010\n",
            "Epoch 10/10\n",
            "2475/2482 [============================>.] - ETA: 0s - loss: 0.0188 - recall: 0.4473 - acc: 0.9965\n",
            "Epoch 10: ReduceLROnPlateau reducing learning rate to 0.00010000000474974513.\n",
            "2482/2482 [==============================] - 17s 7ms/step - loss: 0.0188 - recall: 0.4473 - acc: 0.9965 - val_loss: 0.0180 - val_recall: 0.4032 - val_acc: 0.9965 - lr: 0.0010\n"
          ]
        }
      ],
      "source": [
        "## Using Adam optimiser and exerimting with different batch size\n",
        "opt='adam'\n",
        "model1 = build_classifier(opt)\n",
        "\n",
        "history = model1.fit(xtr,ytr,epochs=10,batch_size=256,shuffle=True,verbose=1,validation_split=0.3, callbacks=[ReduceLROnPlateau(patience=3, verbose=1, min_lr=1e-6), \n",
        "                               EarlyStopping(patience=5, verbose=1)])\n",
        "\n",
        "#clear_output()\n",
        "\n",
        "predictions = (model1.predict(xte) > 0.5).astype('int32').reshape(xte.shape[0],)\n"
      ],
      "id": "0Ox68uQCCr1X"
    },
    {
      "cell_type": "code",
      "execution_count": 103,
      "metadata": {
        "colab": {
          "base_uri": "https://localhost:8080/",
          "height": 663
        },
        "id": "zkwiRY5gCr39",
        "outputId": "847a5089-7395-4004-d766-02cdfbf421cb"
      },
      "outputs": [
        {
          "output_type": "stream",
          "name": "stdout",
          "text": [
            "              precision    recall  f1-score   support\n",
            "\n",
            "         0.0       1.00      1.00      1.00    386805\n",
            "         1.0       1.00      0.40      0.57      2210\n",
            "\n",
            "    accuracy                           1.00    389015\n",
            "   macro avg       1.00      0.70      0.79    389015\n",
            "weighted avg       1.00      1.00      1.00    389015\n",
            "\n"
          ]
        },
        {
          "output_type": "display_data",
          "data": {
            "text/plain": [
              "<Figure size 576x576 with 1 Axes>"
            ],
            "image/png": "[encoded data removed]"
          },
          "metadata": {
            "needs_background": "light"
          }
        }
      ],
      "source": [
        "from sklearn.metrics import confusion_matrix\n",
        "\n",
        "conf_matrix = confusion_matrix(yte, predictions)\n",
        "print(classification_report(yte, predictions))\n",
        "\n",
        "plt.figure(figsize=(8,8))\n",
        "ax = plt.axes()\n",
        "sns.heatmap(conf_matrix,annot=True,fmt='g',cbar=False,axes=ax,cmap =\"YlGnBu\",linewidths=1,linecolor='black')\n",
        "ax.set_title('ANN Confusion Matrix')\n",
        "\n",
        "plt.show()\n"
      ],
      "id": "zkwiRY5gCr39"
    },
    {
      "cell_type": "code",
      "execution_count": 104,
      "metadata": {
        "colab": {
          "base_uri": "https://localhost:8080/",
          "height": 268
        },
        "id": "m1rHDlayCr60",
        "outputId": "1faccad7-1d0f-4ac7-ce9c-7020bce4ac8d"
      },
      "outputs": [
        {
          "output_type": "display_data",
          "data": {
            "text/plain": [
              "<Figure size 432x288 with 1 Axes>"
            ],
            "image/png": "[encoded data removed]"
          },
          "metadata": {
            "needs_background": "light"
          }
        }
      ],
      "source": [
        "plt.plot(history.history['acc'], label='train')\n",
        "plt.plot(history.history['val_acc'], label='test')\n",
        "plt.legend()\n",
        "plt.show()"
      ],
      "id": "m1rHDlayCr60"
    },
    {
      "cell_type": "code",
      "execution_count": 105,
      "metadata": {
        "id": "7sASvYjgRBtY"
      },
      "outputs": [],
      "source": [
        "\n",
        "xtr, xte, ytr, yte = train_test_split(X, y, test_size = 0.25 , shuffle = True)"
      ],
      "id": "7sASvYjgRBtY"
    },
    {
      "cell_type": "code",
      "execution_count": 106,
      "metadata": {
        "colab": {
          "base_uri": "https://localhost:8080/"
        },
        "id": "_-V1RahORBwT",
        "outputId": "c685b7e4-7965-4fd6-9de2-f8acc713c6fc"
      },
      "outputs": [
        {
          "output_type": "stream",
          "name": "stdout",
          "text": [
            "Epoch 1/10\n",
            "3040/3040 [==============================] - 21s 7ms/step - loss: 1.0655 - recall: 0.0011 - acc: 0.9929 - val_loss: 0.0351 - val_recall: 0.0000e+00 - val_acc: 0.9943 - lr: 0.0100\n",
            "Epoch 2/10\n",
            "3040/3040 [==============================] - 20s 6ms/step - loss: 0.0358 - recall: 0.0000e+00 - acc: 0.9942 - val_loss: 0.0351 - val_recall: 0.0000e+00 - val_acc: 0.9943 - lr: 0.0100\n",
            "Epoch 3/10\n",
            "3040/3040 [==============================] - 20s 7ms/step - loss: 0.0358 - recall: 0.0000e+00 - acc: 0.9942 - val_loss: 0.0352 - val_recall: 0.0000e+00 - val_acc: 0.9943 - lr: 0.0100\n",
            "Epoch 4/10\n",
            "3036/3040 [============================>.] - ETA: 0s - loss: 0.0358 - recall: 0.0000e+00 - acc: 0.9942\n",
            "Epoch 4: ReduceLROnPlateau reducing learning rate to 0.0009999999776482583.\n",
            "3040/3040 [==============================] - 19s 6ms/step - loss: 0.0358 - recall: 0.0000e+00 - acc: 0.9942 - val_loss: 0.0352 - val_recall: 0.0000e+00 - val_acc: 0.9943 - lr: 0.0100\n",
            "Epoch 5/10\n",
            "3040/3040 [==============================] - 20s 7ms/step - loss: 0.0358 - recall: 0.0000e+00 - acc: 0.9942 - val_loss: 0.0352 - val_recall: 0.0000e+00 - val_acc: 0.9943 - lr: 1.0000e-03\n",
            "Epoch 6/10\n",
            "3040/3040 [==============================] - 20s 7ms/step - loss: 0.0358 - recall: 0.0000e+00 - acc: 0.9942 - val_loss: 0.0351 - val_recall: 0.0000e+00 - val_acc: 0.9943 - lr: 1.0000e-03\n",
            "Epoch 7/10\n",
            "3039/3040 [============================>.] - ETA: 0s - loss: 0.0358 - recall: 0.0000e+00 - acc: 0.9942\n",
            "Epoch 7: ReduceLROnPlateau reducing learning rate to 9.999999310821295e-05.\n",
            "3040/3040 [==============================] - 20s 6ms/step - loss: 0.0358 - recall: 0.0000e+00 - acc: 0.9942 - val_loss: 0.0351 - val_recall: 0.0000e+00 - val_acc: 0.9943 - lr: 1.0000e-03\n",
            "Epoch 8/10\n",
            "3040/3040 [==============================] - 22s 7ms/step - loss: 0.0358 - recall: 0.0000e+00 - acc: 0.9942 - val_loss: 0.0351 - val_recall: 0.0000e+00 - val_acc: 0.9943 - lr: 1.0000e-04\n",
            "Epoch 9/10\n",
            "3040/3040 [==============================] - 20s 7ms/step - loss: 0.0358 - recall: 0.0000e+00 - acc: 0.9942 - val_loss: 0.0351 - val_recall: 0.0000e+00 - val_acc: 0.9943 - lr: 1.0000e-04\n",
            "Epoch 10/10\n",
            "3039/3040 [============================>.] - ETA: 0s - loss: 0.0358 - recall: 0.0000e+00 - acc: 0.9942\n",
            "Epoch 10: ReduceLROnPlateau reducing learning rate to 9.999999019782991e-06.\n",
            "3040/3040 [==============================] - 20s 7ms/step - loss: 0.0358 - recall: 0.0000e+00 - acc: 0.9942 - val_loss: 0.0351 - val_recall: 0.0000e+00 - val_acc: 0.9943 - lr: 1.0000e-04\n"
          ]
        }
      ],
      "source": [
        "## Using SGD optimiser and exerimting with different batch size\n",
        "opt = SGD(lr=0.01, momentum=0.9)\n",
        "model2 = build_classifier(opt)\n",
        "\n",
        "history = model2.fit(xtr,ytr,epochs=10,batch_size=256,shuffle=True,verbose=1,validation_split=0.2, callbacks=[ReduceLROnPlateau(patience=3, verbose=1, min_lr=1e-6), \n",
        "                               EarlyStopping(patience=5, verbose=1)])"
      ],
      "id": "_-V1RahORBwT"
    },
    {
      "cell_type": "code",
      "execution_count": 107,
      "metadata": {
        "colab": {
          "base_uri": "https://localhost:8080/",
          "height": 663
        },
        "id": "neEWaMMWRPf0",
        "outputId": "75cd99c2-0fa0-4805-a38e-eef3baf8c3c9"
      },
      "outputs": [
        {
          "output_type": "stream",
          "name": "stdout",
          "text": [
            "              precision    recall  f1-score   support\n",
            "\n",
            "         0.0       0.99      1.00      1.00    322310\n",
            "         1.0       0.00      0.00      0.00      1869\n",
            "\n",
            "    accuracy                           0.99    324179\n",
            "   macro avg       0.50      0.50      0.50    324179\n",
            "weighted avg       0.99      0.99      0.99    324179\n",
            "\n"
          ]
        },
        {
          "output_type": "display_data",
          "data": {
            "text/plain": [
              "<Figure size 576x576 with 1 Axes>"
            ],
            "image/png": "[encoded data removed]"
          },
          "metadata": {
            "needs_background": "light"
          }
        }
      ],
      "source": [
        "#clear_output()\n",
        "\n",
        "predictions = (model2.predict(xte) > 0.5).astype('int32').reshape(xte.shape[0],)\n",
        "conf_matrix = confusion_matrix(yte, predictions)\n",
        "print(classification_report(yte, predictions))\n",
        "\n",
        "plt.figure(figsize=(8,8))\n",
        "ax = plt.axes()\n",
        "sns.heatmap(conf_matrix,annot=True,fmt='g',cbar=False,axes=ax,cmap =\"YlGnBu\",linewidths=1,linecolor='black')\n",
        "ax.set_title('ANN Confusion Matrix')\n",
        "\n",
        "plt.show()"
      ],
      "id": "neEWaMMWRPf0"
    },
    {
      "cell_type": "code",
      "execution_count": 108,
      "metadata": {
        "colab": {
          "base_uri": "https://localhost:8080/",
          "height": 268
        },
        "id": "YvUSXuo7RPjC",
        "outputId": "799a8b79-652a-4238-8dbc-d257d6ffa5c1"
      },
      "outputs": [
        {
          "output_type": "display_data",
          "data": {
            "text/plain": [
              "<Figure size 432x288 with 1 Axes>"
            ],
            "image/png": "[encoded data removed]"
          },
          "metadata": {
            "needs_background": "light"
          }
        }
      ],
      "source": [
        "plt.plot(history.history['acc'], label='train')\n",
        "plt.plot(history.history['val_acc'], label='test')\n",
        "plt.legend()\n",
        "plt.show()"
      ],
      "id": "YvUSXuo7RPjC"
    },
    {
      "cell_type": "code",
      "execution_count": 109,
      "metadata": {
        "id": "q6iAsWGTRPlu"
      },
      "outputs": [],
      "source": [
        "xtr, xte, ytr, yte = train_test_split(X, y, test_size = 0.25 , shuffle = True)\n"
      ],
      "id": "q6iAsWGTRPlu"
    },
    {
      "cell_type": "code",
      "execution_count": 110,
      "metadata": {
        "id": "Z-CCTy5URPn0",
        "colab": {
          "base_uri": "https://localhost:8080/",
          "height": 1000
        },
        "outputId": "54b8152d-9386-4a63-eee8-b5c36a239d16"
      },
      "outputs": [
        {
          "output_type": "stream",
          "name": "stdout",
          "text": [
            "Epoch 1/10\n",
            "1557/1557 [==============================] - 14s 8ms/step - loss: 0.0730 - recall: 6.5531e-04 - acc: 0.9935 - val_loss: 0.0389 - val_recall: 0.0000e+00 - val_acc: 0.9944 - lr: 0.0010\n",
            "Epoch 2/10\n",
            "1557/1557 [==============================] - 13s 8ms/step - loss: 0.0459 - recall: 0.0000e+00 - acc: 0.9941 - val_loss: 0.0415 - val_recall: 0.0000e+00 - val_acc: 0.9944 - lr: 0.0010\n",
            "Epoch 3/10\n",
            "1557/1557 [==============================] - 11s 7ms/step - loss: 0.0401 - recall: 0.0000e+00 - acc: 0.9941 - val_loss: 0.0326 - val_recall: 0.0000e+00 - val_acc: 0.9944 - lr: 0.0010\n",
            "Epoch 4/10\n",
            "1557/1557 [==============================] - 11s 7ms/step - loss: 0.0364 - recall: 0.0712 - acc: 0.9941 - val_loss: 0.0349 - val_recall: 0.0430 - val_acc: 0.9944 - lr: 0.0010\n",
            "Epoch 5/10\n",
            "1557/1557 [==============================] - 11s 7ms/step - loss: 0.0346 - recall: 0.2123 - acc: 0.9943 - val_loss: 0.0271 - val_recall: 0.2562 - val_acc: 0.9949 - lr: 0.0010\n",
            "Epoch 6/10\n",
            "1557/1557 [==============================] - 13s 8ms/step - loss: 0.0357 - recall: 0.3104 - acc: 0.9943 - val_loss: 0.0192 - val_recall: 0.2269 - val_acc: 0.9951 - lr: 0.0010\n",
            "Epoch 7/10\n",
            "1557/1557 [==============================] - 12s 8ms/step - loss: 0.0315 - recall: 0.3668 - acc: 0.9949 - val_loss: 0.0193 - val_recall: 0.3898 - val_acc: 0.9954 - lr: 0.0010\n",
            "Epoch 8/10\n",
            "1557/1557 [==============================] - 13s 8ms/step - loss: 0.0298 - recall: 0.4168 - acc: 0.9950 - val_loss: 0.0207 - val_recall: 0.3962 - val_acc: 0.9956 - lr: 0.0010\n",
            "Epoch 9/10\n",
            "1553/1557 [============================>.] - ETA: 0s - loss: 0.0310 - recall: 0.4234 - acc: 0.9951\n",
            "Epoch 9: ReduceLROnPlateau reducing learning rate to 0.00010000000474974513.\n",
            "1557/1557 [==============================] - 11s 7ms/step - loss: 0.0310 - recall: 0.4225 - acc: 0.9951 - val_loss: 0.0213 - val_recall: 0.4099 - val_acc: 0.9957 - lr: 0.0010\n",
            "Epoch 10/10\n",
            "1557/1557 [==============================] - 12s 8ms/step - loss: 0.0190 - recall: 0.4786 - acc: 0.9956 - val_loss: 0.0253 - val_recall: 0.5023 - val_acc: 0.9958 - lr: 1.0000e-04\n",
            "              precision    recall  f1-score   support\n",
            "\n",
            "         0.0       1.00      1.00      1.00    322344\n",
            "         1.0       0.70      0.52      0.60      1835\n",
            "\n",
            "    accuracy                           1.00    324179\n",
            "   macro avg       0.85      0.76      0.80    324179\n",
            "weighted avg       1.00      1.00      1.00    324179\n",
            "\n"
          ]
        },
        {
          "output_type": "display_data",
          "data": {
            "text/plain": [
              "<Figure size 576x576 with 1 Axes>"
            ],
            "image/png": "[encoded data removed]"
          },
          "metadata": {
            "needs_background": "light"
          }
        },
        {
          "output_type": "display_data",
          "data": {
            "text/plain": [
              "<Figure size 432x288 with 1 Axes>"
            ],
            "image/png": "[encoded data removed]"
          },
          "metadata": {
            "needs_background": "light"
          }
        }
      ],
      "source": [
        "## Using rmsprop optimiser and exerimting with different batch size\n",
        "opt = 'rmsprop'\n",
        "model3 = build_classifier(opt)\n",
        "\n",
        "history = model3.fit(xtr,ytr,epochs=10,batch_size=500,shuffle=True,verbose=1,validation_split=0.2, callbacks=[ReduceLROnPlateau(patience=3, verbose=1, min_lr=1e-6), \n",
        "                               EarlyStopping(patience=5, verbose=1)])\n",
        "\n",
        "#clear_output()\n",
        "\n",
        "predictions = (model3.predict(xte) > 0.5).astype('int32').reshape(xte.shape[0],)\n",
        "conf_matrix = confusion_matrix(yte, predictions)\n",
        "print(classification_report(yte, predictions))\n",
        "\n",
        "plt.figure(figsize=(8,8))\n",
        "ax = plt.axes()\n",
        "sns.heatmap(conf_matrix,annot=True,fmt='g',cbar=False,axes=ax,cmap =\"YlGnBu\",linewidths=1,linecolor='black')\n",
        "ax.set_title('ANN Confusion Matrix')\n",
        "plt.show()\n",
        "\n",
        "plt.plot(history.history['acc'], label='train')\n",
        "plt.plot(history.history['val_acc'], label='test')\n",
        "plt.legend()\n",
        "plt.show()"
      ],
      "id": "Z-CCTy5URPn0"
    },
    {
      "cell_type": "markdown",
      "source": [
        "# Saving The Models trained by Using Pickle"
      ],
      "metadata": {
        "id": "24nETVNl3TcV"
      },
      "id": "24nETVNl3TcV"
    },
    {
      "cell_type": "code",
      "source": [
        "file  = 'Artificial_neural_Network.pkl'\n",
        "with open(file , 'wb' ) as f:\n",
        "  pickle.dump( model3 , f)"
      ],
      "metadata": {
        "colab": {
          "base_uri": "https://localhost:8080/"
        },
        "id": "QljYdEd-9AW4",
        "outputId": "b5782395-c1db-497e-d06f-db94e6e8453c"
      },
      "id": "QljYdEd-9AW4",
      "execution_count": 111,
      "outputs": [
        {
          "output_type": "stream",
          "name": "stdout",
          "text": [
            "INFO:tensorflow:Assets written to: ram://23cb70a1-c9d5-43cc-9ccf-aa8930c8e296/assets\n"
          ]
        }
      ]
    },
    {
      "cell_type": "code",
      "source": [
        "!pip install -U ibm-watson-machine-learning"
      ],
      "metadata": {
        "id": "Ndl-nQjRqzkc",
        "colab": {
          "base_uri": "https://localhost:8080/"
        },
        "outputId": "227f7095-77fc-41d4-9289-cb5eac81c34d"
      },
      "id": "Ndl-nQjRqzkc",
      "execution_count": 115,
      "outputs": [
        {
          "output_type": "stream",
          "name": "stdout",
          "text": [
            "Collecting ibm-watson-machine-learning\n",
            "  Downloading ibm_watson_machine_learning-1.0.204-py3-none-any.whl (1.7 MB)\n",
            "\u001b[K     |████████████████████████████████| 1.7 MB 5.4 MB/s \n",
            "\u001b[?25hCollecting ibm-cos-sdk==2.7.*\n",
            "  Downloading ibm-cos-sdk-2.7.0.tar.gz (51 kB)\n",
            "\u001b[K     |████████████████████████████████| 51 kB 298 kB/s \n",
            "\u001b[?25hRequirement already satisfied: pandas<1.4.0,>=0.24.2 in /usr/local/lib/python3.7/dist-packages (from ibm-watson-machine-learning) (1.3.5)\n",
            "Collecting lomond\n",
            "  Downloading lomond-0.3.3-py2.py3-none-any.whl (35 kB)\n",
            "Requirement already satisfied: packaging in /usr/local/lib/python3.7/dist-packages (from ibm-watson-machine-learning) (21.3)\n",
            "Requirement already satisfied: certifi in /usr/local/lib/python3.7/dist-packages (from ibm-watson-machine-learning) (2021.10.8)\n",
            "Requirement already satisfied: urllib3 in /usr/local/lib/python3.7/dist-packages (from ibm-watson-machine-learning) (1.24.3)\n",
            "Requirement already satisfied: tabulate in /usr/local/lib/python3.7/dist-packages (from ibm-watson-machine-learning) (0.8.9)\n",
            "Requirement already satisfied: importlib-metadata in /usr/local/lib/python3.7/dist-packages (from ibm-watson-machine-learning) (4.11.3)\n",
            "Requirement already satisfied: requests in /usr/local/lib/python3.7/dist-packages (from ibm-watson-machine-learning) (2.23.0)\n",
            "Collecting ibm-cos-sdk-core==2.7.0\n",
            "  Downloading ibm-cos-sdk-core-2.7.0.tar.gz (824 kB)\n",
            "\u001b[K     |████████████████████████████████| 824 kB 33.4 MB/s \n",
            "\u001b[?25hCollecting ibm-cos-sdk-s3transfer==2.7.0\n",
            "  Downloading ibm-cos-sdk-s3transfer-2.7.0.tar.gz (133 kB)\n",
            "\u001b[K     |████████████████████████████████| 133 kB 29.8 MB/s \n",
            "\u001b[?25hCollecting jmespath<1.0.0,>=0.7.1\n",
            "  Downloading jmespath-0.10.0-py2.py3-none-any.whl (24 kB)\n",
            "Collecting docutils<0.16,>=0.10\n",
            "  Downloading docutils-0.15.2-py3-none-any.whl (547 kB)\n",
            "\u001b[K     |████████████████████████████████| 547 kB 20.5 MB/s \n",
            "\u001b[?25hRequirement already satisfied: python-dateutil<3.0.0,>=2.1 in /usr/local/lib/python3.7/dist-packages (from ibm-cos-sdk-core==2.7.0->ibm-cos-sdk==2.7.*->ibm-watson-machine-learning) (2.8.2)\n",
            "Requirement already satisfied: pytz>=2017.3 in /usr/local/lib/python3.7/dist-packages (from pandas<1.4.0,>=0.24.2->ibm-watson-machine-learning) (2018.9)\n",
            "Requirement already satisfied: numpy>=1.17.3 in /usr/local/lib/python3.7/dist-packages (from pandas<1.4.0,>=0.24.2->ibm-watson-machine-learning) (1.21.5)\n",
            "Requirement already satisfied: six>=1.5 in /usr/local/lib/python3.7/dist-packages (from python-dateutil<3.0.0,>=2.1->ibm-cos-sdk-core==2.7.0->ibm-cos-sdk==2.7.*->ibm-watson-machine-learning) (1.15.0)\n",
            "Requirement already satisfied: chardet<4,>=3.0.2 in /usr/local/lib/python3.7/dist-packages (from requests->ibm-watson-machine-learning) (3.0.4)\n",
            "Requirement already satisfied: idna<3,>=2.5 in /usr/local/lib/python3.7/dist-packages (from requests->ibm-watson-machine-learning) (2.10)\n",
            "Requirement already satisfied: typing-extensions>=3.6.4 in /usr/local/lib/python3.7/dist-packages (from importlib-metadata->ibm-watson-machine-learning) (4.1.1)\n",
            "Requirement already satisfied: zipp>=0.5 in /usr/local/lib/python3.7/dist-packages (from importlib-metadata->ibm-watson-machine-learning) (3.8.0)\n",
            "Requirement already satisfied: pyparsing!=3.0.5,>=2.0.2 in /usr/local/lib/python3.7/dist-packages (from packaging->ibm-watson-machine-learning) (3.0.8)\n",
            "Building wheels for collected packages: ibm-cos-sdk, ibm-cos-sdk-core, ibm-cos-sdk-s3transfer\n",
            "  Building wheel for ibm-cos-sdk (setup.py) ... \u001b[?25l\u001b[?25hdone\n",
            "  Created wheel for ibm-cos-sdk: filename=ibm_cos_sdk-2.7.0-py2.py3-none-any.whl size=72564 sha256=15ac7564efe15b03cb6f0aa870d45efbdce6206314a558ea9479c5a555afc266\n",
            "  Stored in directory: /root/.cache/pip/wheels/47/22/bf/e1154ff0f5de93cc477acd0ca69abfbb8b799c5b28a66b44c2\n",
            "  Building wheel for ibm-cos-sdk-core (setup.py) ... \u001b[?25l\u001b[?25hdone\n",
            "  Created wheel for ibm-cos-sdk-core: filename=ibm_cos_sdk_core-2.7.0-py2.py3-none-any.whl size=501013 sha256=c8a4ab789d16a14bff6b269997dc15002f69236e536020627f881b63fa440ef4\n",
            "  Stored in directory: /root/.cache/pip/wheels/6c/a2/e4/c16d02f809a3ea998e17cfd02c13369281f3d232aaf5902c19\n",
            "  Building wheel for ibm-cos-sdk-s3transfer (setup.py) ... \u001b[?25l\u001b[?25hdone\n",
            "  Created wheel for ibm-cos-sdk-s3transfer: filename=ibm_cos_sdk_s3transfer-2.7.0-py2.py3-none-any.whl size=88619 sha256=b4e7b4ed3acc4b5c4fe2460cdf8daadf9107dfadd54c23d8a504878e71fbabcb\n",
            "  Stored in directory: /root/.cache/pip/wheels/5f/b7/14/fbe02bc1ef1af890650c7e51743d1c83890852e598d164b9da\n",
            "Successfully built ibm-cos-sdk ibm-cos-sdk-core ibm-cos-sdk-s3transfer\n",
            "Installing collected packages: jmespath, docutils, ibm-cos-sdk-core, ibm-cos-sdk-s3transfer, lomond, ibm-cos-sdk, ibm-watson-machine-learning\n",
            "  Attempting uninstall: docutils\n",
            "    Found existing installation: docutils 0.17.1\n",
            "    Uninstalling docutils-0.17.1:\n",
            "      Successfully uninstalled docutils-0.17.1\n",
            "\u001b[31mERROR: pip's dependency resolver does not currently take into account all the packages that are installed. This behaviour is the source of the following dependency conflicts.\n",
            "datascience 0.10.6 requires folium==0.2.1, but you have folium 0.8.3 which is incompatible.\u001b[0m\n",
            "Successfully installed docutils-0.15.2 ibm-cos-sdk-2.7.0 ibm-cos-sdk-core-2.7.0 ibm-cos-sdk-s3transfer-2.7.0 ibm-watson-machine-learning-1.0.204 jmespath-0.10.0 lomond-0.3.3\n"
          ]
        }
      ]
    },
    {
      "cell_type": "code",
      "source": [
        "from ibm_watson_machine_learning import APIClient\n",
        "import json\n",
        "import numpy as np"
      ],
      "metadata": {
        "id": "H1DmNBr9qzoB"
      },
      "id": "H1DmNBr9qzoB",
      "execution_count": 116,
      "outputs": []
    },
    {
      "cell_type": "code",
      "source": [
        "wml_credentials = {\n",
        "    \"apikey\":\"rQkHxVs97AJzEKqC5N_eqjOcPt49ub2aC6YGYujTyUWl\",\n",
        "    \"url\":\"https://us-south.ml.cloud.ibm.com\"\n",
        "}"
      ],
      "metadata": {
        "id": "P6VyjS0fqztE"
      },
      "id": "P6VyjS0fqztE",
      "execution_count": 117,
      "outputs": []
    },
    {
      "cell_type": "code",
      "source": [
        "wml_client = APIClient(wml_credentials)\n",
        "wml_client.spaces.list()"
      ],
      "metadata": {
        "colab": {
          "base_uri": "https://localhost:8080/"
        },
        "id": "-XDzcS6oqzwU",
        "outputId": "ab942a03-a92f-46fe-ef37-6f1ca1a91fb3"
      },
      "id": "-XDzcS6oqzwU",
      "execution_count": 118,
      "outputs": [
        {
          "output_type": "stream",
          "name": "stdout",
          "text": [
            "Python 3.7 and 3.8 frameworks are deprecated and will be removed in a future release. Use Python 3.9 framework instead.\n",
            "Note: 'limit' is not provided. Only first 50 records will be displayed if the number of records exceed 50\n",
            "------------------------------------  ---------------------  ------------------------\n",
            "ID                                    NAME                   CREATED\n",
            "9a4eae61-c3c4-4c20-9af1-6cd36c4ba6a5  Credit_Card_fraud_ANN  2022-04-18T07:02:58.833Z\n",
            "------------------------------------  ---------------------  ------------------------\n"
          ]
        }
      ]
    },
    {
      "cell_type": "code",
      "source": [
        "SPACE_ID=\"9a4eae61-c3c4-4c20-9af1-6cd36c4ba6a5\""
      ],
      "metadata": {
        "id": "lmgwFJDEqzz_"
      },
      "id": "lmgwFJDEqzz_",
      "execution_count": 119,
      "outputs": []
    },
    {
      "cell_type": "code",
      "source": [
        "wml_client.set.default_space(SPACE_ID)"
      ],
      "metadata": {
        "colab": {
          "base_uri": "https://localhost:8080/",
          "height": 35
        },
        "id": "ZIG7sxh9qz3R",
        "outputId": "9c5edcc9-459c-4a45-98e2-472ceb664fa1"
      },
      "id": "ZIG7sxh9qz3R",
      "execution_count": 120,
      "outputs": [
        {
          "output_type": "execute_result",
          "data": {
            "text/plain": [
              "'SUCCESS'"
            ],
            "application/vnd.google.colaboratory.intrinsic+json": {
              "type": "string"
            }
          },
          "metadata": {},
          "execution_count": 120
        }
      ]
    },
    {
      "cell_type": "code",
      "source": [
        "MODEL_NAME = 'redit_Card_fraud_ANN'\n",
        "DEPLOYMENT_NAME = 'Fraud Deployment'\n",
        "BEST_MODEL = logreg"
      ],
      "metadata": {
        "id": "XUZlALcUqz6l"
      },
      "id": "XUZlALcUqz6l",
      "execution_count": 121,
      "outputs": []
    },
    {
      "cell_type": "code",
      "source": [
        "# Set Python Version\n",
        "software_spec_uid = wml_client.software_specifications.get_id_by_name('default_py3.7')\n",
        "\n",
        "# Setup model meta\n",
        "model_props = {\n",
        "    wml_client.repository.ModelMetaNames.NAME: MODEL_NAME, \n",
        "    wml_client.repository.ModelMetaNames.TYPE: 'scikit-learn_1.0.2', \n",
        "    wml_client.repository.ModelMetaNames.SOFTWARE_SPEC_UID: software_spec_uid \n",
        "}\n"
      ],
      "metadata": {
        "id": "jeiTWNA5qz76"
      },
      "id": "jeiTWNA5qz76",
      "execution_count": 122,
      "outputs": []
    },
    {
      "cell_type": "code",
      "source": [
        "#Save model\n",
        "model_details = wml_client.repository.store_model(\n",
        "    model=BEST_MODEL, \n",
        "    meta_props=model_props, \n",
        "    training_data=X_train, \n",
        "    training_target=y_train,\n",
        "    \n",
        ")"
      ],
      "metadata": {
        "id": "z_b1bpd8s6BG",
        "colab": {
          "base_uri": "https://localhost:8080/",
          "height": 1000
        },
        "outputId": "1378309b-df7d-4389-8491-2ea81de7eeb6"
      },
      "id": "z_b1bpd8s6BG",
      "execution_count": 123,
      "outputs": [
        {
          "output_type": "stream",
          "name": "stdout",
          "text": [
            "Traceback (most recent call last):\n",
            "  File \"/usr/local/lib/python3.7/dist-packages/ibm_watson_machine_learning/libs/repo/mlrepositoryclient/model_collection.py\", line 254, in _save_scikit_pipeline_model\n",
            "    model_artifact = self._create_pipeline_model(artifact, query_param)\n",
            "  File \"/usr/local/lib/python3.7/dist-packages/ibm_watson_machine_learning/libs/repo/mlrepositoryclient/model_collection.py\", line 514, in _create_pipeline_model\n",
            "    model_artifact = self._create_pipeline_model_v4_cloud(model_artifact, query_param)\n",
            "  File \"/usr/local/lib/python3.7/dist-packages/ibm_watson_machine_learning/libs/repo/mlrepositoryclient/model_collection.py\", line 1148, in _create_pipeline_model_v4_cloud\n",
            "    model_output = self.repository_api.ml_assets_model_creation_v4_cloud(model_input, query_param,headers)\n",
            "  File \"/usr/local/lib/python3.7/dist-packages/ibm_watson_machine_learning/libs/repo/swagger_client/apis/repository_api.py\", line 301, in ml_assets_model_creation_v4_cloud\n",
            "    (data) = self.ml_assets_model_creation_v4_cloud_with_http_info(models_input,query_param, headers, **kwargs)\n",
            "  File \"/usr/local/lib/python3.7/dist-packages/ibm_watson_machine_learning/libs/repo/swagger_client/apis/repository_api.py\", line 384, in ml_assets_model_creation_v4_cloud_with_http_info\n",
            "    _return_http_data_only=params.get('_return_http_data_only'))\n",
            "  File \"/usr/local/lib/python3.7/dist-packages/ibm_watson_machine_learning/libs/repo/swagger_client/api_client.py\", line 389, in call_api\n",
            "    response_type, auth_settings, callback, _return_http_data_only)\n",
            "  File \"/usr/local/lib/python3.7/dist-packages/ibm_watson_machine_learning/libs/repo/swagger_client/api_client.py\", line 209, in __call_api\n",
            "    post_params=post_params, body=body)\n",
            "  File \"/usr/local/lib/python3.7/dist-packages/ibm_watson_machine_learning/libs/repo/swagger_client/api_client.py\", line 425, in request\n",
            "    body=body)\n",
            "  File \"/usr/local/lib/python3.7/dist-packages/ibm_watson_machine_learning/libs/repo/swagger_client/rest.py\", line 234, in POST\n",
            "    body=body)\n",
            "  File \"/usr/local/lib/python3.7/dist-packages/ibm_watson_machine_learning/libs/repo/swagger_client/rest.py\", line 202, in request\n",
            "    raise ApiException(http_resp=r)\n",
            "ibm_watson_machine_learning.libs.repo.swagger_client.rest.ApiException: (400)\n",
            "Reason: Bad Request\n",
            "HTTP response headers: HTTPHeaderDict({'Date': 'Tue, 19 Apr 2022 04:38:51 GMT', 'Content-Type': 'application/json', 'Content-Length': '284', 'Connection': 'keep-alive', 'server-timing': 'intid;desc=51ba2fcf65048665, intid;desc=51ba2fcf65048665', 'Strict-Transport-Security': 'max-age=31536000; includeSubDomains', 'CF-Cache-Status': 'DYNAMIC', 'Expect-CT': 'max-age=604800, report-uri=\"https://report-uri.cloudflare.com/cdn-cgi/beacon/expect-ct\"', 'Server': 'cloudflare', 'CF-RAY': '6fe2f3f748512f2c-ORD'})\n",
            "HTTP response body: {\n",
            "  \"trace\": \"fb9618396fa7a176cc828b4e460fe81d\",\n",
            "  \"errors\": [{\n",
            "    \"code\": \"invalid_request_entity\",\n",
            "    \"message\": \"Invalid request entity: Unsupported model type 'scikit-learn_1.0.2'\",\n",
            "    \"more_info\": \"https://cloud.ibm.com/apidocs/machine-learning\"\n",
            "  }],\n",
            "  \"status_code\": \"400\"\n",
            "}\n",
            "\n",
            "\n"
          ]
        },
        {
          "output_type": "error",
          "ename": "WMLClientError",
          "evalue": "ignored",
          "traceback": [
            "\u001b[0;31m---------------------------------------------------------------------------\u001b[0m",
            "\u001b[0;31mApiException\u001b[0m                              Traceback (most recent call last)",
            "\u001b[0;32m/usr/local/lib/python3.7/dist-packages/ibm_watson_machine_learning/models.py\u001b[0m in \u001b[0;36m_publish_from_object_cloud\u001b[0;34m(self, model, meta_props, training_data, training_target, pipeline, feature_names, label_column_names, project_id)\u001b[0m\n\u001b[1;32m   2433\u001b[0m                 saved_model = self._client.repository._ml_repository_client.models.save(model_artifact,\n\u001b[0;32m-> 2434\u001b[0;31m                                                                                         query_param=query_param_for_repo_client)\n\u001b[0m\u001b[1;32m   2435\u001b[0m                 \u001b[0;32mreturn\u001b[0m \u001b[0mself\u001b[0m\u001b[0;34m.\u001b[0m\u001b[0mget_details\u001b[0m\u001b[0;34m(\u001b[0m\u001b[0;34mu'{}'\u001b[0m\u001b[0;34m.\u001b[0m\u001b[0mformat\u001b[0m\u001b[0;34m(\u001b[0m\u001b[0msaved_model\u001b[0m\u001b[0;34m.\u001b[0m\u001b[0muid\u001b[0m\u001b[0;34m)\u001b[0m\u001b[0;34m)\u001b[0m\u001b[0;34m\u001b[0m\u001b[0;34m\u001b[0m\u001b[0m\n",
            "\u001b[0;32m/usr/local/lib/python3.7/dist-packages/ibm_watson_machine_learning/libs/repo/mlrepositoryclient/model_collection.py\u001b[0m in \u001b[0;36msave\u001b[0;34m(self, artifact, query_param)\u001b[0m\n\u001b[1;32m    212\u001b[0m         \u001b[0;32mif\u001b[0m \u001b[0martifact\u001b[0m\u001b[0;34m.\u001b[0m\u001b[0mmeta\u001b[0m\u001b[0;34m.\u001b[0m\u001b[0mprop\u001b[0m\u001b[0;34m(\u001b[0m\u001b[0mMetaNames\u001b[0m\u001b[0;34m.\u001b[0m\u001b[0mTYPE\u001b[0m\u001b[0;34m)\u001b[0m\u001b[0;34m.\u001b[0m\u001b[0mstartswith\u001b[0m\u001b[0;34m(\u001b[0m\u001b[0;34m\"scikit-learn\"\u001b[0m\u001b[0;34m)\u001b[0m\u001b[0;34m:\u001b[0m\u001b[0;34m\u001b[0m\u001b[0;34m\u001b[0m\u001b[0m\n\u001b[0;32m--> 213\u001b[0;31m             \u001b[0;32mreturn\u001b[0m \u001b[0mself\u001b[0m\u001b[0;34m.\u001b[0m\u001b[0m_save_scikit_pipeline_model\u001b[0m\u001b[0;34m(\u001b[0m\u001b[0martifact\u001b[0m\u001b[0;34m,\u001b[0m \u001b[0mquery_param\u001b[0m\u001b[0;34m)\u001b[0m\u001b[0;34m\u001b[0m\u001b[0;34m\u001b[0m\u001b[0m\n\u001b[0m\u001b[1;32m    214\u001b[0m         \u001b[0;32melif\u001b[0m \u001b[0martifact\u001b[0m\u001b[0;34m.\u001b[0m\u001b[0mmeta\u001b[0m\u001b[0;34m.\u001b[0m\u001b[0mprop\u001b[0m\u001b[0;34m(\u001b[0m\u001b[0mMetaNames\u001b[0m\u001b[0;34m.\u001b[0m\u001b[0mTYPE\u001b[0m\u001b[0;34m)\u001b[0m\u001b[0;34m.\u001b[0m\u001b[0mstartswith\u001b[0m\u001b[0;34m(\u001b[0m\u001b[0;34m\"xgboost\"\u001b[0m\u001b[0;34m)\u001b[0m\u001b[0;34m:\u001b[0m\u001b[0;34m\u001b[0m\u001b[0;34m\u001b[0m\u001b[0m\n",
            "\u001b[0;32m/usr/local/lib/python3.7/dist-packages/ibm_watson_machine_learning/libs/repo/mlrepositoryclient/model_collection.py\u001b[0m in \u001b[0;36m_save_scikit_pipeline_model\u001b[0;34m(self, artifact, query_param)\u001b[0m\n\u001b[1;32m    265\u001b[0m             \u001b[0mprint\u001b[0m\u001b[0;34m(\u001b[0m\u001b[0mtraceback\u001b[0m\u001b[0;34m.\u001b[0m\u001b[0mformat_exc\u001b[0m\u001b[0;34m(\u001b[0m\u001b[0;34m)\u001b[0m\u001b[0;34m)\u001b[0m\u001b[0;34m\u001b[0m\u001b[0;34m\u001b[0m\u001b[0m\n\u001b[0;32m--> 266\u001b[0;31m             \u001b[0;32mraise\u001b[0m \u001b[0me\u001b[0m\u001b[0;34m\u001b[0m\u001b[0;34m\u001b[0m\u001b[0m\n\u001b[0m\u001b[1;32m    267\u001b[0m \u001b[0;34m\u001b[0m\u001b[0m\n",
            "\u001b[0;32m/usr/local/lib/python3.7/dist-packages/ibm_watson_machine_learning/libs/repo/mlrepositoryclient/model_collection.py\u001b[0m in \u001b[0;36m_save_scikit_pipeline_model\u001b[0;34m(self, artifact, query_param)\u001b[0m\n\u001b[1;32m    253\u001b[0m             \u001b[0;32mif\u001b[0m \u001b[0martifact\u001b[0m\u001b[0;34m.\u001b[0m\u001b[0muid\u001b[0m \u001b[0;32mis\u001b[0m \u001b[0;32mNone\u001b[0m\u001b[0;34m:\u001b[0m\u001b[0;34m\u001b[0m\u001b[0;34m\u001b[0m\u001b[0m\n\u001b[0;32m--> 254\u001b[0;31m                 \u001b[0mmodel_artifact\u001b[0m \u001b[0;34m=\u001b[0m \u001b[0mself\u001b[0m\u001b[0;34m.\u001b[0m\u001b[0m_create_pipeline_model\u001b[0m\u001b[0;34m(\u001b[0m\u001b[0martifact\u001b[0m\u001b[0;34m,\u001b[0m \u001b[0mquery_param\u001b[0m\u001b[0;34m)\u001b[0m\u001b[0;34m\u001b[0m\u001b[0;34m\u001b[0m\u001b[0m\n\u001b[0m\u001b[1;32m    255\u001b[0m             \u001b[0;32melse\u001b[0m\u001b[0;34m:\u001b[0m\u001b[0;34m\u001b[0m\u001b[0;34m\u001b[0m\u001b[0m\n",
            "\u001b[0;32m/usr/local/lib/python3.7/dist-packages/ibm_watson_machine_learning/libs/repo/mlrepositoryclient/model_collection.py\u001b[0m in \u001b[0;36m_create_pipeline_model\u001b[0;34m(self, model_artifact, query_param)\u001b[0m\n\u001b[1;32m    513\u001b[0m     \u001b[0;32mdef\u001b[0m \u001b[0m_create_pipeline_model\u001b[0m\u001b[0;34m(\u001b[0m\u001b[0mself\u001b[0m\u001b[0;34m,\u001b[0m \u001b[0mmodel_artifact\u001b[0m\u001b[0;34m,\u001b[0m \u001b[0mquery_param\u001b[0m\u001b[0;34m=\u001b[0m\u001b[0;32mNone\u001b[0m\u001b[0;34m)\u001b[0m\u001b[0;34m:\u001b[0m\u001b[0;34m\u001b[0m\u001b[0;34m\u001b[0m\u001b[0m\n\u001b[0;32m--> 514\u001b[0;31m         \u001b[0mmodel_artifact\u001b[0m \u001b[0;34m=\u001b[0m \u001b[0mself\u001b[0m\u001b[0;34m.\u001b[0m\u001b[0m_create_pipeline_model_v4_cloud\u001b[0m\u001b[0;34m(\u001b[0m\u001b[0mmodel_artifact\u001b[0m\u001b[0;34m,\u001b[0m \u001b[0mquery_param\u001b[0m\u001b[0;34m)\u001b[0m\u001b[0;34m\u001b[0m\u001b[0;34m\u001b[0m\u001b[0m\n\u001b[0m\u001b[1;32m    515\u001b[0m         \u001b[0;32mreturn\u001b[0m \u001b[0mmodel_artifact\u001b[0m\u001b[0;34m\u001b[0m\u001b[0;34m\u001b[0m\u001b[0m\n",
            "\u001b[0;32m/usr/local/lib/python3.7/dist-packages/ibm_watson_machine_learning/libs/repo/mlrepositoryclient/model_collection.py\u001b[0m in \u001b[0;36m_create_pipeline_model_v4_cloud\u001b[0;34m(self, model_artifact, query_param)\u001b[0m\n\u001b[1;32m   1147\u001b[0m \u001b[0;34m\u001b[0m\u001b[0m\n\u001b[0;32m-> 1148\u001b[0;31m         \u001b[0mmodel_output\u001b[0m \u001b[0;34m=\u001b[0m \u001b[0mself\u001b[0m\u001b[0;34m.\u001b[0m\u001b[0mrepository_api\u001b[0m\u001b[0;34m.\u001b[0m\u001b[0mml_assets_model_creation_v4_cloud\u001b[0m\u001b[0;34m(\u001b[0m\u001b[0mmodel_input\u001b[0m\u001b[0;34m,\u001b[0m \u001b[0mquery_param\u001b[0m\u001b[0;34m,\u001b[0m\u001b[0mheaders\u001b[0m\u001b[0;34m)\u001b[0m\u001b[0;34m\u001b[0m\u001b[0;34m\u001b[0m\u001b[0m\n\u001b[0m\u001b[1;32m   1149\u001b[0m         \u001b[0;32mif\u001b[0m \u001b[0mmodel_output\u001b[0m \u001b[0;32mis\u001b[0m \u001b[0;32mnot\u001b[0m \u001b[0;32mNone\u001b[0m\u001b[0;34m:\u001b[0m\u001b[0;34m\u001b[0m\u001b[0;34m\u001b[0m\u001b[0m\n",
            "\u001b[0;32m/usr/local/lib/python3.7/dist-packages/ibm_watson_machine_learning/libs/repo/swagger_client/apis/repository_api.py\u001b[0m in \u001b[0;36mml_assets_model_creation_v4_cloud\u001b[0;34m(self, models_input, query_param, headers, **kwargs)\u001b[0m\n\u001b[1;32m    300\u001b[0m         \u001b[0;32melse\u001b[0m\u001b[0;34m:\u001b[0m\u001b[0;34m\u001b[0m\u001b[0;34m\u001b[0m\u001b[0m\n\u001b[0;32m--> 301\u001b[0;31m             \u001b[0;34m(\u001b[0m\u001b[0mdata\u001b[0m\u001b[0;34m)\u001b[0m \u001b[0;34m=\u001b[0m \u001b[0mself\u001b[0m\u001b[0;34m.\u001b[0m\u001b[0mml_assets_model_creation_v4_cloud_with_http_info\u001b[0m\u001b[0;34m(\u001b[0m\u001b[0mmodels_input\u001b[0m\u001b[0;34m,\u001b[0m\u001b[0mquery_param\u001b[0m\u001b[0;34m,\u001b[0m \u001b[0mheaders\u001b[0m\u001b[0;34m,\u001b[0m \u001b[0;34m**\u001b[0m\u001b[0mkwargs\u001b[0m\u001b[0;34m)\u001b[0m\u001b[0;34m\u001b[0m\u001b[0;34m\u001b[0m\u001b[0m\n\u001b[0m\u001b[1;32m    302\u001b[0m             \u001b[0;32mreturn\u001b[0m \u001b[0mdata\u001b[0m\u001b[0;34m\u001b[0m\u001b[0;34m\u001b[0m\u001b[0m\n",
            "\u001b[0;32m/usr/local/lib/python3.7/dist-packages/ibm_watson_machine_learning/libs/repo/swagger_client/apis/repository_api.py\u001b[0m in \u001b[0;36mml_assets_model_creation_v4_cloud_with_http_info\u001b[0;34m(self, models_input, query_param, headers, **kwargs)\u001b[0m\n\u001b[1;32m    383\u001b[0m                                             \u001b[0mcallback\u001b[0m\u001b[0;34m=\u001b[0m\u001b[0mparams\u001b[0m\u001b[0;34m.\u001b[0m\u001b[0mget\u001b[0m\u001b[0;34m(\u001b[0m\u001b[0;34m'callback'\u001b[0m\u001b[0;34m)\u001b[0m\u001b[0;34m,\u001b[0m\u001b[0;34m\u001b[0m\u001b[0;34m\u001b[0m\u001b[0m\n\u001b[0;32m--> 384\u001b[0;31m                                             _return_http_data_only=params.get('_return_http_data_only'))\n\u001b[0m\u001b[1;32m    385\u001b[0m \u001b[0;34m\u001b[0m\u001b[0m\n",
            "\u001b[0;32m/usr/local/lib/python3.7/dist-packages/ibm_watson_machine_learning/libs/repo/swagger_client/api_client.py\u001b[0m in \u001b[0;36mcall_api\u001b[0;34m(self, resource_path, method, path_params, query_params, header_params, body, post_params, files, response_type, auth_settings, callback, _return_http_data_only)\u001b[0m\n\u001b[1;32m    388\u001b[0m                                    \u001b[0mbody\u001b[0m\u001b[0;34m,\u001b[0m \u001b[0mpost_params\u001b[0m\u001b[0;34m,\u001b[0m \u001b[0mfiles\u001b[0m\u001b[0;34m,\u001b[0m\u001b[0;34m\u001b[0m\u001b[0;34m\u001b[0m\u001b[0m\n\u001b[0;32m--> 389\u001b[0;31m                                    response_type, auth_settings, callback, _return_http_data_only)\n\u001b[0m\u001b[1;32m    390\u001b[0m         \u001b[0;32melse\u001b[0m\u001b[0;34m:\u001b[0m\u001b[0;34m\u001b[0m\u001b[0;34m\u001b[0m\u001b[0m\n",
            "\u001b[0;32m/usr/local/lib/python3.7/dist-packages/ibm_watson_machine_learning/libs/repo/swagger_client/api_client.py\u001b[0m in \u001b[0;36m__call_api\u001b[0;34m(self, resource_path, method, path_params, query_params, header_params, body, post_params, files, response_type, auth_settings, callback, _return_http_data_only)\u001b[0m\n\u001b[1;32m    208\u001b[0m                                      \u001b[0mheaders\u001b[0m\u001b[0;34m=\u001b[0m\u001b[0mheader_params\u001b[0m\u001b[0;34m,\u001b[0m\u001b[0;34m\u001b[0m\u001b[0;34m\u001b[0m\u001b[0m\n\u001b[0;32m--> 209\u001b[0;31m                                      post_params=post_params, body=body)\n\u001b[0m\u001b[1;32m    210\u001b[0m \u001b[0;34m\u001b[0m\u001b[0m\n",
            "\u001b[0;32m/usr/local/lib/python3.7/dist-packages/ibm_watson_machine_learning/libs/repo/swagger_client/api_client.py\u001b[0m in \u001b[0;36mrequest\u001b[0;34m(self, method, url, query_params, headers, post_params, body)\u001b[0m\n\u001b[1;32m    424\u001b[0m                                          \u001b[0mpost_params\u001b[0m\u001b[0;34m=\u001b[0m\u001b[0mpost_params\u001b[0m\u001b[0;34m,\u001b[0m\u001b[0;34m\u001b[0m\u001b[0;34m\u001b[0m\u001b[0m\n\u001b[0;32m--> 425\u001b[0;31m                                          body=body)\n\u001b[0m\u001b[1;32m    426\u001b[0m         \u001b[0;32melif\u001b[0m \u001b[0mmethod\u001b[0m \u001b[0;34m==\u001b[0m \u001b[0;34m\"PUT\"\u001b[0m\u001b[0;34m:\u001b[0m\u001b[0;34m\u001b[0m\u001b[0;34m\u001b[0m\u001b[0m\n",
            "\u001b[0;32m/usr/local/lib/python3.7/dist-packages/ibm_watson_machine_learning/libs/repo/swagger_client/rest.py\u001b[0m in \u001b[0;36mPOST\u001b[0;34m(self, url, headers, query_params, post_params, body)\u001b[0m\n\u001b[1;32m    233\u001b[0m                             \u001b[0mpost_params\u001b[0m\u001b[0;34m=\u001b[0m\u001b[0mpost_params\u001b[0m\u001b[0;34m,\u001b[0m\u001b[0;34m\u001b[0m\u001b[0;34m\u001b[0m\u001b[0m\n\u001b[0;32m--> 234\u001b[0;31m                             body=body)\n\u001b[0m\u001b[1;32m    235\u001b[0m \u001b[0;34m\u001b[0m\u001b[0m\n",
            "\u001b[0;32m/usr/local/lib/python3.7/dist-packages/ibm_watson_machine_learning/libs/repo/swagger_client/rest.py\u001b[0m in \u001b[0;36mrequest\u001b[0;34m(self, method, url, query_params, headers, body, post_params)\u001b[0m\n\u001b[1;32m    201\u001b[0m         \u001b[0;32mif\u001b[0m \u001b[0mr\u001b[0m\u001b[0;34m.\u001b[0m\u001b[0mstatus\u001b[0m \u001b[0;32mnot\u001b[0m \u001b[0;32min\u001b[0m \u001b[0mrange\u001b[0m\u001b[0;34m(\u001b[0m\u001b[0;36m200\u001b[0m\u001b[0;34m,\u001b[0m \u001b[0;36m206\u001b[0m\u001b[0;34m)\u001b[0m\u001b[0;34m:\u001b[0m\u001b[0;34m\u001b[0m\u001b[0;34m\u001b[0m\u001b[0m\n\u001b[0;32m--> 202\u001b[0;31m             \u001b[0;32mraise\u001b[0m \u001b[0mApiException\u001b[0m\u001b[0;34m(\u001b[0m\u001b[0mhttp_resp\u001b[0m\u001b[0;34m=\u001b[0m\u001b[0mr\u001b[0m\u001b[0;34m)\u001b[0m\u001b[0;34m\u001b[0m\u001b[0;34m\u001b[0m\u001b[0m\n\u001b[0m\u001b[1;32m    203\u001b[0m \u001b[0;34m\u001b[0m\u001b[0m\n",
            "\u001b[0;31mApiException\u001b[0m: (400)\nReason: Bad Request\nHTTP response headers: HTTPHeaderDict({'Date': 'Tue, 19 Apr 2022 04:38:51 GMT', 'Content-Type': 'application/json', 'Content-Length': '284', 'Connection': 'keep-alive', 'server-timing': 'intid;desc=51ba2fcf65048665, intid;desc=51ba2fcf65048665', 'Strict-Transport-Security': 'max-age=31536000; includeSubDomains', 'CF-Cache-Status': 'DYNAMIC', 'Expect-CT': 'max-age=604800, report-uri=\"https://report-uri.cloudflare.com/cdn-cgi/beacon/expect-ct\"', 'Server': 'cloudflare', 'CF-RAY': '6fe2f3f748512f2c-ORD'})\nHTTP response body: {\n  \"trace\": \"fb9618396fa7a176cc828b4e460fe81d\",\n  \"errors\": [{\n    \"code\": \"invalid_request_entity\",\n    \"message\": \"Invalid request entity: Unsupported model type 'scikit-learn_1.0.2'\",\n    \"more_info\": \"https://cloud.ibm.com/apidocs/machine-learning\"\n  }],\n  \"status_code\": \"400\"\n}\n",
            "\nDuring handling of the above exception, another exception occurred:\n",
            "\u001b[0;31mWMLClientError\u001b[0m                            Traceback (most recent call last)",
            "\u001b[0;32m<ipython-input-123-3cb9e19a4ead>\u001b[0m in \u001b[0;36m<module>\u001b[0;34m()\u001b[0m\n\u001b[1;32m      4\u001b[0m     \u001b[0mmeta_props\u001b[0m\u001b[0;34m=\u001b[0m\u001b[0mmodel_props\u001b[0m\u001b[0;34m,\u001b[0m\u001b[0;34m\u001b[0m\u001b[0;34m\u001b[0m\u001b[0m\n\u001b[1;32m      5\u001b[0m     \u001b[0mtraining_data\u001b[0m\u001b[0;34m=\u001b[0m\u001b[0mX_train\u001b[0m\u001b[0;34m,\u001b[0m\u001b[0;34m\u001b[0m\u001b[0;34m\u001b[0m\u001b[0m\n\u001b[0;32m----> 6\u001b[0;31m     \u001b[0mtraining_target\u001b[0m\u001b[0;34m=\u001b[0m\u001b[0my_train\u001b[0m\u001b[0;34m,\u001b[0m\u001b[0;34m\u001b[0m\u001b[0;34m\u001b[0m\u001b[0m\n\u001b[0m\u001b[1;32m      7\u001b[0m \u001b[0;34m\u001b[0m\u001b[0m\n\u001b[1;32m      8\u001b[0m )\n",
            "\u001b[0;32m/usr/local/lib/python3.7/dist-packages/ibm_watson_machine_learning/repository.py\u001b[0m in \u001b[0;36mstore_model\u001b[0;34m(self, model, meta_props, training_data, training_target, pipeline, feature_names, label_column_names, subtrainingId)\u001b[0m\n\u001b[1;32m    409\u001b[0m             \"\"\"\n\u001b[1;32m    410\u001b[0m \u001b[0;34m\u001b[0m\u001b[0m\n\u001b[0;32m--> 411\u001b[0;31m         \u001b[0;32mreturn\u001b[0m \u001b[0mself\u001b[0m\u001b[0;34m.\u001b[0m\u001b[0m_client\u001b[0m\u001b[0;34m.\u001b[0m\u001b[0m_models\u001b[0m\u001b[0;34m.\u001b[0m\u001b[0mstore\u001b[0m\u001b[0;34m(\u001b[0m\u001b[0mmodel\u001b[0m\u001b[0;34m,\u001b[0m \u001b[0mmeta_props\u001b[0m\u001b[0;34m=\u001b[0m\u001b[0mmeta_props\u001b[0m\u001b[0;34m,\u001b[0m \u001b[0mtraining_data\u001b[0m\u001b[0;34m=\u001b[0m\u001b[0mtraining_data\u001b[0m\u001b[0;34m,\u001b[0m \u001b[0mtraining_target\u001b[0m\u001b[0;34m=\u001b[0m\u001b[0mtraining_target\u001b[0m\u001b[0;34m,\u001b[0m \u001b[0mpipeline\u001b[0m\u001b[0;34m=\u001b[0m\u001b[0mpipeline\u001b[0m\u001b[0;34m,\u001b[0m \u001b[0mfeature_names\u001b[0m\u001b[0;34m=\u001b[0m\u001b[0mfeature_names\u001b[0m\u001b[0;34m,\u001b[0m \u001b[0mlabel_column_names\u001b[0m\u001b[0;34m=\u001b[0m\u001b[0mlabel_column_names\u001b[0m\u001b[0;34m,\u001b[0m\u001b[0msubtrainingId\u001b[0m\u001b[0;34m=\u001b[0m\u001b[0msubtrainingId\u001b[0m\u001b[0;34m)\u001b[0m\u001b[0;34m\u001b[0m\u001b[0;34m\u001b[0m\u001b[0m\n\u001b[0m\u001b[1;32m    412\u001b[0m \u001b[0;34m\u001b[0m\u001b[0m\n\u001b[1;32m    413\u001b[0m     \u001b[0;34m@\u001b[0m\u001b[0mdocstring_parameter\u001b[0m\u001b[0;34m(\u001b[0m\u001b[0;34m{\u001b[0m\u001b[0;34m'str_type'\u001b[0m\u001b[0;34m:\u001b[0m \u001b[0mSTR_TYPE_NAME\u001b[0m\u001b[0;34m}\u001b[0m\u001b[0;34m)\u001b[0m\u001b[0;34m\u001b[0m\u001b[0;34m\u001b[0m\u001b[0m\n",
            "\u001b[0;32m/usr/local/lib/python3.7/dist-packages/ibm_watson_machine_learning/models.py\u001b[0m in \u001b[0;36mstore\u001b[0;34m(self, model, meta_props, training_data, training_target, pipeline, version, artifactid, feature_names, label_column_names, subtrainingId)\u001b[0m\n\u001b[1;32m   1478\u001b[0m                                                             \u001b[0mtraining_target\u001b[0m\u001b[0;34m=\u001b[0m\u001b[0mtraining_target\u001b[0m\u001b[0;34m,\u001b[0m \u001b[0mpipeline\u001b[0m\u001b[0;34m=\u001b[0m\u001b[0mpipeline\u001b[0m\u001b[0;34m,\u001b[0m\u001b[0;34m\u001b[0m\u001b[0;34m\u001b[0m\u001b[0m\n\u001b[1;32m   1479\u001b[0m                                                             \u001b[0mfeature_names\u001b[0m\u001b[0;34m=\u001b[0m\u001b[0mfeature_names\u001b[0m\u001b[0;34m,\u001b[0m\u001b[0;34m\u001b[0m\u001b[0;34m\u001b[0m\u001b[0m\n\u001b[0;32m-> 1480\u001b[0;31m                                                             label_column_names=label_column_names)\n\u001b[0m\u001b[1;32m   1481\u001b[0m                 \u001b[0;32melse\u001b[0m\u001b[0;34m:\u001b[0m\u001b[0;34m\u001b[0m\u001b[0;34m\u001b[0m\u001b[0m\n\u001b[1;32m   1482\u001b[0m                     \u001b[0msaved_model\u001b[0m \u001b[0;34m=\u001b[0m \u001b[0mself\u001b[0m\u001b[0;34m.\u001b[0m\u001b[0m_publish_from_object\u001b[0m\u001b[0;34m(\u001b[0m\u001b[0mmodel\u001b[0m\u001b[0;34m=\u001b[0m\u001b[0mmodel\u001b[0m\u001b[0;34m,\u001b[0m \u001b[0mmeta_props\u001b[0m\u001b[0;34m=\u001b[0m\u001b[0mmeta_props\u001b[0m\u001b[0;34m,\u001b[0m \u001b[0mtraining_data\u001b[0m\u001b[0;34m=\u001b[0m\u001b[0mtraining_data\u001b[0m\u001b[0;34m,\u001b[0m \u001b[0mtraining_target\u001b[0m\u001b[0;34m=\u001b[0m\u001b[0mtraining_target\u001b[0m\u001b[0;34m,\u001b[0m \u001b[0mpipeline\u001b[0m\u001b[0;34m=\u001b[0m\u001b[0mpipeline\u001b[0m\u001b[0;34m,\u001b[0m \u001b[0mfeature_names\u001b[0m\u001b[0;34m=\u001b[0m\u001b[0mfeature_names\u001b[0m\u001b[0;34m,\u001b[0m \u001b[0mlabel_column_names\u001b[0m\u001b[0;34m=\u001b[0m\u001b[0mlabel_column_names\u001b[0m\u001b[0;34m)\u001b[0m\u001b[0;34m\u001b[0m\u001b[0;34m\u001b[0m\u001b[0m\n",
            "\u001b[0;32m/usr/local/lib/python3.7/dist-packages/ibm_watson_machine_learning/models.py\u001b[0m in \u001b[0;36m_publish_from_object_cloud\u001b[0;34m(self, model, meta_props, training_data, training_target, pipeline, feature_names, label_column_names, project_id)\u001b[0m\n\u001b[1;32m   2436\u001b[0m \u001b[0;34m\u001b[0m\u001b[0m\n\u001b[1;32m   2437\u001b[0m         \u001b[0;32mexcept\u001b[0m \u001b[0mException\u001b[0m \u001b[0;32mas\u001b[0m \u001b[0me\u001b[0m\u001b[0;34m:\u001b[0m\u001b[0;34m\u001b[0m\u001b[0;34m\u001b[0m\u001b[0m\n\u001b[0;32m-> 2438\u001b[0;31m             \u001b[0;32mraise\u001b[0m \u001b[0mWMLClientError\u001b[0m\u001b[0;34m(\u001b[0m\u001b[0;34mu'Publishing model failed.'\u001b[0m\u001b[0;34m,\u001b[0m \u001b[0me\u001b[0m\u001b[0;34m)\u001b[0m\u001b[0;34m\u001b[0m\u001b[0;34m\u001b[0m\u001b[0m\n\u001b[0m\u001b[1;32m   2439\u001b[0m \u001b[0;34m\u001b[0m\u001b[0m\n\u001b[1;32m   2440\u001b[0m     \u001b[0;32mdef\u001b[0m \u001b[0m_upload_autoai_model_content\u001b[0m\u001b[0;34m(\u001b[0m\u001b[0mself\u001b[0m\u001b[0;34m,\u001b[0m \u001b[0mfile\u001b[0m\u001b[0;34m,\u001b[0m \u001b[0murl\u001b[0m\u001b[0;34m,\u001b[0m \u001b[0mqparams\u001b[0m\u001b[0;34m)\u001b[0m\u001b[0;34m:\u001b[0m\u001b[0;34m\u001b[0m\u001b[0;34m\u001b[0m\u001b[0m\n",
            "\u001b[0;31mWMLClientError\u001b[0m: Publishing model failed.\nReason: (400)\nReason: Bad Request\nHTTP response headers: HTTPHeaderDict({'Date': 'Tue, 19 Apr 2022 04:38:51 GMT', 'Content-Type': 'application/json', 'Content-Length': '284', 'Connection': 'keep-alive', 'server-timing': 'intid;desc=51ba2fcf65048665, intid;desc=51ba2fcf65048665', 'Strict-Transport-Security': 'max-age=31536000; includeSubDomains', 'CF-Cache-Status': 'DYNAMIC', 'Expect-CT': 'max-age=604800, report-uri=\"https://report-uri.cloudflare.com/cdn-cgi/beacon/expect-ct\"', 'Server': 'cloudflare', 'CF-RAY': '6fe2f3f748512f2c-ORD'})\nHTTP response body: {\n  \"trace\": \"fb9618396fa7a176cc828b4e460fe81d\",\n  \"errors\": [{\n    \"code\": \"invalid_request_entity\",\n    \"message\": \"Invalid request entity: Unsupported model type 'scikit-learn_1.0.2'\",\n    \"more_info\": \"https://cloud.ibm.com/apidocs/machine-learning\"\n  }],\n  \"status_code\": \"400\"\n}\n"
          ]
        }
      ]
    },
    {
      "cell_type": "code",
      "source": [
        ""
      ],
      "metadata": {
        "id": "3A_tJre3s6MR"
      },
      "id": "3A_tJre3s6MR",
      "execution_count": null,
      "outputs": []
    },
    {
      "cell_type": "code",
      "source": [
        ""
      ],
      "metadata": {
        "id": "99uNrikvs6Ps"
      },
      "id": "99uNrikvs6Ps",
      "execution_count": null,
      "outputs": []
    }
  ],
  "metadata": {
    "accelerator": "GPU",
    "colab": {
      "collapsed_sections": [],
      "name": "FInal_Part_2.ipynb",
      "provenance": [],
      "include_colab_link": true
    },
    "kernelspec": {
      "display_name": "Python 3 (ipykernel)",
      "language": "python",
      "name": "python3"
    },
    "language_info": {
      "codemirror_mode": {
        "name": "ipython",
        "version": 3
      },
      "file_extension": ".py",
      "mimetype": "text/x-python",
      "name": "python",
      "nbconvert_exporter": "python",
      "pygments_lexer": "ipython3",
      "version": "3.8.8"
    }
  },
  "nbformat": 4,
  "nbformat_minor": 5
}